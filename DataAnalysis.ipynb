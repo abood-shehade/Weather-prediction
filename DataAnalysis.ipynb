{
 "cells": [
  {
   "cell_type": "code",
   "execution_count": 17,
   "id": "78ebea9c",
   "metadata": {},
   "outputs": [],
   "source": [
    "import pandas as pd\n",
    "import matplotlib.pyplot as plt"
   ]
  },
  {
   "cell_type": "code",
   "execution_count": 11,
   "id": "9d47fe8b",
   "metadata": {},
   "outputs": [],
   "source": [
    "aqaba = pd.read_csv('Datasets-Ready\\\\Aqaba_Ready.csv', index_col=0)\n",
    "ghor = pd.read_csv('Datasets-Ready\\\\Ghor EL Safi_Ready.csv', index_col=0)\n",
    "irbid = pd.read_csv('Datasets-Ready\\\\Irbid_Ready.csv', index_col=0)\n",
    "irwaished = pd.read_csv('Datasets-Ready\\\\Irwaished_Ready.csv', index_col=0)\n",
    "maan = pd.read_csv('Datasets-Ready\\\\Maan_Ready.csv', index_col=0)\n",
    "mafraq = pd.read_csv('Datasets-Ready\\\\Mafraq_Ready.csv', index_col=0)\n",
    "amman = pd.read_csv('Datasets-Ready\\\\Queen Alia Airport_Ready.csv', index_col=0)\n",
    "safawi = pd.read_csv('Datasets-Ready\\\\Safawi_Ready.csv', index_col=0)"
   ]
  },
  {
   "cell_type": "code",
   "execution_count": 12,
   "id": "d9ffee3d",
   "metadata": {},
   "outputs": [
    {
     "data": {
      "text/html": [
       "<div>\n",
       "<style scoped>\n",
       "    .dataframe tbody tr th:only-of-type {\n",
       "        vertical-align: middle;\n",
       "    }\n",
       "\n",
       "    .dataframe tbody tr th {\n",
       "        vertical-align: top;\n",
       "    }\n",
       "\n",
       "    .dataframe thead th {\n",
       "        text-align: right;\n",
       "    }\n",
       "</style>\n",
       "<table border=\"1\" class=\"dataframe\">\n",
       "  <thead>\n",
       "    <tr style=\"text-align: right;\">\n",
       "      <th></th>\n",
       "      <th>Air Dew Point</th>\n",
       "      <th>Air Temperature (OC)</th>\n",
       "      <th>Humidity %</th>\n",
       "      <th>Atmospheric Pressure</th>\n",
       "      <th>Wind_U</th>\n",
       "      <th>Wind_V</th>\n",
       "    </tr>\n",
       "  </thead>\n",
       "  <tbody>\n",
       "    <tr>\n",
       "      <th>2000-01-01 00:00:00</th>\n",
       "      <td>6.7</td>\n",
       "      <td>14.9</td>\n",
       "      <td>57.968356</td>\n",
       "      <td>1014.200012</td>\n",
       "      <td>0.0</td>\n",
       "      <td>-1.5</td>\n",
       "    </tr>\n",
       "    <tr>\n",
       "      <th>2000-01-01 01:00:00</th>\n",
       "      <td>7.0</td>\n",
       "      <td>15.0</td>\n",
       "      <td>58.794057</td>\n",
       "      <td>1014.200012</td>\n",
       "      <td>0.0</td>\n",
       "      <td>-0.0</td>\n",
       "    </tr>\n",
       "    <tr>\n",
       "      <th>2000-01-01 02:00:00</th>\n",
       "      <td>7.0</td>\n",
       "      <td>15.0</td>\n",
       "      <td>58.794057</td>\n",
       "      <td>1014.200012</td>\n",
       "      <td>0.0</td>\n",
       "      <td>-0.0</td>\n",
       "    </tr>\n",
       "    <tr>\n",
       "      <th>2000-01-01 03:00:00</th>\n",
       "      <td>6.5</td>\n",
       "      <td>15.2</td>\n",
       "      <td>56.084410</td>\n",
       "      <td>1013.900024</td>\n",
       "      <td>0.0</td>\n",
       "      <td>-1.5</td>\n",
       "    </tr>\n",
       "    <tr>\n",
       "      <th>2000-01-01 04:00:00</th>\n",
       "      <td>7.0</td>\n",
       "      <td>15.0</td>\n",
       "      <td>58.794057</td>\n",
       "      <td>1013.900024</td>\n",
       "      <td>0.0</td>\n",
       "      <td>-1.5</td>\n",
       "    </tr>\n",
       "  </tbody>\n",
       "</table>\n",
       "</div>"
      ],
      "text/plain": [
       "                     Air Dew Point  Air Temperature (OC)  Humidity %  \\\n",
       "2000-01-01 00:00:00            6.7                  14.9   57.968356   \n",
       "2000-01-01 01:00:00            7.0                  15.0   58.794057   \n",
       "2000-01-01 02:00:00            7.0                  15.0   58.794057   \n",
       "2000-01-01 03:00:00            6.5                  15.2   56.084410   \n",
       "2000-01-01 04:00:00            7.0                  15.0   58.794057   \n",
       "\n",
       "                     Atmospheric Pressure  Wind_U  Wind_V  \n",
       "2000-01-01 00:00:00           1014.200012     0.0    -1.5  \n",
       "2000-01-01 01:00:00           1014.200012     0.0    -0.0  \n",
       "2000-01-01 02:00:00           1014.200012     0.0    -0.0  \n",
       "2000-01-01 03:00:00           1013.900024     0.0    -1.5  \n",
       "2000-01-01 04:00:00           1013.900024     0.0    -1.5  "
      ]
     },
     "execution_count": 12,
     "metadata": {},
     "output_type": "execute_result"
    }
   ],
   "source": [
    "df =aqaba.copy()\n",
    "df.head()"
   ]
  },
  {
   "cell_type": "code",
   "execution_count": null,
   "id": "14f1f7db",
   "metadata": {},
   "outputs": [],
   "source": [
    "df.index = pd.to_datetime(df.index)"
   ]
  }
 ],
 "metadata": {
  "kernelspec": {
   "display_name": ".venv",
   "language": "python",
   "name": "python3"
  },
  "language_info": {
   "codemirror_mode": {
    "name": "ipython",
    "version": 3
   },
   "file_extension": ".py",
   "mimetype": "text/x-python",
   "name": "python",
   "nbconvert_exporter": "python",
   "pygments_lexer": "ipython3",
   "version": "3.12.4"
  }
 },
 "nbformat": 4,
 "nbformat_minor": 5
}
