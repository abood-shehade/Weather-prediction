{
 "cells": [
  {
   "cell_type": "code",
   "execution_count": 9,
   "id": "055d8ce0-708e-4a7b-aa00-8ec71cfc0504",
   "metadata": {},
   "outputs": [
    {
     "name": "stdout",
     "output_type": "stream",
     "text": [
      "Collecting openpyxl\n",
      "  Downloading openpyxl-3.1.5-py2.py3-none-any.whl.metadata (2.5 kB)\n",
      "Collecting et-xmlfile (from openpyxl)\n",
      "  Downloading et_xmlfile-2.0.0-py3-none-any.whl.metadata (2.7 kB)\n",
      "Downloading openpyxl-3.1.5-py2.py3-none-any.whl (250 kB)\n",
      "Downloading et_xmlfile-2.0.0-py3-none-any.whl (18 kB)\n",
      "Installing collected packages: et-xmlfile, openpyxl\n",
      "\n",
      "   -------------------- ------------------- 1/2 [openpyxl]\n",
      "   ---------------------------------------- 2/2 [openpyxl]\n",
      "\n",
      "Successfully installed et-xmlfile-2.0.0 openpyxl-3.1.5\n"
     ]
    }
   ],
   "source": [
    "!pip install openpyxl"
   ]
  },
  {
   "cell_type": "code",
   "execution_count": 5,
   "id": "3bd31f99-5652-4161-a30a-79c63272e23e",
   "metadata": {},
   "outputs": [
    {
     "name": "stdout",
     "output_type": "stream",
     "text": [
      "Collecting metpy\n",
      "  Downloading metpy-1.7.0-py3-none-any.whl.metadata (8.9 kB)\n",
      "Requirement already satisfied: matplotlib>=3.5.0 in c:\\users\\20210291\\.conda\\envs\\torch_env\\lib\\site-packages (from metpy) (3.10.3)\n",
      "Requirement already satisfied: numpy>=1.23.0 in c:\\users\\20210291\\.conda\\envs\\torch_env\\lib\\site-packages (from metpy) (2.0.1)\n",
      "Requirement already satisfied: pandas>=1.4.0 in c:\\users\\20210291\\.conda\\envs\\torch_env\\lib\\site-packages (from metpy) (2.2.3)\n",
      "Collecting pint>=0.17 (from metpy)\n",
      "  Downloading Pint-0.24.4-py3-none-any.whl.metadata (8.5 kB)\n",
      "Collecting pooch>=1.2.0 (from metpy)\n",
      "  Downloading pooch-1.8.2-py3-none-any.whl.metadata (10 kB)\n",
      "Collecting pyproj>=3.3.0 (from metpy)\n",
      "  Downloading pyproj-3.7.1-cp310-cp310-win_amd64.whl.metadata (31 kB)\n",
      "Requirement already satisfied: scipy>=1.8.0 in c:\\users\\20210291\\.conda\\envs\\torch_env\\lib\\site-packages (from metpy) (1.15.3)\n",
      "Requirement already satisfied: traitlets>=5.1.0 in c:\\users\\20210291\\.conda\\envs\\torch_env\\lib\\site-packages (from metpy) (5.14.3)\n",
      "Requirement already satisfied: xarray>=2022.6.0 in c:\\users\\20210291\\.conda\\envs\\torch_env\\lib\\site-packages (from metpy) (2025.4.0)\n",
      "Requirement already satisfied: contourpy>=1.0.1 in c:\\users\\20210291\\.conda\\envs\\torch_env\\lib\\site-packages (from matplotlib>=3.5.0->metpy) (1.3.2)\n",
      "Requirement already satisfied: cycler>=0.10 in c:\\users\\20210291\\.conda\\envs\\torch_env\\lib\\site-packages (from matplotlib>=3.5.0->metpy) (0.12.1)\n",
      "Requirement already satisfied: fonttools>=4.22.0 in c:\\users\\20210291\\.conda\\envs\\torch_env\\lib\\site-packages (from matplotlib>=3.5.0->metpy) (4.58.0)\n",
      "Requirement already satisfied: kiwisolver>=1.3.1 in c:\\users\\20210291\\.conda\\envs\\torch_env\\lib\\site-packages (from matplotlib>=3.5.0->metpy) (1.4.8)\n",
      "Requirement already satisfied: packaging>=20.0 in c:\\users\\20210291\\.conda\\envs\\torch_env\\lib\\site-packages (from matplotlib>=3.5.0->metpy) (25.0)\n",
      "Requirement already satisfied: pillow>=8 in c:\\users\\20210291\\.conda\\envs\\torch_env\\lib\\site-packages (from matplotlib>=3.5.0->metpy) (11.1.0)\n",
      "Requirement already satisfied: pyparsing>=2.3.1 in c:\\users\\20210291\\.conda\\envs\\torch_env\\lib\\site-packages (from matplotlib>=3.5.0->metpy) (3.2.3)\n",
      "Requirement already satisfied: python-dateutil>=2.7 in c:\\users\\20210291\\.conda\\envs\\torch_env\\lib\\site-packages (from matplotlib>=3.5.0->metpy) (2.9.0.post0)\n",
      "Requirement already satisfied: pytz>=2020.1 in c:\\users\\20210291\\.conda\\envs\\torch_env\\lib\\site-packages (from pandas>=1.4.0->metpy) (2025.2)\n",
      "Requirement already satisfied: tzdata>=2022.7 in c:\\users\\20210291\\.conda\\envs\\torch_env\\lib\\site-packages (from pandas>=1.4.0->metpy) (2025.2)\n",
      "Requirement already satisfied: platformdirs>=2.1.0 in c:\\users\\20210291\\.conda\\envs\\torch_env\\lib\\site-packages (from pint>=0.17->metpy) (4.3.8)\n",
      "Requirement already satisfied: typing-extensions>=4.0.0 in c:\\users\\20210291\\.conda\\envs\\torch_env\\lib\\site-packages (from pint>=0.17->metpy) (4.12.2)\n",
      "Collecting flexcache>=0.3 (from pint>=0.17->metpy)\n",
      "  Downloading flexcache-0.3-py3-none-any.whl.metadata (7.0 kB)\n",
      "Collecting flexparser>=0.4 (from pint>=0.17->metpy)\n",
      "  Downloading flexparser-0.4-py3-none-any.whl.metadata (18 kB)\n",
      "Requirement already satisfied: requests>=2.19.0 in c:\\users\\20210291\\.conda\\envs\\torch_env\\lib\\site-packages (from pooch>=1.2.0->metpy) (2.32.3)\n",
      "Requirement already satisfied: certifi in c:\\users\\20210291\\.conda\\envs\\torch_env\\lib\\site-packages (from pyproj>=3.3.0->metpy) (2025.4.26)\n",
      "Requirement already satisfied: six>=1.5 in c:\\users\\20210291\\.conda\\envs\\torch_env\\lib\\site-packages (from python-dateutil>=2.7->matplotlib>=3.5.0->metpy) (1.17.0)\n",
      "Requirement already satisfied: charset-normalizer<4,>=2 in c:\\users\\20210291\\.conda\\envs\\torch_env\\lib\\site-packages (from requests>=2.19.0->pooch>=1.2.0->metpy) (3.3.2)\n",
      "Requirement already satisfied: idna<4,>=2.5 in c:\\users\\20210291\\.conda\\envs\\torch_env\\lib\\site-packages (from requests>=2.19.0->pooch>=1.2.0->metpy) (3.7)\n",
      "Requirement already satisfied: urllib3<3,>=1.21.1 in c:\\users\\20210291\\.conda\\envs\\torch_env\\lib\\site-packages (from requests>=2.19.0->pooch>=1.2.0->metpy) (2.3.0)\n",
      "Downloading metpy-1.7.0-py3-none-any.whl (424 kB)\n",
      "Downloading Pint-0.24.4-py3-none-any.whl (302 kB)\n",
      "Downloading flexcache-0.3-py3-none-any.whl (13 kB)\n",
      "Downloading flexparser-0.4-py3-none-any.whl (27 kB)\n",
      "Downloading pooch-1.8.2-py3-none-any.whl (64 kB)\n",
      "Downloading pyproj-3.7.1-cp310-cp310-win_amd64.whl (6.3 MB)\n",
      "   ---------------------------------------- 0.0/6.3 MB ? eta -:--:--\n",
      "   --------------------- ------------------ 3.4/6.3 MB 15.5 MB/s eta 0:00:01\n",
      "   ---------------------------------------- 6.3/6.3 MB 19.2 MB/s eta 0:00:00\n",
      "Installing collected packages: pyproj, flexparser, flexcache, pooch, pint, metpy\n",
      "\n",
      "   -------------------- ------------------- 3/6 [pooch]\n",
      "   -------------------------- ------------- 4/6 [pint]\n",
      "   --------------------------------- ------ 5/6 [metpy]\n",
      "   ---------------------------------------- 6/6 [metpy]\n",
      "\n",
      "Successfully installed flexcache-0.3 flexparser-0.4 metpy-1.7.0 pint-0.24.4 pooch-1.8.2 pyproj-3.7.1\n"
     ]
    }
   ],
   "source": [
    "!pip install metpy"
   ]
  },
  {
   "cell_type": "code",
   "execution_count": 11,
   "id": "4d878ad4",
   "metadata": {},
   "outputs": [],
   "source": [
    "import numpy as np\n",
    "import matplotlib.pyplot as plt\n",
    "import matplotlib.dates as mdates\n",
    "import openpyxl\n",
    "import pandas as pd\n",
    "import os\n",
    "from metpy.calc import wind_components\n",
    "from metpy.units import units\n"
   ]
  },
  {
   "cell_type": "code",
   "execution_count": 12,
   "id": "f0744544-034a-40d1-8ea5-6b8c93487c34",
   "metadata": {},
   "outputs": [],
   "source": [
    "def read_data(path):\n",
    "    dtype_dict = {\n",
    "        'Station': 'string',\n",
    "        'Date/Time': 'string',\n",
    "        'Air Dew Point': 'float',\n",
    "        'Air Temperature (OC)': 'float',\n",
    "        'Humidity %': 'float',\n",
    "        'Atmospheric Pressure': 'float',\n",
    "        'Liquid Precipitation': 'float',\n",
    "        'Manual Present Weather …': 'string',\n",
    "        'Cloud Type': 'string',\n",
    "        'Clouds Cover (Okta)': 'float',\n",
    "        'Cloud Cover %': 'float',\n",
    "        'Snow Depth.depth In CM': 'float',\n",
    "        'Horizontal Visibility In m.': 'float',\n",
    "        'Wind Direction (Degrees)': 'float',\n",
    "        'Wind Speed (MPS)': 'float',\n",
    "        'Wind Type': 'string',\n",
    "        'Wind Gust speed': 'float',\n",
    "    }\n",
    "\n",
    "    # Read the Excel file\n",
    "    df = pd.read_excel(\n",
    "        path,\n",
    "        skiprows=5,\n",
    "        dtype=dtype_dict,\n",
    "        na_values=['Null', 'N/A', '--', 'sky obscured or cloud amount cannot be estimated']\n",
    "    )\n",
    "\n",
    "    # Standardize column names\n",
    "    if 'liquid Precipitation depth In MM' in df.columns:\n",
    "        df.rename(columns={'liquid Precipitation depth In MM': 'Liquid Precipitation'}, inplace=True)\n",
    "    elif 'Liquid Precipitation' in df.columns:\n",
    "        df.rename(columns={'Liquid Precipitation': 'Liquid Precipitation'}, inplace=True)  # Ensure consistent name\n",
    "    if 'Snow Depth.depth In CM' in df.columns:\n",
    "        df.rename(columns={'Snow Depth.depth In CM': 'Snow Depth'}, inplace=True)\n",
    "    elif 'Snow Depth' in df.columns:\n",
    "        df.rename(columns={'Snow Depth': 'Snow Depth'}, inplace=True)  # Ensure consistent name\n",
    "    if 'Manual Present Weather …' in df.columns:\n",
    "        df.rename(columns={'Manual Present Weather …': 'Manual Present Weather'}, inplace=True)\n",
    "    elif 'Snow Depth' in df.columns:\n",
    "        df.rename(columns={'Manual Present Weather': 'Manual Present Weather'}, inplace=True)  # Ensure consistent name\n",
    "\n",
    "    # Convert the 'Date/Time' column to datetime format\n",
    "    df['Date/Time'] = pd.to_datetime(df['Date/Time'], errors='coerce')\n",
    "\n",
    "\n",
    "    # Set 'Date/Time' as the index for time series operations\n",
    "    df.set_index('Date/Time', inplace=True)\n",
    "    df = df.sort_index()\n",
    "\n",
    "    return df\n"
   ]
  },
  {
   "cell_type": "code",
   "execution_count": 13,
   "id": "1ee0ec36",
   "metadata": {},
   "outputs": [],
   "source": [
    "amman = read_data('Queen Alia Airport   01-07-1983 - 30-05-2024.xlsx')"
   ]
  },
  {
   "cell_type": "code",
   "execution_count": 14,
   "id": "41da0fc3",
   "metadata": {},
   "outputs": [
    {
     "name": "stdout",
     "output_type": "stream",
     "text": [
      "<class 'pandas.core.frame.DataFrame'>\n",
      "DatetimeIndex: 336486 entries, 1983-07-01 00:00:00 to 2024-05-30 21:00:00\n",
      "Data columns (total 17 columns):\n",
      " #   Column                       Non-Null Count   Dtype  \n",
      "---  ------                       --------------   -----  \n",
      " 0   Station                      336485 non-null  string \n",
      " 1   Air Dew Point                333150 non-null  float64\n",
      " 2   Air Temperature (OC)         333620 non-null  float64\n",
      " 3   Humidity %                   332892 non-null  float64\n",
      " 4   Atmospheric Pressure         99914 non-null   float64\n",
      " 5   Liquid Precipitation         2481 non-null    float64\n",
      " 6   Manual Present Weather       156730 non-null  string \n",
      " 7   Cloud Type                   34654 non-null   string \n",
      " 8   Clouds Cover (Okta)          104471 non-null  float64\n",
      " 9   Cloud Cover %                335898 non-null  float64\n",
      " 10  Snow Depth                   226 non-null     float64\n",
      " 11  Horizontal Visibility In m.  324480 non-null  float64\n",
      " 12  Wind Direction (Degrees)     243783 non-null  float64\n",
      " 13  Wind Speed (MPS)             333360 non-null  float64\n",
      " 14  Wind Type                    333609 non-null  string \n",
      " 15  Wind Gust speed              1318 non-null    float64\n",
      " 16  Unnamed: 17                  5 non-null       float64\n",
      "dtypes: float64(13), string(4)\n",
      "memory usage: 46.2 MB\n"
     ]
    }
   ],
   "source": [
    "amman.info()"
   ]
  },
  {
   "cell_type": "code",
   "execution_count": 15,
   "id": "d32ef697",
   "metadata": {},
   "outputs": [],
   "source": [
    "amman.drop(['Unnamed: 17', 'Wind Gust speed', 'Wind Type','Horizontal Visibility In m.','Snow Depth', 'Clouds Cover (Okta)', 'Cloud Type'], axis=1, inplace=True)"
   ]
  },
  {
   "cell_type": "code",
   "execution_count": 16,
   "id": "bf3661e6-1c0d-45d0-84a5-376f98b1abf0",
   "metadata": {},
   "outputs": [],
   "source": [
    "amman = amman[amman.index > '2023-12-31']"
   ]
  },
  {
   "cell_type": "code",
   "execution_count": 17,
   "id": "12ccf339-4e9d-4649-8f54-1cffe1b12a4f",
   "metadata": {},
   "outputs": [
    {
     "data": {
      "text/plain": [
       "Index(['Air Dew Point', 'Air Temperature (OC)', 'Humidity %',\n",
       "       'Atmospheric Pressure', 'Liquid Precipitation', 'Cloud Cover %',\n",
       "       'Wind Direction (Degrees)', 'Wind Speed (MPS)'],\n",
       "      dtype='object')"
      ]
     },
     "execution_count": 17,
     "metadata": {},
     "output_type": "execute_result"
    }
   ],
   "source": [
    "amman.drop(['Station','Manual Present Weather'], axis = 1, inplace = True)\n",
    "amman.columns"
   ]
  },
  {
   "cell_type": "code",
   "execution_count": 18,
   "id": "6b134b7d-86e2-4d3d-b3cd-3f49946d71aa",
   "metadata": {},
   "outputs": [],
   "source": [
    "cols = ['Air Dew Point', 'Air Temperature (OC)', 'Humidity %',\n",
    "       'Atmospheric Pressure',\n",
    "       'Wind Direction (Degrees)', 'Wind Speed (MPS)']"
   ]
  },
  {
   "cell_type": "code",
   "execution_count": 19,
   "id": "2517f154-d5c3-4c2b-89cd-d3692d39cdb2",
   "metadata": {},
   "outputs": [],
   "source": [
    "df = amman.copy()"
   ]
  },
  {
   "cell_type": "code",
   "execution_count": 20,
   "id": "ad4f2b9f",
   "metadata": {},
   "outputs": [],
   "source": [
    "for col in cols:\n",
    "    df[col] = df.groupby(df.index)[col].transform(lambda x: x.ffill().bfill())\n",
    "    \n",
    "df = df[~df.index.duplicated(keep='first')]\n"
   ]
  },
  {
   "cell_type": "code",
   "execution_count": 21,
   "id": "d12e7d4e",
   "metadata": {},
   "outputs": [],
   "source": [
    "df.index = pd.to_datetime(df.index)\n"
   ]
  },
  {
   "cell_type": "code",
   "execution_count": 22,
   "id": "ff6e92b2",
   "metadata": {},
   "outputs": [
    {
     "name": "stdout",
     "output_type": "stream",
     "text": [
      "Year: 2023\n",
      "Unique Months: [12]\n",
      "Unique Days: [31]\n",
      "Unique Days of Week: [6]\n",
      "Unique Hours: [ 1  2  3  4  5  6  7  8  9 10 11 12 13 14 15 16 17 18 19 20 21 22 23]\n",
      "--------------------\n",
      "Year: 2024\n",
      "Unique Months: [1 2 3 4 5]\n",
      "Unique Days: [ 1  2  3  4  5  6  7  8  9 10 11 12 13 14 15 16 17 18 19 20 21 22 23 24\n",
      " 25 26 27 28 29 30 31]\n",
      "Unique Days of Week: [0 1 2 3 4 5 6]\n",
      "Unique Hours: [ 0  1  2  3  4  5  6  7  8  9 10 11 12 13 14 15 16 17 18 19 20 21 22 23]\n",
      "--------------------\n"
     ]
    }
   ],
   "source": [
    "for year in df.index.year.unique():\n",
    "  print(f\"Year: {year}\")\n",
    "  print(\"Unique Months:\", np.sort(df[df.index.year == year].index.month.unique()))\n",
    "  print(\"Unique Days:\", np.sort(df[df.index.year == year].index.day.unique()))\n",
    "  print(\"Unique Days of Week:\", np.sort(df[df.index.year == year].index.dayofweek.unique()))\n",
    "  print(\"Unique Hours:\", np.sort(df[df.index.year == year].index.hour.unique()))\n",
    "  print(\"-\" * 20)"
   ]
  },
  {
   "cell_type": "code",
   "execution_count": 23,
   "id": "e3281042",
   "metadata": {},
   "outputs": [
    {
     "data": {
      "text/plain": [
       "DatetimeIndex(['2024-02-26 01:00:00', '2024-03-27 01:00:00',\n",
       "               '2024-03-28 01:00:00', '2024-03-29 01:00:00',\n",
       "               '2024-03-30 01:00:00', '2024-03-31 01:00:00',\n",
       "               '2024-04-01 01:00:00', '2024-05-01 01:00:00',\n",
       "               '2024-05-06 01:00:00'],\n",
       "              dtype='datetime64[ns]', freq=None)"
      ]
     },
     "execution_count": 23,
     "metadata": {},
     "output_type": "execute_result"
    }
   ],
   "source": [
    "date_range = pd.date_range(start = df.index.min(),end =df.index.max(), freq=\"D\")\n",
    "missing_dates = date_range[~date_range.isin(df.index)]\n",
    "missing_dates"
   ]
  },
  {
   "cell_type": "code",
   "execution_count": 24,
   "id": "4d9add57",
   "metadata": {},
   "outputs": [
    {
     "name": "stderr",
     "output_type": "stream",
     "text": [
      "C:\\Users\\20210291\\AppData\\Local\\Temp\\ipykernel_20352\\114224145.py:1: FutureWarning: 'H' is deprecated and will be removed in a future version, please use 'h' instead.\n",
      "  full_range = pd.date_range(start=df.index.min(), end=df.index.max(), freq='H')\n"
     ]
    },
    {
     "data": {
      "text/html": [
       "<div>\n",
       "<style scoped>\n",
       "    .dataframe tbody tr th:only-of-type {\n",
       "        vertical-align: middle;\n",
       "    }\n",
       "\n",
       "    .dataframe tbody tr th {\n",
       "        vertical-align: top;\n",
       "    }\n",
       "\n",
       "    .dataframe thead th {\n",
       "        text-align: right;\n",
       "    }\n",
       "</style>\n",
       "<table border=\"1\" class=\"dataframe\">\n",
       "  <thead>\n",
       "    <tr style=\"text-align: right;\">\n",
       "      <th></th>\n",
       "      <th>Air Dew Point</th>\n",
       "      <th>Air Temperature (OC)</th>\n",
       "      <th>Humidity %</th>\n",
       "      <th>Atmospheric Pressure</th>\n",
       "      <th>Liquid Precipitation</th>\n",
       "      <th>Cloud Cover %</th>\n",
       "      <th>Wind Direction (Degrees)</th>\n",
       "      <th>Wind Speed (MPS)</th>\n",
       "    </tr>\n",
       "  </thead>\n",
       "  <tbody>\n",
       "    <tr>\n",
       "      <th>2023-12-31 01:00:00</th>\n",
       "      <td>6.0</td>\n",
       "      <td>7.0</td>\n",
       "      <td>93.352226</td>\n",
       "      <td>NaN</td>\n",
       "      <td>NaN</td>\n",
       "      <td>0.0</td>\n",
       "      <td>NaN</td>\n",
       "      <td>0.0</td>\n",
       "    </tr>\n",
       "    <tr>\n",
       "      <th>2023-12-31 02:00:00</th>\n",
       "      <td>6.0</td>\n",
       "      <td>6.0</td>\n",
       "      <td>100.000000</td>\n",
       "      <td>NaN</td>\n",
       "      <td>NaN</td>\n",
       "      <td>0.0</td>\n",
       "      <td>110.0</td>\n",
       "      <td>3.1</td>\n",
       "    </tr>\n",
       "    <tr>\n",
       "      <th>2023-12-31 03:00:00</th>\n",
       "      <td>4.5</td>\n",
       "      <td>5.4</td>\n",
       "      <td>93.923673</td>\n",
       "      <td>1022.099976</td>\n",
       "      <td>NaN</td>\n",
       "      <td>37.5</td>\n",
       "      <td>340.0</td>\n",
       "      <td>2.1</td>\n",
       "    </tr>\n",
       "    <tr>\n",
       "      <th>2023-12-31 04:00:00</th>\n",
       "      <td>5.0</td>\n",
       "      <td>5.0</td>\n",
       "      <td>100.000000</td>\n",
       "      <td>NaN</td>\n",
       "      <td>NaN</td>\n",
       "      <td>0.0</td>\n",
       "      <td>NaN</td>\n",
       "      <td>0.0</td>\n",
       "    </tr>\n",
       "    <tr>\n",
       "      <th>2023-12-31 05:00:00</th>\n",
       "      <td>5.0</td>\n",
       "      <td>5.0</td>\n",
       "      <td>100.000000</td>\n",
       "      <td>NaN</td>\n",
       "      <td>NaN</td>\n",
       "      <td>0.0</td>\n",
       "      <td>NaN</td>\n",
       "      <td>0.0</td>\n",
       "    </tr>\n",
       "  </tbody>\n",
       "</table>\n",
       "</div>"
      ],
      "text/plain": [
       "                     Air Dew Point  Air Temperature (OC)  Humidity %  \\\n",
       "2023-12-31 01:00:00            6.0                   7.0   93.352226   \n",
       "2023-12-31 02:00:00            6.0                   6.0  100.000000   \n",
       "2023-12-31 03:00:00            4.5                   5.4   93.923673   \n",
       "2023-12-31 04:00:00            5.0                   5.0  100.000000   \n",
       "2023-12-31 05:00:00            5.0                   5.0  100.000000   \n",
       "\n",
       "                     Atmospheric Pressure  Liquid Precipitation  \\\n",
       "2023-12-31 01:00:00                   NaN                   NaN   \n",
       "2023-12-31 02:00:00                   NaN                   NaN   \n",
       "2023-12-31 03:00:00           1022.099976                   NaN   \n",
       "2023-12-31 04:00:00                   NaN                   NaN   \n",
       "2023-12-31 05:00:00                   NaN                   NaN   \n",
       "\n",
       "                     Cloud Cover %  Wind Direction (Degrees)  Wind Speed (MPS)  \n",
       "2023-12-31 01:00:00            0.0                       NaN               0.0  \n",
       "2023-12-31 02:00:00            0.0                     110.0               3.1  \n",
       "2023-12-31 03:00:00           37.5                     340.0               2.1  \n",
       "2023-12-31 04:00:00            0.0                       NaN               0.0  \n",
       "2023-12-31 05:00:00            0.0                       NaN               0.0  "
      ]
     },
     "execution_count": 24,
     "metadata": {},
     "output_type": "execute_result"
    }
   ],
   "source": [
    "full_range = pd.date_range(start=df.index.min(), end=df.index.max(), freq='H')\n",
    "df = df.reindex(full_range)\n",
    "df.head()"
   ]
  },
  {
   "cell_type": "code",
   "execution_count": 25,
   "id": "dc8e3924-7e25-4a27-924b-398ec975da4f",
   "metadata": {},
   "outputs": [
    {
     "name": "stderr",
     "output_type": "stream",
     "text": [
      "C:\\Users\\20210291\\AppData\\Local\\Temp\\ipykernel_20352\\223796282.py:2: FutureWarning: Series.interpolate with method=ffill is deprecated and will raise in a future version. Use obj.ffill() or obj.bfill() instead.\n",
      "  df[column] = df[column].interpolate(method='ffill')\n",
      "C:\\Users\\20210291\\AppData\\Local\\Temp\\ipykernel_20352\\223796282.py:3: FutureWarning: Series.interpolate with method=bfill is deprecated and will raise in a future version. Use obj.ffill() or obj.bfill() instead.\n",
      "  df[column] = df[column].interpolate(method='bfill')\n"
     ]
    },
    {
     "data": {
      "text/html": [
       "<div>\n",
       "<style scoped>\n",
       "    .dataframe tbody tr th:only-of-type {\n",
       "        vertical-align: middle;\n",
       "    }\n",
       "\n",
       "    .dataframe tbody tr th {\n",
       "        vertical-align: top;\n",
       "    }\n",
       "\n",
       "    .dataframe thead th {\n",
       "        text-align: right;\n",
       "    }\n",
       "</style>\n",
       "<table border=\"1\" class=\"dataframe\">\n",
       "  <thead>\n",
       "    <tr style=\"text-align: right;\">\n",
       "      <th></th>\n",
       "      <th>Air Dew Point</th>\n",
       "      <th>Air Temperature (OC)</th>\n",
       "      <th>Humidity %</th>\n",
       "      <th>Atmospheric Pressure</th>\n",
       "      <th>Liquid Precipitation</th>\n",
       "      <th>Cloud Cover %</th>\n",
       "      <th>Wind Direction (Degrees)</th>\n",
       "      <th>Wind Speed (MPS)</th>\n",
       "    </tr>\n",
       "  </thead>\n",
       "  <tbody>\n",
       "    <tr>\n",
       "      <th>2024-05-30 17:00:00</th>\n",
       "      <td>11.0</td>\n",
       "      <td>21.0</td>\n",
       "      <td>52.802638</td>\n",
       "      <td>1012.299988</td>\n",
       "      <td>NaN</td>\n",
       "      <td>0.0</td>\n",
       "      <td>290.0</td>\n",
       "      <td>7.7</td>\n",
       "    </tr>\n",
       "    <tr>\n",
       "      <th>2024-05-30 18:00:00</th>\n",
       "      <td>9.6</td>\n",
       "      <td>19.4</td>\n",
       "      <td>53.092129</td>\n",
       "      <td>1014.099976</td>\n",
       "      <td>NaN</td>\n",
       "      <td>25.0</td>\n",
       "      <td>300.0</td>\n",
       "      <td>5.7</td>\n",
       "    </tr>\n",
       "    <tr>\n",
       "      <th>2024-05-30 19:00:00</th>\n",
       "      <td>11.0</td>\n",
       "      <td>17.0</td>\n",
       "      <td>67.769404</td>\n",
       "      <td>1014.099976</td>\n",
       "      <td>NaN</td>\n",
       "      <td>0.0</td>\n",
       "      <td>270.0</td>\n",
       "      <td>2.1</td>\n",
       "    </tr>\n",
       "    <tr>\n",
       "      <th>2024-05-30 20:00:00</th>\n",
       "      <td>12.0</td>\n",
       "      <td>17.0</td>\n",
       "      <td>72.401375</td>\n",
       "      <td>1014.099976</td>\n",
       "      <td>NaN</td>\n",
       "      <td>0.0</td>\n",
       "      <td>300.0</td>\n",
       "      <td>3.6</td>\n",
       "    </tr>\n",
       "    <tr>\n",
       "      <th>2024-05-30 21:00:00</th>\n",
       "      <td>11.1</td>\n",
       "      <td>15.4</td>\n",
       "      <td>75.545003</td>\n",
       "      <td>1015.000000</td>\n",
       "      <td>NaN</td>\n",
       "      <td>25.0</td>\n",
       "      <td>280.0</td>\n",
       "      <td>2.1</td>\n",
       "    </tr>\n",
       "  </tbody>\n",
       "</table>\n",
       "</div>"
      ],
      "text/plain": [
       "                     Air Dew Point  Air Temperature (OC)  Humidity %  \\\n",
       "2024-05-30 17:00:00           11.0                  21.0   52.802638   \n",
       "2024-05-30 18:00:00            9.6                  19.4   53.092129   \n",
       "2024-05-30 19:00:00           11.0                  17.0   67.769404   \n",
       "2024-05-30 20:00:00           12.0                  17.0   72.401375   \n",
       "2024-05-30 21:00:00           11.1                  15.4   75.545003   \n",
       "\n",
       "                     Atmospheric Pressure  Liquid Precipitation  \\\n",
       "2024-05-30 17:00:00           1012.299988                   NaN   \n",
       "2024-05-30 18:00:00           1014.099976                   NaN   \n",
       "2024-05-30 19:00:00           1014.099976                   NaN   \n",
       "2024-05-30 20:00:00           1014.099976                   NaN   \n",
       "2024-05-30 21:00:00           1015.000000                   NaN   \n",
       "\n",
       "                     Cloud Cover %  Wind Direction (Degrees)  Wind Speed (MPS)  \n",
       "2024-05-30 17:00:00            0.0                     290.0               7.7  \n",
       "2024-05-30 18:00:00           25.0                     300.0               5.7  \n",
       "2024-05-30 19:00:00            0.0                     270.0               2.1  \n",
       "2024-05-30 20:00:00            0.0                     300.0               3.6  \n",
       "2024-05-30 21:00:00           25.0                     280.0               2.1  "
      ]
     },
     "execution_count": 25,
     "metadata": {},
     "output_type": "execute_result"
    }
   ],
   "source": [
    "for column in cols:\n",
    "  df[column] = df[column].interpolate(method='ffill')\n",
    "  df[column] = df[column].interpolate(method='bfill')\n",
    "df.tail()"
   ]
  },
  {
   "cell_type": "code",
   "execution_count": 26,
   "id": "7f2cf03f-46c2-48b1-9bec-d561a2d78600",
   "metadata": {},
   "outputs": [
    {
     "name": "stdout",
     "output_type": "stream",
     "text": [
      "<class 'pandas.core.frame.DataFrame'>\n",
      "DatetimeIndex: 3645 entries, 2023-12-31 01:00:00 to 2024-05-30 21:00:00\n",
      "Freq: h\n",
      "Data columns (total 8 columns):\n",
      " #   Column                    Non-Null Count  Dtype  \n",
      "---  ------                    --------------  -----  \n",
      " 0   Air Dew Point             3645 non-null   float64\n",
      " 1   Air Temperature (OC)      3645 non-null   float64\n",
      " 2   Humidity %                3645 non-null   float64\n",
      " 3   Atmospheric Pressure      3645 non-null   float64\n",
      " 4   Liquid Precipitation      84 non-null     float64\n",
      " 5   Cloud Cover %             3444 non-null   float64\n",
      " 6   Wind Direction (Degrees)  3645 non-null   float64\n",
      " 7   Wind Speed (MPS)          3645 non-null   float64\n",
      "dtypes: float64(8)\n",
      "memory usage: 256.3 KB\n"
     ]
    }
   ],
   "source": [
    "df.info()"
   ]
  },
  {
   "cell_type": "code",
   "execution_count": 27,
   "id": "3eb70268-de59-40e1-bd73-86a20d5499be",
   "metadata": {},
   "outputs": [
    {
     "name": "stderr",
     "output_type": "stream",
     "text": [
      "C:\\Users\\20210291\\AppData\\Local\\Temp\\ipykernel_20352\\4267059986.py:1: FutureWarning: A value is trying to be set on a copy of a DataFrame or Series through chained assignment using an inplace method.\n",
      "The behavior will change in pandas 3.0. This inplace method will never work because the intermediate object on which we are setting values always behaves as a copy.\n",
      "\n",
      "For example, when doing 'df[col].method(value, inplace=True)', try using 'df.method({col: value}, inplace=True)' or df[col] = df[col].method(value) instead, to perform the operation inplace on the original object.\n",
      "\n",
      "\n",
      "  df['Liquid Precipitation'].fillna(0, inplace = True )\n",
      "C:\\Users\\20210291\\AppData\\Local\\Temp\\ipykernel_20352\\4267059986.py:2: FutureWarning: A value is trying to be set on a copy of a DataFrame or Series through chained assignment using an inplace method.\n",
      "The behavior will change in pandas 3.0. This inplace method will never work because the intermediate object on which we are setting values always behaves as a copy.\n",
      "\n",
      "For example, when doing 'df[col].method(value, inplace=True)', try using 'df.method({col: value}, inplace=True)' or df[col] = df[col].method(value) instead, to perform the operation inplace on the original object.\n",
      "\n",
      "\n",
      "  df['Cloud Cover %'].fillna(0, inplace = True)\n"
     ]
    }
   ],
   "source": [
    "df['Liquid Precipitation'].fillna(0, inplace = True )\n",
    "df['Cloud Cover %'].fillna(0, inplace = True)"
   ]
  },
  {
   "cell_type": "code",
   "execution_count": 28,
   "id": "bf88c195",
   "metadata": {},
   "outputs": [
    {
     "data": {
      "text/html": [
       "<div>\n",
       "<style scoped>\n",
       "    .dataframe tbody tr th:only-of-type {\n",
       "        vertical-align: middle;\n",
       "    }\n",
       "\n",
       "    .dataframe tbody tr th {\n",
       "        vertical-align: top;\n",
       "    }\n",
       "\n",
       "    .dataframe thead th {\n",
       "        text-align: right;\n",
       "    }\n",
       "</style>\n",
       "<table border=\"1\" class=\"dataframe\">\n",
       "  <thead>\n",
       "    <tr style=\"text-align: right;\">\n",
       "      <th></th>\n",
       "      <th>Air Dew Point</th>\n",
       "      <th>Air Temperature (OC)</th>\n",
       "      <th>Humidity %</th>\n",
       "      <th>Atmospheric Pressure</th>\n",
       "      <th>Liquid Precipitation</th>\n",
       "      <th>Cloud Cover %</th>\n",
       "      <th>Wind Direction (Degrees)</th>\n",
       "      <th>Wind Speed (MPS)</th>\n",
       "      <th>Wind_U</th>\n",
       "      <th>Wind_V</th>\n",
       "    </tr>\n",
       "  </thead>\n",
       "  <tbody>\n",
       "    <tr>\n",
       "      <th>2023-12-31 01:00:00</th>\n",
       "      <td>6.0</td>\n",
       "      <td>7.0</td>\n",
       "      <td>93.352226</td>\n",
       "      <td>1022.099976</td>\n",
       "      <td>0.0</td>\n",
       "      <td>0.0</td>\n",
       "      <td>110.0</td>\n",
       "      <td>0.0</td>\n",
       "      <td>-0.00</td>\n",
       "      <td>0.00</td>\n",
       "    </tr>\n",
       "    <tr>\n",
       "      <th>2023-12-31 02:00:00</th>\n",
       "      <td>6.0</td>\n",
       "      <td>6.0</td>\n",
       "      <td>100.000000</td>\n",
       "      <td>1022.099976</td>\n",
       "      <td>0.0</td>\n",
       "      <td>0.0</td>\n",
       "      <td>110.0</td>\n",
       "      <td>3.1</td>\n",
       "      <td>-2.91</td>\n",
       "      <td>1.06</td>\n",
       "    </tr>\n",
       "    <tr>\n",
       "      <th>2023-12-31 03:00:00</th>\n",
       "      <td>4.5</td>\n",
       "      <td>5.4</td>\n",
       "      <td>93.923673</td>\n",
       "      <td>1022.099976</td>\n",
       "      <td>0.0</td>\n",
       "      <td>37.5</td>\n",
       "      <td>340.0</td>\n",
       "      <td>2.1</td>\n",
       "      <td>0.72</td>\n",
       "      <td>-1.97</td>\n",
       "    </tr>\n",
       "    <tr>\n",
       "      <th>2023-12-31 04:00:00</th>\n",
       "      <td>5.0</td>\n",
       "      <td>5.0</td>\n",
       "      <td>100.000000</td>\n",
       "      <td>1022.099976</td>\n",
       "      <td>0.0</td>\n",
       "      <td>0.0</td>\n",
       "      <td>340.0</td>\n",
       "      <td>0.0</td>\n",
       "      <td>0.00</td>\n",
       "      <td>-0.00</td>\n",
       "    </tr>\n",
       "    <tr>\n",
       "      <th>2023-12-31 05:00:00</th>\n",
       "      <td>5.0</td>\n",
       "      <td>5.0</td>\n",
       "      <td>100.000000</td>\n",
       "      <td>1022.099976</td>\n",
       "      <td>0.0</td>\n",
       "      <td>0.0</td>\n",
       "      <td>340.0</td>\n",
       "      <td>0.0</td>\n",
       "      <td>0.00</td>\n",
       "      <td>-0.00</td>\n",
       "    </tr>\n",
       "  </tbody>\n",
       "</table>\n",
       "</div>"
      ],
      "text/plain": [
       "                     Air Dew Point  Air Temperature (OC)  Humidity %  \\\n",
       "2023-12-31 01:00:00            6.0                   7.0   93.352226   \n",
       "2023-12-31 02:00:00            6.0                   6.0  100.000000   \n",
       "2023-12-31 03:00:00            4.5                   5.4   93.923673   \n",
       "2023-12-31 04:00:00            5.0                   5.0  100.000000   \n",
       "2023-12-31 05:00:00            5.0                   5.0  100.000000   \n",
       "\n",
       "                     Atmospheric Pressure  Liquid Precipitation  \\\n",
       "2023-12-31 01:00:00           1022.099976                   0.0   \n",
       "2023-12-31 02:00:00           1022.099976                   0.0   \n",
       "2023-12-31 03:00:00           1022.099976                   0.0   \n",
       "2023-12-31 04:00:00           1022.099976                   0.0   \n",
       "2023-12-31 05:00:00           1022.099976                   0.0   \n",
       "\n",
       "                     Cloud Cover %  Wind Direction (Degrees)  \\\n",
       "2023-12-31 01:00:00            0.0                     110.0   \n",
       "2023-12-31 02:00:00            0.0                     110.0   \n",
       "2023-12-31 03:00:00           37.5                     340.0   \n",
       "2023-12-31 04:00:00            0.0                     340.0   \n",
       "2023-12-31 05:00:00            0.0                     340.0   \n",
       "\n",
       "                     Wind Speed (MPS)  Wind_U  Wind_V  \n",
       "2023-12-31 01:00:00               0.0   -0.00    0.00  \n",
       "2023-12-31 02:00:00               3.1   -2.91    1.06  \n",
       "2023-12-31 03:00:00               2.1    0.72   -1.97  \n",
       "2023-12-31 04:00:00               0.0    0.00   -0.00  \n",
       "2023-12-31 05:00:00               0.0    0.00   -0.00  "
      ]
     },
     "execution_count": 28,
     "metadata": {},
     "output_type": "execute_result"
    }
   ],
   "source": [
    "u, v = wind_components(\n",
    "    df['Wind Speed (MPS)'].values * units('m/s'),\n",
    "    df['Wind Direction (Degrees)'].values * units.degree\n",
    ")\n",
    "\n",
    "df['Wind_U'] = u.magnitude  \n",
    "df['Wind_V'] = v.magnitude\n",
    "\n",
    "# OR the following, the above code is based on a specialaized library \"metpy\"\n",
    "\n",
    "# df['Wind_U'] = -df['Wind Speed (MPS)'] * np.sin(np.radians(df['Wind Direction (Degrees)']))\n",
    "# df['Wind_V'] = -df['Wind Speed (MPS)'] * np.cos(np.radians(df['Wind Direction (Degrees)']))\n",
    "df.Wind_U = df.Wind_U.round(2)\n",
    "df.Wind_V = df.Wind_V.round(2)\n",
    "df.head()"
   ]
  },
  {
   "cell_type": "code",
   "execution_count": 29,
   "id": "737721a4",
   "metadata": {},
   "outputs": [
    {
     "data": {
      "text/html": [
       "<div>\n",
       "<style scoped>\n",
       "    .dataframe tbody tr th:only-of-type {\n",
       "        vertical-align: middle;\n",
       "    }\n",
       "\n",
       "    .dataframe tbody tr th {\n",
       "        vertical-align: top;\n",
       "    }\n",
       "\n",
       "    .dataframe thead th {\n",
       "        text-align: right;\n",
       "    }\n",
       "</style>\n",
       "<table border=\"1\" class=\"dataframe\">\n",
       "  <thead>\n",
       "    <tr style=\"text-align: right;\">\n",
       "      <th></th>\n",
       "      <th>Air Dew Point</th>\n",
       "      <th>Air Temperature (OC)</th>\n",
       "      <th>Humidity %</th>\n",
       "      <th>Atmospheric Pressure</th>\n",
       "      <th>Liquid Precipitation</th>\n",
       "      <th>Cloud Cover %</th>\n",
       "      <th>Wind_U</th>\n",
       "      <th>Wind_V</th>\n",
       "    </tr>\n",
       "  </thead>\n",
       "  <tbody>\n",
       "    <tr>\n",
       "      <th>2024-05-30 17:00:00</th>\n",
       "      <td>11.0</td>\n",
       "      <td>21.0</td>\n",
       "      <td>52.802638</td>\n",
       "      <td>1012.299988</td>\n",
       "      <td>0.0</td>\n",
       "      <td>0.0</td>\n",
       "      <td>7.24</td>\n",
       "      <td>-2.63</td>\n",
       "    </tr>\n",
       "    <tr>\n",
       "      <th>2024-05-30 18:00:00</th>\n",
       "      <td>9.6</td>\n",
       "      <td>19.4</td>\n",
       "      <td>53.092129</td>\n",
       "      <td>1014.099976</td>\n",
       "      <td>0.0</td>\n",
       "      <td>25.0</td>\n",
       "      <td>4.94</td>\n",
       "      <td>-2.85</td>\n",
       "    </tr>\n",
       "    <tr>\n",
       "      <th>2024-05-30 19:00:00</th>\n",
       "      <td>11.0</td>\n",
       "      <td>17.0</td>\n",
       "      <td>67.769404</td>\n",
       "      <td>1014.099976</td>\n",
       "      <td>0.0</td>\n",
       "      <td>0.0</td>\n",
       "      <td>2.10</td>\n",
       "      <td>0.00</td>\n",
       "    </tr>\n",
       "    <tr>\n",
       "      <th>2024-05-30 20:00:00</th>\n",
       "      <td>12.0</td>\n",
       "      <td>17.0</td>\n",
       "      <td>72.401375</td>\n",
       "      <td>1014.099976</td>\n",
       "      <td>0.0</td>\n",
       "      <td>0.0</td>\n",
       "      <td>3.12</td>\n",
       "      <td>-1.80</td>\n",
       "    </tr>\n",
       "    <tr>\n",
       "      <th>2024-05-30 21:00:00</th>\n",
       "      <td>11.1</td>\n",
       "      <td>15.4</td>\n",
       "      <td>75.545003</td>\n",
       "      <td>1015.000000</td>\n",
       "      <td>0.0</td>\n",
       "      <td>25.0</td>\n",
       "      <td>2.07</td>\n",
       "      <td>-0.36</td>\n",
       "    </tr>\n",
       "  </tbody>\n",
       "</table>\n",
       "</div>"
      ],
      "text/plain": [
       "                     Air Dew Point  Air Temperature (OC)  Humidity %  \\\n",
       "2024-05-30 17:00:00           11.0                  21.0   52.802638   \n",
       "2024-05-30 18:00:00            9.6                  19.4   53.092129   \n",
       "2024-05-30 19:00:00           11.0                  17.0   67.769404   \n",
       "2024-05-30 20:00:00           12.0                  17.0   72.401375   \n",
       "2024-05-30 21:00:00           11.1                  15.4   75.545003   \n",
       "\n",
       "                     Atmospheric Pressure  Liquid Precipitation  \\\n",
       "2024-05-30 17:00:00           1012.299988                   0.0   \n",
       "2024-05-30 18:00:00           1014.099976                   0.0   \n",
       "2024-05-30 19:00:00           1014.099976                   0.0   \n",
       "2024-05-30 20:00:00           1014.099976                   0.0   \n",
       "2024-05-30 21:00:00           1015.000000                   0.0   \n",
       "\n",
       "                     Cloud Cover %  Wind_U  Wind_V  \n",
       "2024-05-30 17:00:00            0.0    7.24   -2.63  \n",
       "2024-05-30 18:00:00           25.0    4.94   -2.85  \n",
       "2024-05-30 19:00:00            0.0    2.10    0.00  \n",
       "2024-05-30 20:00:00            0.0    3.12   -1.80  \n",
       "2024-05-30 21:00:00           25.0    2.07   -0.36  "
      ]
     },
     "execution_count": 29,
     "metadata": {},
     "output_type": "execute_result"
    }
   ],
   "source": [
    "df.drop(['Wind Speed (MPS)', 'Wind Direction (Degrees)'], axis=1, inplace=True)\n",
    "df.tail()"
   ]
  },
  {
   "cell_type": "code",
   "execution_count": 30,
   "id": "d799455e-bbe4-4ac9-9988-949f441f796f",
   "metadata": {},
   "outputs": [
    {
     "data": {
      "text/plain": [
       "array([0.        , 2.        , 1.        , 4.        , 5.        ,\n",
       "       6.        , 0.40000001, 0.80000001, 0.5       , 3.        ,\n",
       "       1.39999998, 0.1       , 7.        , 8.        , 0.30000001,\n",
       "       9.        , 8.89999962, 6.69999981, 0.2       , 0.69999999,\n",
       "       6.5999999 ])"
      ]
     },
     "execution_count": 30,
     "metadata": {},
     "output_type": "execute_result"
    }
   ],
   "source": [
    "df['Liquid Precipitation'].unique()"
   ]
  },
  {
   "cell_type": "code",
   "execution_count": 44,
   "id": "256a7e91",
   "metadata": {},
   "outputs": [],
   "source": [
    "for col in df.columns:\n",
    "    df[col] = round(df[col], 4)\n",
    "\n"
   ]
  },
  {
   "cell_type": "code",
   "execution_count": 46,
   "id": "97cc03c1-9f21-4eec-8be0-180ab89d5ba0",
   "metadata": {},
   "outputs": [
    {
     "data": {
      "text/plain": [
       "array([0. , 2. , 1. , 4. , 5. , 6. , 0.4, 0.8, 0.5, 3. , 1.4, 0.1, 7. ,\n",
       "       8. , 0.3, 9. , 8.9, 6.7, 0.2, 0.7, 6.6])"
      ]
     },
     "execution_count": 46,
     "metadata": {},
     "output_type": "execute_result"
    }
   ],
   "source": [
    "df.to_csv('amman_test.csv')\n",
    "df['Liquid Precipitation'].unique()"
   ]
  },
  {
   "cell_type": "code",
   "execution_count": 51,
   "id": "39afcffd-b78d-48e4-a8da-06ed322d5818",
   "metadata": {},
   "outputs": [
    {
     "data": {
      "text/plain": [
       "<Axes: >"
      ]
     },
     "execution_count": 51,
     "metadata": {},
     "output_type": "execute_result"
    },
    {
     "data": {
      "image/png": "[encoded data removed]",
      "text/plain": [
       "<Figure size 640x480 with 1 Axes>"
      ]
     },
     "metadata": {},
     "output_type": "display_data"
    }
   ],
   "source": [
    "df['Liquid Precipitation'].hist(bins = 4)"
   ]
  },
  {
   "cell_type": "code",
   "execution_count": 32,
   "id": "550a8295-01b0-4106-9335-fc9884479ec1",
   "metadata": {},
   "outputs": [
    {
     "name": "stderr",
     "output_type": "stream",
     "text": [
      "C:\\Users\\20210291\\AppData\\Local\\Temp\\ipykernel_20352\\3939453551.py:3: FutureWarning: Series.fillna with 'method' is deprecated and will raise in a future version. Use obj.ffill() or obj.bfill() instead.\n",
      "  df[col] = df[col].rolling(window=15, center=True).mean().fillna(method='bfill').fillna(method='ffill')\n",
      "C:\\Users\\20210291\\AppData\\Local\\Temp\\ipykernel_20352\\3939453551.py:4: FutureWarning: Series.fillna with 'method' is deprecated and will raise in a future version. Use obj.ffill() or obj.bfill() instead.\n",
      "  df['Atmospheric Pressure'] = df['Atmospheric Pressure'].rolling(window=10, center=True).mean().fillna(method='bfill').fillna(method='ffill')\n"
     ]
    },
    {
     "ename": "NameError",
     "evalue": "name 'final' is not defined",
     "output_type": "error",
     "traceback": [
      "\u001b[1;31m---------------------------------------------------------------------------\u001b[0m",
      "\u001b[1;31mNameError\u001b[0m                                 Traceback (most recent call last)",
      "Cell \u001b[1;32mIn[32], line 5\u001b[0m\n\u001b[0;32m      3\u001b[0m     df[col] \u001b[38;5;241m=\u001b[39m df[col]\u001b[38;5;241m.\u001b[39mrolling(window\u001b[38;5;241m=\u001b[39m\u001b[38;5;241m15\u001b[39m, center\u001b[38;5;241m=\u001b[39m\u001b[38;5;28;01mTrue\u001b[39;00m)\u001b[38;5;241m.\u001b[39mmean()\u001b[38;5;241m.\u001b[39mfillna(method\u001b[38;5;241m=\u001b[39m\u001b[38;5;124m'\u001b[39m\u001b[38;5;124mbfill\u001b[39m\u001b[38;5;124m'\u001b[39m)\u001b[38;5;241m.\u001b[39mfillna(method\u001b[38;5;241m=\u001b[39m\u001b[38;5;124m'\u001b[39m\u001b[38;5;124mffill\u001b[39m\u001b[38;5;124m'\u001b[39m)\n\u001b[0;32m      4\u001b[0m df[\u001b[38;5;124m'\u001b[39m\u001b[38;5;124mAtmospheric Pressure\u001b[39m\u001b[38;5;124m'\u001b[39m] \u001b[38;5;241m=\u001b[39m df[\u001b[38;5;124m'\u001b[39m\u001b[38;5;124mAtmospheric Pressure\u001b[39m\u001b[38;5;124m'\u001b[39m]\u001b[38;5;241m.\u001b[39mrolling(window\u001b[38;5;241m=\u001b[39m\u001b[38;5;241m10\u001b[39m, center\u001b[38;5;241m=\u001b[39m\u001b[38;5;28;01mTrue\u001b[39;00m)\u001b[38;5;241m.\u001b[39mmean()\u001b[38;5;241m.\u001b[39mfillna(method\u001b[38;5;241m=\u001b[39m\u001b[38;5;124m'\u001b[39m\u001b[38;5;124mbfill\u001b[39m\u001b[38;5;124m'\u001b[39m)\u001b[38;5;241m.\u001b[39mfillna(method\u001b[38;5;241m=\u001b[39m\u001b[38;5;124m'\u001b[39m\u001b[38;5;124mffill\u001b[39m\u001b[38;5;124m'\u001b[39m)\n\u001b[1;32m----> 5\u001b[0m \u001b[43mfinal\u001b[49m\u001b[38;5;241m.\u001b[39mappend(df)\n",
      "\u001b[1;31mNameError\u001b[0m: name 'final' is not defined"
     ]
    }
   ],
   "source": [
    "violent_columns = ['Air Dew Point', 'Wind_U', 'Wind_V']\n",
    "for col in violent_columns:\n",
    "    df[col] = df[col].rolling(window=15, center=True).mean().fillna(method='bfill').fillna(method='ffill')\n",
    "df['Atmospheric Pressure'] = df['Atmospheric Pressure'].rolling(window=10, center=True).mean().fillna(method='bfill').fillna(method='ffill')\n"
   ]
  },
  {
   "cell_type": "code",
   "execution_count": 36,
   "id": "e5bb8a37-ee73-4ff4-9093-01fcffea1580",
   "metadata": {},
   "outputs": [],
   "source": [
    "df.to_csv('amman_test.csv')"
   ]
  },
  {
   "cell_type": "code",
   "execution_count": null,
   "id": "8405fb2a-c851-4107-bc5c-5a927e3330ce",
   "metadata": {},
   "outputs": [],
   "source": []
  }
 ],
 "metadata": {
  "kernelspec": {
   "display_name": "Python 3 (ipykernel)",
   "language": "python",
   "name": "python3"
  },
  "language_info": {
   "codemirror_mode": {
    "name": "ipython",
    "version": 3
   },
   "file_extension": ".py",
   "mimetype": "text/x-python",
   "name": "python",
   "nbconvert_exporter": "python",
   "pygments_lexer": "ipython3",
   "version": "3.10.16"
  }
 },
 "nbformat": 4,
 "nbformat_minor": 5
}
