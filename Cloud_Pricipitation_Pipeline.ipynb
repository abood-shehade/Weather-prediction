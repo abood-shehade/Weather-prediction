{
 "cells": [
  {
   "cell_type": "markdown",
   "id": "3511944c-8452-4daa-a925-b4bc0e4f73fa",
   "metadata": {},
   "source": [
    "# Importing libraries"
   ]
  },
  {
   "cell_type": "code",
   "execution_count": 63,
   "id": "6203cf95-e934-4e21-b324-1cfba94e3cbb",
   "metadata": {},
   "outputs": [],
   "source": [
    "import pandas as pd\n",
    "import numpy as np\n",
    "from sklearn.model_selection import train_test_split, TimeSeriesSplit\n",
    "from sklearn.preprocessing import StandardScaler\n",
    "from sklearn.ensemble import RandomForestClassifier, GradientBoostingRegressor\n",
    "from sklearn.metrics import classification_report, mean_absolute_error, mean_squared_error, r2_score\n",
    "import matplotlib.pyplot as plt\n",
    "import seaborn as sns\n",
    "from torch.utils.data import Dataset, DataLoader\n",
    "import torch\n",
    "import torch.nn as nn\n",
    "import joblib\n",
    "import requests_cache\n",
    "from sklearn.preprocessing import RobustScaler\n",
    "from metpy.calc import wind_components\n",
    "from metpy.units import units\n",
    "from openmeteo_requests import Client\n",
    "from retry_requests import retry\n",
    "from tensorflow.keras.models import Sequential\n",
    "from tensorflow.keras.layers import InputLayer, LSTM, Dense\n",
    "from tensorflow.keras.callbacks import ModelCheckpoint\n",
    "from tensorflow.keras.losses import MeanSquaredError\n",
    "from tensorflow.keras.optimizers import Adam\n",
    "from tensorflow.keras.models import load_model\n",
    "import joblib\n",
    "from math import radians, sin, cos, sqrt, atan2\n",
    "import openmeteo_requests"
   ]
  },
  {
   "cell_type": "markdown",
   "id": "a7356407-5938-46f9-9327-09ef59b78af4",
   "metadata": {},
   "source": [
    "# Loading Data"
   ]
  },
  {
   "cell_type": "code",
   "execution_count": 64,
   "id": "4a3c33ce-e691-4bb1-a12c-944f6224bb2d",
   "metadata": {},
   "outputs": [],
   "source": [
    "aqaba = pd.read_csv('Datasets-Ready/aqaba_Ready.csv')\n",
    "ghor = pd.read_csv('Datasets-Ready/ghor_Ready.csv')\n",
    "irbid = pd.read_csv('Datasets-Ready/irbid_Ready.csv')\n",
    "irwaished = pd.read_csv('Datasets-Ready/irwaished_Ready.csv')\n",
    "maan = pd.read_csv('Datasets-Ready/maan_Ready.csv')\n",
    "mafraq = pd.read_csv('Datasets-Ready/mafraq_Ready.csv')\n",
    "amman = pd.read_csv('Datasets-Ready/amman_Ready.csv')  \n",
    "safawi = pd.read_csv('Datasets-Ready/safawi_Ready.csv')"
   ]
  },
  {
   "cell_type": "code",
   "execution_count": 65,
   "id": "bf7c70b1-bc44-40b6-b129-53b0fdd2b111",
   "metadata": {},
   "outputs": [],
   "source": [
    "names = ['aqaba', 'ghor', 'irbid', 'irwaished', 'maan', 'mafraq', 'amman', 'safawi']\n",
    "datasets = [aqaba, ghor, irbid, irwaished, maan, mafraq, amman, safawi]\n",
    "coordinates = [            # (latitude, longitude)\n",
    "    (29.5500, 35.0000),    # Aqabah\n",
    "    (31.0333, 35.4667),    # Ghor\n",
    "    (32.5500, 35.8500),    # Irbid\n",
    "    (32.5000, 38.2000),    # Irwaished\n",
    "    (30.1667, 35.7833),    # Maan\n",
    "    (32.3667, 36.2500),    # Mafraq\n",
    "    (31.7167, 35.9833),    # Amman\n",
    "    (32.1608, 37.1539),    # Safawi\n",
    "]\n",
    "Stations = {}\n",
    "for i in range(len(names)):\n",
    "    Stations[names[i]] = {}\n",
    "    Stations[names[i]]['coordinates'] = coordinates[i]\n",
    "    Stations[names[i]]['dataset'] = datasets[i]\n",
    "    "
   ]
  },
  {
   "cell_type": "markdown",
   "id": "2fa778c9-aa70-4c60-9c44-f2448d07b9d5",
   "metadata": {},
   "source": [
    "# Training Cloud Cover Models"
   ]
  },
  {
   "cell_type": "code",
   "execution_count": 4,
   "id": "86b975e1-dd4b-4e8c-adc6-47cc424172a3",
   "metadata": {},
   "outputs": [],
   "source": [
    "def df_to_X_y(X_df, y_df, window_size=48, future=24):\n",
    "    X, y = [], []\n",
    "    for i in range(len(X_df) - window_size - future + 1):\n",
    "        X.append(X_df.iloc[i:i+window_size].values)\n",
    "        y.append(y_df.iloc[i+window_size:i+window_size+future].values.flatten())\n",
    "    return np.array(X), np.array(y)"
   ]
  },
  {
   "cell_type": "code",
   "execution_count": 5,
   "id": "625b8e36-7750-4aea-8bc9-90e27cb87d74",
   "metadata": {},
   "outputs": [
    {
     "name": "stdout",
     "output_type": "stream",
     "text": [
      "Epoch 1/10\n",
      "\u001b[1m1561/1561\u001b[0m \u001b[32m━━━━━━━━━━━━━━━━━━━━\u001b[0m\u001b[37m\u001b[0m \u001b[1m381s\u001b[0m 241ms/step - loss: 1.3978 - mse: 1.3978 - val_loss: 0.8295 - val_mse: 0.8295\n",
      "Epoch 2/10\n",
      "\u001b[1m1561/1561\u001b[0m \u001b[32m━━━━━━━━━━━━━━━━━━━━\u001b[0m\u001b[37m\u001b[0m \u001b[1m389s\u001b[0m 245ms/step - loss: 1.1640 - mse: 1.1640 - val_loss: 0.8110 - val_mse: 0.8110\n",
      "Epoch 3/10\n",
      "\u001b[1m1561/1561\u001b[0m \u001b[32m━━━━━━━━━━━━━━━━━━━━\u001b[0m\u001b[37m\u001b[0m \u001b[1m389s\u001b[0m 249ms/step - loss: 1.1305 - mse: 1.1305 - val_loss: 0.8253 - val_mse: 0.8253\n",
      "Epoch 4/10\n",
      "\u001b[1m1561/1561\u001b[0m \u001b[32m━━━━━━━━━━━━━━━━━━━━\u001b[0m\u001b[37m\u001b[0m \u001b[1m460s\u001b[0m 260ms/step - loss: 1.0986 - mse: 1.0986 - val_loss: 0.8195 - val_mse: 0.8195\n",
      "Epoch 5/10\n",
      "\u001b[1m1561/1561\u001b[0m \u001b[32m━━━━━━━━━━━━━━━━━━━━\u001b[0m\u001b[37m\u001b[0m \u001b[1m451s\u001b[0m 266ms/step - loss: 1.0610 - mse: 1.0610 - val_loss: 0.8057 - val_mse: 0.8057\n",
      "Epoch 6/10\n",
      "\u001b[1m1561/1561\u001b[0m \u001b[32m━━━━━━━━━━━━━━━━━━━━\u001b[0m\u001b[37m\u001b[0m \u001b[1m443s\u001b[0m 267ms/step - loss: 1.0156 - mse: 1.0156 - val_loss: 0.8378 - val_mse: 0.8378\n",
      "Epoch 7/10\n",
      "\u001b[1m1561/1561\u001b[0m \u001b[32m━━━━━━━━━━━━━━━━━━━━\u001b[0m\u001b[37m\u001b[0m \u001b[1m443s\u001b[0m 268ms/step - loss: 0.9842 - mse: 0.9842 - val_loss: 0.8412 - val_mse: 0.8412\n",
      "Epoch 8/10\n",
      "\u001b[1m1561/1561\u001b[0m \u001b[32m━━━━━━━━━━━━━━━━━━━━\u001b[0m\u001b[37m\u001b[0m \u001b[1m421s\u001b[0m 269ms/step - loss: 0.9446 - mse: 0.9446 - val_loss: 0.8653 - val_mse: 0.8653\n",
      "Epoch 9/10\n",
      "\u001b[1m1561/1561\u001b[0m \u001b[32m━━━━━━━━━━━━━━━━━━━━\u001b[0m\u001b[37m\u001b[0m \u001b[1m444s\u001b[0m 271ms/step - loss: 0.8879 - mse: 0.8879 - val_loss: 0.8529 - val_mse: 0.8529\n",
      "Epoch 10/10\n",
      "\u001b[1m1561/1561\u001b[0m \u001b[32m━━━━━━━━━━━━━━━━━━━━\u001b[0m\u001b[37m\u001b[0m \u001b[1m437s\u001b[0m 267ms/step - loss: 0.8388 - mse: 0.8388 - val_loss: 0.9474 - val_mse: 0.9474\n",
      "Epoch 1/10\n",
      "\u001b[1m1561/1561\u001b[0m \u001b[32m━━━━━━━━━━━━━━━━━━━━\u001b[0m\u001b[37m\u001b[0m \u001b[1m387s\u001b[0m 245ms/step - loss: 0.6678 - mse: 0.6678 - val_loss: 0.0041 - val_mse: 0.0041\n",
      "Epoch 2/10\n",
      "\u001b[1m1561/1561\u001b[0m \u001b[32m━━━━━━━━━━━━━━━━━━━━\u001b[0m\u001b[37m\u001b[0m \u001b[1m441s\u001b[0m 244ms/step - loss: 0.5395 - mse: 0.5395 - val_loss: 7.5928e-04 - val_mse: 7.5928e-04\n",
      "Epoch 3/10\n",
      "\u001b[1m1561/1561\u001b[0m \u001b[32m━━━━━━━━━━━━━━━━━━━━\u001b[0m\u001b[37m\u001b[0m \u001b[1m388s\u001b[0m 248ms/step - loss: 0.5258 - mse: 0.5258 - val_loss: 8.9099e-04 - val_mse: 8.9099e-04\n",
      "Epoch 4/10\n",
      "\u001b[1m1561/1561\u001b[0m \u001b[32m━━━━━━━━━━━━━━━━━━━━\u001b[0m\u001b[37m\u001b[0m \u001b[1m446s\u001b[0m 250ms/step - loss: 0.5066 - mse: 0.5066 - val_loss: 4.3841e-04 - val_mse: 4.3841e-04\n",
      "Epoch 5/10\n",
      "\u001b[1m1561/1561\u001b[0m \u001b[32m━━━━━━━━━━━━━━━━━━━━\u001b[0m\u001b[37m\u001b[0m \u001b[1m434s\u001b[0m 245ms/step - loss: 0.4965 - mse: 0.4965 - val_loss: 0.0011 - val_mse: 0.0011\n",
      "Epoch 6/10\n",
      "\u001b[1m1561/1561\u001b[0m \u001b[32m━━━━━━━━━━━━━━━━━━━━\u001b[0m\u001b[37m\u001b[0m \u001b[1m446s\u001b[0m 247ms/step - loss: 0.4800 - mse: 0.4800 - val_loss: 3.5088e-04 - val_mse: 3.5088e-04\n",
      "Epoch 7/10\n",
      "\u001b[1m1561/1561\u001b[0m \u001b[32m━━━━━━━━━━━━━━━━━━━━\u001b[0m\u001b[37m\u001b[0m \u001b[1m434s\u001b[0m 243ms/step - loss: 0.4678 - mse: 0.4678 - val_loss: 0.0020 - val_mse: 0.0020\n",
      "Epoch 8/10\n",
      "\u001b[1m1561/1561\u001b[0m \u001b[32m━━━━━━━━━━━━━━━━━━━━\u001b[0m\u001b[37m\u001b[0m \u001b[1m392s\u001b[0m 249ms/step - loss: 0.4543 - mse: 0.4543 - val_loss: 0.0029 - val_mse: 0.0029\n",
      "Epoch 9/10\n",
      "\u001b[1m1561/1561\u001b[0m \u001b[32m━━━━━━━━━━━━━━━━━━━━\u001b[0m\u001b[37m\u001b[0m \u001b[1m442s\u001b[0m 249ms/step - loss: 0.4344 - mse: 0.4344 - val_loss: 8.8423e-04 - val_mse: 8.8423e-04\n",
      "Epoch 10/10\n",
      "\u001b[1m1561/1561\u001b[0m \u001b[32m━━━━━━━━━━━━━━━━━━━━\u001b[0m\u001b[37m\u001b[0m \u001b[1m390s\u001b[0m 250ms/step - loss: 0.4183 - mse: 0.4183 - val_loss: 9.0186e-04 - val_mse: 9.0186e-04\n",
      "Epoch 1/10\n",
      "\u001b[1m1561/1561\u001b[0m \u001b[32m━━━━━━━━━━━━━━━━━━━━\u001b[0m\u001b[37m\u001b[0m \u001b[1m401s\u001b[0m 254ms/step - loss: 0.3196 - mse: 0.3196 - val_loss: 0.4081 - val_mse: 0.4081\n",
      "Epoch 2/10\n",
      "\u001b[1m1561/1561\u001b[0m \u001b[32m━━━━━━━━━━━━━━━━━━━━\u001b[0m\u001b[37m\u001b[0m \u001b[1m435s\u001b[0m 250ms/step - loss: 0.2385 - mse: 0.2385 - val_loss: 0.3850 - val_mse: 0.3850\n",
      "Epoch 3/10\n",
      "\u001b[1m1561/1561\u001b[0m \u001b[32m━━━━━━━━━━━━━━━━━━━━\u001b[0m\u001b[37m\u001b[0m \u001b[1m423s\u001b[0m 237ms/step - loss: 0.2293 - mse: 0.2293 - val_loss: 0.4182 - val_mse: 0.4182\n",
      "Epoch 4/10\n",
      "\u001b[1m1561/1561\u001b[0m \u001b[32m━━━━━━━━━━━━━━━━━━━━\u001b[0m\u001b[37m\u001b[0m \u001b[1m376s\u001b[0m 241ms/step - loss: 0.2227 - mse: 0.2227 - val_loss: 0.3829 - val_mse: 0.3829\n",
      "Epoch 5/10\n",
      "\u001b[1m1561/1561\u001b[0m \u001b[32m━━━━━━━━━━━━━━━━━━━━\u001b[0m\u001b[37m\u001b[0m \u001b[1m385s\u001b[0m 243ms/step - loss: 0.2154 - mse: 0.2154 - val_loss: 0.3756 - val_mse: 0.3756\n",
      "Epoch 6/10\n",
      "\u001b[1m1561/1561\u001b[0m \u001b[32m━━━━━━━━━━━━━━━━━━━━\u001b[0m\u001b[37m\u001b[0m \u001b[1m382s\u001b[0m 243ms/step - loss: 0.2075 - mse: 0.2075 - val_loss: 0.4622 - val_mse: 0.4622\n",
      "Epoch 7/10\n",
      "\u001b[1m1561/1561\u001b[0m \u001b[32m━━━━━━━━━━━━━━━━━━━━\u001b[0m\u001b[37m\u001b[0m \u001b[1m361s\u001b[0m 230ms/step - loss: 0.2012 - mse: 0.2012 - val_loss: 0.3985 - val_mse: 0.3985\n",
      "Epoch 8/10\n",
      "\u001b[1m1561/1561\u001b[0m \u001b[32m━━━━━━━━━━━━━━━━━━━━\u001b[0m\u001b[37m\u001b[0m \u001b[1m382s\u001b[0m 245ms/step - loss: 0.1968 - mse: 0.1968 - val_loss: 0.3776 - val_mse: 0.3776\n",
      "Epoch 9/10\n",
      "\u001b[1m1561/1561\u001b[0m \u001b[32m━━━━━━━━━━━━━━━━━━━━\u001b[0m\u001b[37m\u001b[0m \u001b[1m433s\u001b[0m 239ms/step - loss: 0.1888 - mse: 0.1888 - val_loss: 0.4661 - val_mse: 0.4661\n",
      "Epoch 10/10\n",
      "\u001b[1m1561/1561\u001b[0m \u001b[32m━━━━━━━━━━━━━━━━━━━━\u001b[0m\u001b[37m\u001b[0m \u001b[1m388s\u001b[0m 243ms/step - loss: 0.1807 - mse: 0.1807 - val_loss: 0.4323 - val_mse: 0.4323\n",
      "Epoch 1/10\n",
      "\u001b[1m1420/1420\u001b[0m \u001b[32m━━━━━━━━━━━━━━━━━━━━\u001b[0m\u001b[37m\u001b[0m \u001b[1m372s\u001b[0m 259ms/step - loss: 0.6469 - mse: 0.6469 - val_loss: 0.0016 - val_mse: 0.0016\n",
      "Epoch 2/10\n",
      "\u001b[1m1420/1420\u001b[0m \u001b[32m━━━━━━━━━━━━━━━━━━━━\u001b[0m\u001b[37m\u001b[0m \u001b[1m351s\u001b[0m 247ms/step - loss: 0.5323 - mse: 0.5323 - val_loss: 4.4548e-04 - val_mse: 4.4548e-04\n",
      "Epoch 3/10\n",
      "\u001b[1m1420/1420\u001b[0m \u001b[32m━━━━━━━━━━━━━━━━━━━━\u001b[0m\u001b[37m\u001b[0m \u001b[1m327s\u001b[0m 231ms/step - loss: 0.5119 - mse: 0.5119 - val_loss: 2.7231e-04 - val_mse: 2.7231e-04\n",
      "Epoch 4/10\n",
      "\u001b[1m1420/1420\u001b[0m \u001b[32m━━━━━━━━━━━━━━━━━━━━\u001b[0m\u001b[37m\u001b[0m \u001b[1m408s\u001b[0m 249ms/step - loss: 0.4919 - mse: 0.4919 - val_loss: 1.4982e-04 - val_mse: 1.4982e-04\n",
      "Epoch 5/10\n",
      "\u001b[1m1420/1420\u001b[0m \u001b[32m━━━━━━━━━━━━━━━━━━━━\u001b[0m\u001b[37m\u001b[0m \u001b[1m381s\u001b[0m 248ms/step - loss: 0.4775 - mse: 0.4775 - val_loss: 2.2501e-04 - val_mse: 2.2501e-04\n",
      "Epoch 6/10\n",
      "\u001b[1m1420/1420\u001b[0m \u001b[32m━━━━━━━━━━━━━━━━━━━━\u001b[0m\u001b[37m\u001b[0m \u001b[1m374s\u001b[0m 242ms/step - loss: 0.4521 - mse: 0.4521 - val_loss: 2.2205e-04 - val_mse: 2.2205e-04\n",
      "Epoch 7/10\n",
      "\u001b[1m1420/1420\u001b[0m \u001b[32m━━━━━━━━━━━━━━━━━━━━\u001b[0m\u001b[37m\u001b[0m \u001b[1m396s\u001b[0m 252ms/step - loss: 0.4320 - mse: 0.4320 - val_loss: 2.0644e-04 - val_mse: 2.0644e-04\n",
      "Epoch 8/10\n",
      "\u001b[1m1420/1420\u001b[0m \u001b[32m━━━━━━━━━━━━━━━━━━━━\u001b[0m\u001b[37m\u001b[0m \u001b[1m384s\u001b[0m 253ms/step - loss: 0.4143 - mse: 0.4143 - val_loss: 2.2084e-04 - val_mse: 2.2084e-04\n",
      "Epoch 9/10\n",
      "\u001b[1m1420/1420\u001b[0m \u001b[32m━━━━━━━━━━━━━━━━━━━━\u001b[0m\u001b[37m\u001b[0m \u001b[1m373s\u001b[0m 246ms/step - loss: 0.3966 - mse: 0.3966 - val_loss: 1.6298e-04 - val_mse: 1.6298e-04\n",
      "Epoch 10/10\n",
      "\u001b[1m1420/1420\u001b[0m \u001b[32m━━━━━━━━━━━━━━━━━━━━\u001b[0m\u001b[37m\u001b[0m \u001b[1m389s\u001b[0m 251ms/step - loss: 0.3719 - mse: 0.3719 - val_loss: 1.7392e-04 - val_mse: 1.7392e-04\n",
      "Epoch 1/10\n",
      "\u001b[1m1561/1561\u001b[0m \u001b[32m━━━━━━━━━━━━━━━━━━━━\u001b[0m\u001b[37m\u001b[0m \u001b[1m406s\u001b[0m 258ms/step - loss: 0.5509 - mse: 0.5509 - val_loss: 0.6994 - val_mse: 0.6994\n",
      "Epoch 2/10\n",
      "\u001b[1m1561/1561\u001b[0m \u001b[32m━━━━━━━━━━━━━━━━━━━━\u001b[0m\u001b[37m\u001b[0m \u001b[1m438s\u001b[0m 255ms/step - loss: 0.4580 - mse: 0.4580 - val_loss: 0.7086 - val_mse: 0.7086\n",
      "Epoch 3/10\n",
      "\u001b[1m1561/1561\u001b[0m \u001b[32m━━━━━━━━━━━━━━━━━━━━\u001b[0m\u001b[37m\u001b[0m \u001b[1m440s\u001b[0m 254ms/step - loss: 0.4451 - mse: 0.4451 - val_loss: 0.7390 - val_mse: 0.7390\n",
      "Epoch 4/10\n",
      "\u001b[1m1561/1561\u001b[0m \u001b[32m━━━━━━━━━━━━━━━━━━━━\u001b[0m\u001b[37m\u001b[0m \u001b[1m443s\u001b[0m 254ms/step - loss: 0.4301 - mse: 0.4301 - val_loss: 0.7663 - val_mse: 0.7663\n",
      "Epoch 5/10\n",
      "\u001b[1m1561/1561\u001b[0m \u001b[32m━━━━━━━━━━━━━━━━━━━━\u001b[0m\u001b[37m\u001b[0m \u001b[1m445s\u001b[0m 256ms/step - loss: 0.4153 - mse: 0.4153 - val_loss: 0.8198 - val_mse: 0.8198\n",
      "Epoch 6/10\n",
      "\u001b[1m1561/1561\u001b[0m \u001b[32m━━━━━━━━━━━━━━━━━━━━\u001b[0m\u001b[37m\u001b[0m \u001b[1m443s\u001b[0m 256ms/step - loss: 0.4023 - mse: 0.4023 - val_loss: 0.8213 - val_mse: 0.8213\n",
      "Epoch 7/10\n",
      "\u001b[1m1561/1561\u001b[0m \u001b[32m━━━━━━━━━━━━━━━━━━━━\u001b[0m\u001b[37m\u001b[0m \u001b[1m440s\u001b[0m 255ms/step - loss: 0.3856 - mse: 0.3856 - val_loss: 0.7861 - val_mse: 0.7861\n",
      "Epoch 8/10\n",
      "\u001b[1m1561/1561\u001b[0m \u001b[32m━━━━━━━━━━━━━━━━━━━━\u001b[0m\u001b[37m\u001b[0m \u001b[1m445s\u001b[0m 257ms/step - loss: 0.3694 - mse: 0.3694 - val_loss: 0.8157 - val_mse: 0.8157\n",
      "Epoch 9/10\n",
      "\u001b[1m1561/1561\u001b[0m \u001b[32m━━━━━━━━━━━━━━━━━━━━\u001b[0m\u001b[37m\u001b[0m \u001b[1m442s\u001b[0m 257ms/step - loss: 0.3502 - mse: 0.3502 - val_loss: 0.8513 - val_mse: 0.8513\n",
      "Epoch 10/10\n",
      "\u001b[1m1561/1561\u001b[0m \u001b[32m━━━━━━━━━━━━━━━━━━━━\u001b[0m\u001b[37m\u001b[0m \u001b[1m437s\u001b[0m 254ms/step - loss: 0.3327 - mse: 0.3327 - val_loss: 0.8720 - val_mse: 0.8720\n",
      "Epoch 1/10\n",
      "\u001b[1m1561/1561\u001b[0m \u001b[32m━━━━━━━━━━━━━━━━━━━━\u001b[0m\u001b[37m\u001b[0m \u001b[1m405s\u001b[0m 257ms/step - loss: 0.2742 - mse: 0.2742 - val_loss: 0.3996 - val_mse: 0.3996\n",
      "Epoch 2/10\n",
      "\u001b[1m1561/1561\u001b[0m \u001b[32m━━━━━━━━━━━━━━━━━━━━\u001b[0m\u001b[37m\u001b[0m \u001b[1m398s\u001b[0m 255ms/step - loss: 0.2421 - mse: 0.2421 - val_loss: 0.4012 - val_mse: 0.4012\n",
      "Epoch 3/10\n",
      "\u001b[1m1561/1561\u001b[0m \u001b[32m━━━━━━━━━━━━━━━━━━━━\u001b[0m\u001b[37m\u001b[0m \u001b[1m438s\u001b[0m 252ms/step - loss: 0.2356 - mse: 0.2356 - val_loss: 0.3890 - val_mse: 0.3890\n",
      "Epoch 4/10\n",
      "\u001b[1m1561/1561\u001b[0m \u001b[32m━━━━━━━━━━━━━━━━━━━━\u001b[0m\u001b[37m\u001b[0m \u001b[1m443s\u001b[0m 253ms/step - loss: 0.2292 - mse: 0.2292 - val_loss: 0.3948 - val_mse: 0.3948\n",
      "Epoch 5/10\n",
      "\u001b[1m1561/1561\u001b[0m \u001b[32m━━━━━━━━━━━━━━━━━━━━\u001b[0m\u001b[37m\u001b[0m \u001b[1m441s\u001b[0m 252ms/step - loss: 0.2240 - mse: 0.2240 - val_loss: 0.3788 - val_mse: 0.3788\n",
      "Epoch 6/10\n",
      "\u001b[1m1561/1561\u001b[0m \u001b[32m━━━━━━━━━━━━━━━━━━━━\u001b[0m\u001b[37m\u001b[0m \u001b[1m444s\u001b[0m 254ms/step - loss: 0.2179 - mse: 0.2179 - val_loss: 0.3995 - val_mse: 0.3995\n",
      "Epoch 7/10\n",
      "\u001b[1m1561/1561\u001b[0m \u001b[32m━━━━━━━━━━━━━━━━━━━━\u001b[0m\u001b[37m\u001b[0m \u001b[1m441s\u001b[0m 253ms/step - loss: 0.2137 - mse: 0.2137 - val_loss: 0.3917 - val_mse: 0.3917\n",
      "Epoch 8/10\n",
      "\u001b[1m1561/1561\u001b[0m \u001b[32m━━━━━━━━━━━━━━━━━━━━\u001b[0m\u001b[37m\u001b[0m \u001b[1m442s\u001b[0m 253ms/step - loss: 0.2056 - mse: 0.2056 - val_loss: 0.4057 - val_mse: 0.4057\n",
      "Epoch 9/10\n",
      "\u001b[1m1561/1561\u001b[0m \u001b[32m━━━━━━━━━━━━━━━━━━━━\u001b[0m\u001b[37m\u001b[0m \u001b[1m395s\u001b[0m 253ms/step - loss: 0.1999 - mse: 0.1999 - val_loss: 0.4050 - val_mse: 0.4050\n",
      "Epoch 10/10\n",
      "\u001b[1m1561/1561\u001b[0m \u001b[32m━━━━━━━━━━━━━━━━━━━━\u001b[0m\u001b[37m\u001b[0m \u001b[1m395s\u001b[0m 253ms/step - loss: 0.1917 - mse: 0.1917 - val_loss: 0.4181 - val_mse: 0.4181\n",
      "Epoch 1/10\n",
      "\u001b[1m1561/1561\u001b[0m \u001b[32m━━━━━━━━━━━━━━━━━━━━\u001b[0m\u001b[37m\u001b[0m \u001b[1m406s\u001b[0m 257ms/step - loss: 0.4096 - mse: 0.4096 - val_loss: 0.3060 - val_mse: 0.3060\n",
      "Epoch 2/10\n",
      "\u001b[1m1561/1561\u001b[0m \u001b[32m━━━━━━━━━━━━━━━━━━━━\u001b[0m\u001b[37m\u001b[0m \u001b[1m437s\u001b[0m 254ms/step - loss: 0.3259 - mse: 0.3259 - val_loss: 0.2952 - val_mse: 0.2952\n",
      "Epoch 3/10\n",
      "\u001b[1m1561/1561\u001b[0m \u001b[32m━━━━━━━━━━━━━━━━━━━━\u001b[0m\u001b[37m\u001b[0m \u001b[1m387s\u001b[0m 248ms/step - loss: 0.3143 - mse: 0.3143 - val_loss: 0.3018 - val_mse: 0.3018\n",
      "Epoch 4/10\n",
      "\u001b[1m1561/1561\u001b[0m \u001b[32m━━━━━━━━━━━━━━━━━━━━\u001b[0m\u001b[37m\u001b[0m \u001b[1m394s\u001b[0m 252ms/step - loss: 0.3042 - mse: 0.3042 - val_loss: 0.2835 - val_mse: 0.2835\n",
      "Epoch 5/10\n",
      "\u001b[1m1561/1561\u001b[0m \u001b[32m━━━━━━━━━━━━━━━━━━━━\u001b[0m\u001b[37m\u001b[0m \u001b[1m389s\u001b[0m 249ms/step - loss: 0.2952 - mse: 0.2952 - val_loss: 0.2913 - val_mse: 0.2913\n",
      "Epoch 6/10\n",
      "\u001b[1m1561/1561\u001b[0m \u001b[32m━━━━━━━━━━━━━━━━━━━━\u001b[0m\u001b[37m\u001b[0m \u001b[1m441s\u001b[0m 248ms/step - loss: 0.2872 - mse: 0.2872 - val_loss: 0.2848 - val_mse: 0.2848\n",
      "Epoch 7/10\n",
      "\u001b[1m1561/1561\u001b[0m \u001b[32m━━━━━━━━━━━━━━━━━━━━\u001b[0m\u001b[37m\u001b[0m \u001b[1m391s\u001b[0m 250ms/step - loss: 0.2766 - mse: 0.2766 - val_loss: 0.2861 - val_mse: 0.2861\n",
      "Epoch 8/10\n",
      "\u001b[1m1561/1561\u001b[0m \u001b[32m━━━━━━━━━━━━━━━━━━━━\u001b[0m\u001b[37m\u001b[0m \u001b[1m394s\u001b[0m 253ms/step - loss: 0.2681 - mse: 0.2681 - val_loss: 0.2925 - val_mse: 0.2925\n",
      "Epoch 9/10\n",
      "\u001b[1m1561/1561\u001b[0m \u001b[32m━━━━━━━━━━━━━━━━━━━━\u001b[0m\u001b[37m\u001b[0m \u001b[1m438s\u001b[0m 250ms/step - loss: 0.2561 - mse: 0.2561 - val_loss: 0.2939 - val_mse: 0.2939\n",
      "Epoch 10/10\n",
      "\u001b[1m1561/1561\u001b[0m \u001b[32m━━━━━━━━━━━━━━━━━━━━\u001b[0m\u001b[37m\u001b[0m \u001b[1m444s\u001b[0m 252ms/step - loss: 0.2465 - mse: 0.2465 - val_loss: 0.2969 - val_mse: 0.2969\n",
      "Epoch 1/10\n",
      "\u001b[1m1561/1561\u001b[0m \u001b[32m━━━━━━━━━━━━━━━━━━━━\u001b[0m\u001b[37m\u001b[0m \u001b[1m407s\u001b[0m 258ms/step - loss: 0.4500 - mse: 0.4500 - val_loss: 0.6144 - val_mse: 0.6144\n",
      "Epoch 2/10\n",
      "\u001b[1m1561/1561\u001b[0m \u001b[32m━━━━━━━━━━━━━━━━━━━━\u001b[0m\u001b[37m\u001b[0m \u001b[1m402s\u001b[0m 257ms/step - loss: 0.3885 - mse: 0.3885 - val_loss: 0.6149 - val_mse: 0.6149\n",
      "Epoch 3/10\n",
      "\u001b[1m1561/1561\u001b[0m \u001b[32m━━━━━━━━━━━━━━━━━━━━\u001b[0m\u001b[37m\u001b[0m \u001b[1m390s\u001b[0m 250ms/step - loss: 0.3790 - mse: 0.3790 - val_loss: 0.6045 - val_mse: 0.6045\n",
      "Epoch 4/10\n",
      "\u001b[1m1561/1561\u001b[0m \u001b[32m━━━━━━━━━━━━━━━━━━━━\u001b[0m\u001b[37m\u001b[0m \u001b[1m451s\u001b[0m 256ms/step - loss: 0.3709 - mse: 0.3709 - val_loss: 0.5937 - val_mse: 0.5937\n",
      "Epoch 5/10\n",
      "\u001b[1m1561/1561\u001b[0m \u001b[32m━━━━━━━━━━━━━━━━━━━━\u001b[0m\u001b[37m\u001b[0m \u001b[1m390s\u001b[0m 250ms/step - loss: 0.3615 - mse: 0.3615 - val_loss: 0.5982 - val_mse: 0.5982\n",
      "Epoch 6/10\n",
      "\u001b[1m1561/1561\u001b[0m \u001b[32m━━━━━━━━━━━━━━━━━━━━\u001b[0m\u001b[37m\u001b[0m \u001b[1m454s\u001b[0m 258ms/step - loss: 0.3537 - mse: 0.3537 - val_loss: 0.5908 - val_mse: 0.5908\n",
      "Epoch 7/10\n",
      "\u001b[1m1561/1561\u001b[0m \u001b[32m━━━━━━━━━━━━━━━━━━━━\u001b[0m\u001b[37m\u001b[0m \u001b[1m392s\u001b[0m 251ms/step - loss: 0.3422 - mse: 0.3422 - val_loss: 0.6088 - val_mse: 0.6088\n",
      "Epoch 8/10\n",
      "\u001b[1m1561/1561\u001b[0m \u001b[32m━━━━━━━━━━━━━━━━━━━━\u001b[0m\u001b[37m\u001b[0m \u001b[1m448s\u001b[0m 254ms/step - loss: 0.3324 - mse: 0.3324 - val_loss: 0.6014 - val_mse: 0.6014\n",
      "Epoch 9/10\n",
      "\u001b[1m1561/1561\u001b[0m \u001b[32m━━━━━━━━━━━━━━━━━━━━\u001b[0m\u001b[37m\u001b[0m \u001b[1m436s\u001b[0m 250ms/step - loss: 0.3185 - mse: 0.3185 - val_loss: 0.6065 - val_mse: 0.6065\n",
      "Epoch 10/10\n",
      "\u001b[1m1561/1561\u001b[0m \u001b[32m━━━━━━━━━━━━━━━━━━━━\u001b[0m\u001b[37m\u001b[0m \u001b[1m398s\u001b[0m 255ms/step - loss: 0.3044 - mse: 0.3044 - val_loss: 0.6229 - val_mse: 0.6229\n"
     ]
    }
   ],
   "source": [
    "for i in range(len(names)):\n",
    "    ############## Data Manipulation ##############\n",
    "    df = datasets[i].copy()\n",
    "    df.drop(['Liquid Precipitation'], axis=1, inplace=True)\n",
    "    df['time'] = pd.to_datetime(df['Unnamed: 0'])\n",
    "    df.drop(columns=['Unnamed: 0'], inplace=True)\n",
    "\n",
    "    df['hour'] = df['time'].dt.hour\n",
    "    df['month'] = df['time'].dt.month\n",
    "\n",
    "    # Cyclical encoding\n",
    "    df['hour_sin'] = np.sin(2 * np.pi * df['hour'] / 24)\n",
    "    df['hour_cos'] = np.cos(2 * np.pi * df['hour'] / 24)\n",
    "    df['month_sin'] = np.sin(2 * np.pi * df['month'] / 12)\n",
    "    df['month_cos'] = np.cos(2 * np.pi * df['month'] / 12)\n",
    "\n",
    "    input_features = ['Air Dew Point', 'Air Temperature (OC)', 'Humidity %',\n",
    "                      'Atmospheric Pressure', 'Wind_U', 'Wind_V']\n",
    "    target_feature = 'Cloud Cover %'\n",
    "\n",
    "  \n",
    "    split_index = int(len(df) * 0.95)\n",
    "    train_df = df.iloc[:split_index].copy()\n",
    "    val_df = df.iloc[split_index:].copy()\n",
    "\n",
    "    # Scalers\n",
    "    input_scaler = RobustScaler()\n",
    "    input_scaler.fit(train_df[input_features])\n",
    "    train_df[input_features] = input_scaler.transform(train_df[input_features])\n",
    "    val_df[input_features] = input_scaler.transform(val_df[input_features])\n",
    "\n",
    "    target_scaler = RobustScaler()\n",
    "    target_scaler.fit(train_df[[target_feature]])\n",
    "    train_df[target_feature] = target_scaler.transform(train_df[[target_feature]])\n",
    "    val_df[target_feature] = target_scaler.transform(val_df[[target_feature]])\n",
    "\n",
    "    # Save scalers\n",
    "    input_scaler_path = f\"Models/Cloud_Cover_Models/{names[i]}_input_scaler.save\"\n",
    "    target_scaler_path = f\"Models/Cloud_Cover_Models/{names[i]}_target_scaler.save\"\n",
    "    joblib.dump(input_scaler, input_scaler_path)\n",
    "    joblib.dump(target_scaler, target_scaler_path)\n",
    "\n",
    "    # Apply window \n",
    "    X_train, y_train = df_to_X_y(train_df[input_features], train_df[[target_feature]])\n",
    "    X_val, y_val = df_to_X_y(val_df[input_features], val_df[[target_feature]])\n",
    "\n",
    "    ############## Model Definition and Training ##############\n",
    "    model = Sequential([\n",
    "        InputLayer(shape=(48, 6)),\n",
    "        LSTM(64, return_sequences=True),\n",
    "        LSTM(128),\n",
    "        Dense(64, activation='relu'),\n",
    "        Dense(24)  \n",
    "    ])\n",
    "    model.compile(optimizer=Adam(0.0001), loss=MeanSquaredError(), metrics=['mse'])\n",
    "\n",
    "    model_path = f\"Models/Cloud_Cover_Models/{names[i]}_cloud_model.keras\"\n",
    "    cp = ModelCheckpoint(model_path, save_best_only=True)\n",
    "\n",
    "    model.fit(X_train, y_train,\n",
    "              validation_data=(X_val, y_val),\n",
    "              epochs=10,\n",
    "              batch_size=128,\n",
    "              callbacks=[cp])"
   ]
  },
  {
   "cell_type": "markdown",
   "id": "68b13ca8-3292-4503-b419-9f7f7f777e33",
   "metadata": {},
   "source": [
    "# Precipitation Models"
   ]
  },
  {
   "cell_type": "code",
   "execution_count": 59,
   "id": "e6eb89fc-dd41-4beb-a81b-196f4e9fe1d2",
   "metadata": {},
   "outputs": [],
   "source": [
    "class rain_dataset(Dataset):\n",
    "    def __init__(self, df, seq_len=48, output_len=12):\n",
    "        self.seq_len = seq_len\n",
    "        self.output_len = output_len\n",
    "        self.features = df[features].values.astype(np.float32)\n",
    "        self.timestamps = df['time'].reset_index(drop=True)\n",
    "        self.precip = df['Liquid Precipitation'].reset_index(drop=True).values\n",
    "        self.X, self.y = [], []\n",
    "\n",
    "        #sliding window\n",
    "        for i in range(len(df) - seq_len - output_len):\n",
    "            x_window = self.features[i:i+seq_len]\n",
    "            y_hat = self.precip[i+seq_len:i+seq_len+output_len]\n",
    "\n",
    "            start_time = self.timestamps[i]\n",
    "            end_time = self.timestamps[i + seq_len + output_len - 1]\n",
    "            expected_hours = seq_len + output_len - 1\n",
    "            if (end_time - start_time).total_seconds() / 3600 != expected_hours:\n",
    "                continue  \n",
    "\n",
    "            y = float(np.sum(y_hat) > 0) \n",
    "            self.X.append(x_window)\n",
    "            self.y.append(y)\n",
    "\n",
    "        self.X = np.array(self.X, dtype=np.float32)\n",
    "        self.y = np.array(self.y, dtype=np.float32)\n",
    "\n",
    "    def __len__(self):\n",
    "        return len(self.X)\n",
    "\n",
    "    def __getitem__(self, idx):\n",
    "        return torch.tensor(self.X[idx], dtype=torch.float32), torch.tensor(self.y[idx], dtype=torch.float32)"
   ]
  },
  {
   "cell_type": "code",
   "execution_count": 60,
   "id": "89a1f7c4-9ece-40d6-9876-3f845cd86bd0",
   "metadata": {},
   "outputs": [],
   "source": [
    "class RainLSTM(nn.Module):\n",
    "    def __init__(self, input_size, hidden_size=64, num_layers=2):\n",
    "        super(RainLSTM, self).__init__()\n",
    "        self.lstm = nn.LSTM(input_size, hidden_size, num_layers, batch_first=True)\n",
    "        self.fc = nn.Sequential(\n",
    "            nn.Linear(hidden_size, 32),\n",
    "            nn.ReLU(),\n",
    "            nn.Linear(32, 1),\n",
    "            nn.Sigmoid()  \n",
    "        )\n",
    "\n",
    "    def forward(self, x):\n",
    "        _, (hn, _) = self.lstm(x) \n",
    "        return self.fc(hn[-1])  "
   ]
  },
  {
   "cell_type": "code",
   "execution_count": 61,
   "id": "c6d55ca2-f185-4a9a-837a-93bc13a69c5a",
   "metadata": {},
   "outputs": [],
   "source": [
    "features = [\n",
    "    'Air Dew Point', 'Air Temperature (OC)', 'Humidity %',\n",
    "    'Atmospheric Pressure', 'Cloud Cover %', 'Wind_U', 'Wind_V',\n",
    "    'hour_sin', 'hour_cos', 'day_sin', 'day_cos'\n",
    "]"
   ]
  },
  {
   "cell_type": "code",
   "execution_count": 66,
   "id": "a585f95a-943c-4474-901d-d2871d9fdc66",
   "metadata": {},
   "outputs": [
    {
     "name": "stdout",
     "output_type": "stream",
     "text": [
      "Epoch 1 - Loss: 0.0632\n",
      "Epoch 2 - Loss: 0.0452\n",
      "Epoch 3 - Loss: 0.0396\n",
      "Epoch 4 - Loss: 0.0323\n",
      "Epoch 5 - Loss: 0.0274\n",
      "Epoch 6 - Loss: 0.0213\n",
      "Epoch 7 - Loss: 0.0185\n",
      "Epoch 8 - Loss: 0.0138\n",
      "Epoch 9 - Loss: 0.0119\n",
      "Epoch 10 - Loss: 0.0116\n",
      "-----------------------\n",
      "Trained and saved model for: aqaba\n",
      "-----------------------\n",
      "Epoch 1 - Loss: 0.1270\n",
      "Epoch 2 - Loss: 0.1083\n",
      "Epoch 3 - Loss: 0.0947\n",
      "Epoch 4 - Loss: 0.0848\n",
      "Epoch 5 - Loss: 0.0733\n",
      "Epoch 6 - Loss: 0.0622\n",
      "Epoch 7 - Loss: 0.0533\n",
      "Epoch 8 - Loss: 0.0441\n",
      "Epoch 9 - Loss: 0.0386\n",
      "Epoch 10 - Loss: 0.0326\n",
      "-----------------------\n",
      "Trained and saved model for: ghor\n",
      "-----------------------\n",
      "Epoch 1 - Loss: 0.1866\n",
      "Epoch 2 - Loss: 0.1618\n",
      "Epoch 3 - Loss: 0.1433\n",
      "Epoch 4 - Loss: 0.1279\n",
      "Epoch 5 - Loss: 0.1116\n",
      "Epoch 6 - Loss: 0.0964\n",
      "Epoch 7 - Loss: 0.0826\n",
      "Epoch 8 - Loss: 0.0684\n",
      "Epoch 9 - Loss: 0.0610\n",
      "Epoch 10 - Loss: 0.0520\n",
      "-----------------------\n",
      "Trained and saved model for: irbid\n",
      "-----------------------\n",
      "Epoch 1 - Loss: 0.1190\n",
      "Epoch 2 - Loss: 0.1010\n",
      "Epoch 3 - Loss: 0.0909\n",
      "Epoch 4 - Loss: 0.0808\n",
      "Epoch 5 - Loss: 0.0707\n",
      "Epoch 6 - Loss: 0.0578\n",
      "Epoch 7 - Loss: 0.0519\n",
      "Epoch 8 - Loss: 0.0413\n",
      "Epoch 9 - Loss: 0.0400\n",
      "Epoch 10 - Loss: 0.0325\n",
      "-----------------------\n",
      "Trained and saved model for: irwaished\n",
      "-----------------------\n",
      "Epoch 1 - Loss: 0.0951\n",
      "Epoch 2 - Loss: 0.0803\n",
      "Epoch 3 - Loss: 0.0688\n",
      "Epoch 4 - Loss: 0.0553\n",
      "Epoch 5 - Loss: 0.0473\n",
      "Epoch 6 - Loss: 0.0363\n",
      "Epoch 7 - Loss: 0.0298\n",
      "Epoch 8 - Loss: 0.0238\n",
      "Epoch 9 - Loss: 0.0220\n",
      "Epoch 10 - Loss: 0.0173\n",
      "-----------------------\n",
      "Trained and saved model for: maan\n",
      "-----------------------\n",
      "Epoch 1 - Loss: 0.1582\n",
      "Epoch 2 - Loss: 0.1366\n",
      "Epoch 3 - Loss: 0.1235\n",
      "Epoch 4 - Loss: 0.1062\n",
      "Epoch 5 - Loss: 0.0901\n",
      "Epoch 6 - Loss: 0.0777\n",
      "Epoch 7 - Loss: 0.0652\n",
      "Epoch 8 - Loss: 0.0552\n",
      "Epoch 9 - Loss: 0.0489\n",
      "Epoch 10 - Loss: 0.0418\n",
      "-----------------------\n",
      "Trained and saved model for: mafraq\n",
      "-----------------------\n",
      "Epoch 1 - Loss: 0.1255\n",
      "Epoch 2 - Loss: 0.1051\n",
      "Epoch 3 - Loss: 0.0940\n",
      "Epoch 4 - Loss: 0.0824\n",
      "Epoch 5 - Loss: 0.0708\n",
      "Epoch 6 - Loss: 0.0606\n",
      "Epoch 7 - Loss: 0.0513\n",
      "Epoch 8 - Loss: 0.0450\n",
      "Epoch 9 - Loss: 0.0373\n",
      "Epoch 10 - Loss: 0.0307\n",
      "-----------------------\n",
      "Trained and saved model for: amman\n",
      "-----------------------\n",
      "Epoch 1 - Loss: 0.1276\n",
      "Epoch 2 - Loss: 0.1075\n",
      "Epoch 3 - Loss: 0.0936\n",
      "Epoch 4 - Loss: 0.0788\n",
      "Epoch 5 - Loss: 0.0651\n",
      "Epoch 6 - Loss: 0.0540\n",
      "Epoch 7 - Loss: 0.0448\n",
      "Epoch 8 - Loss: 0.0382\n",
      "Epoch 9 - Loss: 0.0322\n",
      "Epoch 10 - Loss: 0.0289\n",
      "-----------------------\n",
      "Trained and saved model for: safawi\n",
      "-----------------------\n"
     ]
    }
   ],
   "source": [
    "for i in range(len(names)):\n",
    "    ############## Data Manupilation ##############\n",
    "\n",
    "    df = datasets[i].copy()\n",
    "    df['time'] = pd.to_datetime(df['Unnamed: 0'])\n",
    "    df.drop(columns=['Unnamed: 0'], inplace=True)\n",
    "\n",
    "    df['hour'] = df['time'].dt.hour\n",
    "    df['day_yr'] = df['time'].dt.dayofyear\n",
    "    df['hour_sin'] = np.sin(2 * np.pi * df['hour'] / 24)\n",
    "    df['hour_cos'] = np.cos(2 * np.pi * df['hour'] / 24)\n",
    "    df['day_sin'] = np.sin(2 * np.pi * df['day_yr'] / 365)\n",
    "    df['day_cos'] = np.cos(2 * np.pi * df['day_yr'] / 365)\n",
    "\n",
    "    scaler = StandardScaler()\n",
    "    df[features] = scaler.fit_transform(df[features])\n",
    "    \n",
    "    scaler_path = f\"Models/Precipitation_Models/{names[i]}_scaler.pkl\"\n",
    "    joblib.dump(scaler, scaler_path)\n",
    "\n",
    "    df['date'] = df['time'].dt.date\n",
    "    rain_per_day = df.groupby('date')['Liquid Precipitation'].sum()\n",
    "    rain_tomorrow = (rain_per_day.shift(-1) > 0).astype(int)\n",
    "    df['RainTomorrow'] = df['date'].map(rain_tomorrow)\n",
    "\n",
    "    df = df.dropna(subset=['RainTomorrow'])\n",
    "\n",
    "    full = rain_dataset(df)\n",
    "    \n",
    "    device = torch.device(\"cuda\" if torch.cuda.is_available() else \"cpu\")\n",
    "\n",
    "    #Splitting \n",
    "    train_len = int(len(full) * 0.95)\n",
    "    train_ds = torch.utils.data.Subset(full, range(train_len))\n",
    "    val_ds = torch.utils.data.Subset(full, range(train_len, len(full)))\n",
    "\n",
    "    model = RainLSTM(input_size=len(features)).to(device)\n",
    "\n",
    "\n",
    "    train_loader = DataLoader(train_ds, batch_size=128, shuffle=True, pin_memory=True)\n",
    "    val_loader = DataLoader(val_ds, batch_size=128, pin_memory=True)\n",
    "\n",
    "\n",
    "    optimizer = torch.optim.Adam(model.parameters(), lr=0.001)\n",
    "    criterion = nn.BCELoss()\n",
    "\n",
    "    #Training loop\n",
    "    for epoch in range(10):\n",
    "        \n",
    "        model.train()\n",
    "        total_loss = 0\n",
    "        for X_batch, y_batch in train_loader:\n",
    "            X_batch = X_batch.to(device, non_blocking=True)\n",
    "            y_batch = y_batch.to(device, non_blocking=True).unsqueeze(1)\n",
    "            optimizer.zero_grad()\n",
    "            preds = model(X_batch)\n",
    "            loss = criterion(preds, y_batch)\n",
    "            loss.backward()\n",
    "            optimizer.step()\n",
    "            total_loss += loss.item()\n",
    "\n",
    "        print(f\"Epoch {epoch+1} - Loss: {total_loss / len(train_loader):.4f}\")\n",
    "\n",
    "    model_path  = f\"Models/Precipitation_Models/{names[i]}_precipitation_model.pth\"\n",
    "    print(f\"-----------------------\\nTrained and saved model for: {names[i]}\\n-----------------------\")\n",
    "    torch.save(model.state_dict(), model_path)"
   ]
  },
  {
   "cell_type": "markdown",
   "id": "57893ccf-a75b-4773-abf5-7cebc5f41821",
   "metadata": {},
   "source": [
    "# Generating output"
   ]
  },
  {
   "cell_type": "code",
   "execution_count": 27,
   "id": "71d62d0d-7b20-4600-abf0-af7f27793edf",
   "metadata": {},
   "outputs": [],
   "source": [
    "def haversine(lat1, lon1, lat2, lon2):\n",
    "    R = 6371.0\n",
    "    dlat = radians(lat2 - lat1)\n",
    "    dlon = radians(lon2 - lon1)\n",
    "    a = sin(dlat / 2)**2 + cos(radians(lat1)) * cos(radians(lat2)) * sin(dlon / 2)**2\n",
    "    return R * 2 * atan2(sqrt(a), sqrt(1 - a))"
   ]
  },
  {
   "cell_type": "code",
   "execution_count": 26,
   "id": "4c7da696-6fab-4a0c-a0a6-5e623ff7cf61",
   "metadata": {},
   "outputs": [],
   "source": [
    "def get_nearest_station(location):\n",
    "    names = ['aqaba', 'ghor', 'irbid', 'irwaished', 'maan', 'mafraq', 'amman', 'safawi']\n",
    " \n",
    "    coordinates = [            # (latitude, longitude)\n",
    "    (29.5500, 35.0000),    # Aqabah\n",
    "    (31.0333, 35.4667),    # Ghor\n",
    "    (32.5500, 35.8500),    # Irbid\n",
    "    (32.5000, 38.2000),    # Irwaished\n",
    "    (30.1667, 35.7833),    # Maan\n",
    "    (32.3667, 36.2500),    # Mafraq\n",
    "    (31.7167, 35.9833),    # Amman\n",
    "    (32.1608, 37.1539),    # Safawi\n",
    "    ]\n",
    "    lat, lon = location\n",
    "    distances = []\n",
    "    for stat_lat, stat_lon in coordinates:\n",
    "        distances.append(haversine(lat, lon, stat_lat, stat_lon))\n",
    "    closest_idx = int(np.argmin(distances))\n",
    "    return names[closest_idx]\n",
    "    "
   ]
  },
  {
   "cell_type": "code",
   "execution_count": 23,
   "id": "660562de-0771-400c-96c7-c6dcf438ab58",
   "metadata": {},
   "outputs": [],
   "source": [
    "\n",
    "\"\"\"\n",
    "This function takes a 48 hours of input features :'Air Dew Point', 'Air Temperature (OC)', 'Humidity %',\n",
    "'Atmospheric Pressure', 'Cloud Cover %', 'Wind_U', 'Wind_V', location (latitude, longtitude) and models and transformers directory,\n",
    "returns closest station name and a single rain probability for next 24 hours\n",
    "\"\"\"\n",
    "def predict_rain_probability(location, df_48h, models_dir=\"Models/Precipitation_Models\"):\n",
    "    \n",
    "    input_features = [\n",
    "    'Air Dew Point', 'Air Temperature (OC)', 'Humidity %',\n",
    "    'Atmospheric Pressure', 'Cloud Cover %', 'Wind_U', 'Wind_V',\n",
    "    'hour_sin', 'hour_cos', 'day_sin', 'day_cos'\n",
    "    ]\n",
    "    \n",
    "    #Find closest station\n",
    "    station = get_nearest_station(location)\n",
    "\n",
    "    #Load model and scaler\n",
    "    scaler = joblib.load(f\"{models_dir}/{station}_scaler.pkl\")\n",
    "    model = RainLSTM(input_size=11)\n",
    "    model.load_state_dict(torch.load(f\"{models_dir}/{station}_precipitation_model.pth\", map_location=torch.device('cpu')))\n",
    "    model.eval()\n",
    "\n",
    "    #preprocessing \n",
    "    df = df_48h.copy()\n",
    "    df['hour'] = df['time'].dt.hour\n",
    "    df['day_yr'] = df['time'].dt.dayofyear\n",
    "    df['hour_sin'] = np.sin(2 * np.pi * df['hour'] / 24)\n",
    "    df['hour_cos'] = np.cos(2 * np.pi * df['hour'] / 24)\n",
    "    df['day_sin'] = np.sin(2 * np.pi * df['day_yr'] / 365)\n",
    "    df['day_cos'] = np.cos(2 * np.pi * df['day_yr'] / 365)\n",
    "\n",
    "    df[input_features] = scaler.transform(df[input_features])\n",
    "    input_data = df[input_features].values.astype(np.float32)\n",
    "\n",
    "    #Padding just in case\n",
    "    if len(input_data) < 48:\n",
    "        pad_len = 48 - len(input_data)\n",
    "        padding = np.repeat(input_data[-1:], pad_len, axis=0)\n",
    "        input_data = np.vstack([input_data, padding])\n",
    "\n",
    "    input_tensor = torch.tensor(input_data).unsqueeze(0)  #shape (1, 48, 11)\n",
    "\n",
    "    with torch.no_grad():\n",
    "        prob = model(input_tensor).item()\n",
    "\n",
    "    return {\n",
    "        \"closest_station\": station,\n",
    "        \"precipitation_probability\": round(prob, 4)\n",
    "    }"
   ]
  },
  {
   "cell_type": "code",
   "execution_count": 24,
   "id": "4a73c272-1064-4ecb-b6d1-241c887f69a0",
   "metadata": {},
   "outputs": [],
   "source": [
    "\"\"\"\n",
    "This function takes a 48 hours of input features :'Air Dew Point', 'Air Temperature (OC)', 'Humidity %',\n",
    "'Atmospheric Pressure', 'Cloud Cover %', 'Wind_U', 'Wind_V', location (latitude, longtitude) and models and transformers directory,\n",
    "returns cloud cover for next 24 hour time stamps\n",
    "\"\"\"\n",
    "\n",
    "def predict_cloud_cover(location, df_48h):\n",
    "    names = ['aqaba', 'ghor', 'irbid', 'irwaished', 'maan', 'mafraq', 'amman', 'safawi']\n",
    "    coordinates = [\n",
    "        (29.5500, 35.0000), (31.0333, 35.4667), (32.5500, 35.8500), (32.5000, 38.2000),\n",
    "        (30.1667, 35.7833), (32.3667, 36.2500), (31.7167, 35.9833), (32.1608, 37.1539),\n",
    "    ]\n",
    "    \n",
    "    station = get_nearest_station(location)\n",
    "    input_scaler = joblib.load(f\"Models/Cloud_Cover_Models/{station}_input_scaler.save\")\n",
    "    target_scaler = joblib.load(f\"Models/Cloud_Cover_Models/{station}_target_scaler.save\")\n",
    "    model = load_model(f\"Models/Cloud_Cover_Models/{station}_cloud_model.keras\")\n",
    "\n",
    "    #Preprocess input dataframe\n",
    "    df = df_48h.copy()\n",
    "   \n",
    "\n",
    "    df['hour'] = df['time'].dt.hour\n",
    "    df['month'] = df['time'].dt.month\n",
    "    df['hour_sin'] = np.sin(2 * np.pi * df['hour'] / 24)\n",
    "    df['hour_cos'] = np.cos(2 * np.pi * df['hour'] / 24)\n",
    "    df['month_sin'] = np.sin(2 * np.pi * df['month'] / 12)\n",
    "    df['month_cos'] = np.cos(2 * np.pi * df['month'] / 12)\n",
    "\n",
    "    input_features = ['Air Dew Point', 'Air Temperature (OC)', 'Humidity %',\n",
    "                      'Atmospheric Pressure', 'Wind_U', 'Wind_V']\n",
    "    X_input = input_scaler.transform(df[input_features])\n",
    "    X_input = np.expand_dims(X_input, axis=0)  # Shape: (1, 48, 6)\n",
    "\n",
    "    y_pred_scaled = model.predict(X_input)\n",
    "    y_pred = target_scaler.inverse_transform(y_pred_scaled)\n",
    "    \n",
    "    return y_pred.flatten()  # Shape: (24,)"
   ]
  },
  {
   "cell_type": "markdown",
   "id": "fc9028e2-d4f9-4a15-824a-60a6b78be542",
   "metadata": {},
   "source": [
    "# Testing on Amman data winter 2024"
   ]
  },
  {
   "cell_type": "code",
   "execution_count": 57,
   "id": "3f6fa0a1-c933-45b9-9acf-5082b60d18a9",
   "metadata": {},
   "outputs": [
    {
     "data": {
      "text/html": [
       "<div>\n",
       "<style scoped>\n",
       "    .dataframe tbody tr th:only-of-type {\n",
       "        vertical-align: middle;\n",
       "    }\n",
       "\n",
       "    .dataframe tbody tr th {\n",
       "        vertical-align: top;\n",
       "    }\n",
       "\n",
       "    .dataframe thead th {\n",
       "        text-align: right;\n",
       "    }\n",
       "</style>\n",
       "<table border=\"1\" class=\"dataframe\">\n",
       "  <thead>\n",
       "    <tr style=\"text-align: right;\">\n",
       "      <th></th>\n",
       "      <th>Unnamed: 0</th>\n",
       "      <th>Air Dew Point</th>\n",
       "      <th>Air Temperature (OC)</th>\n",
       "      <th>Humidity %</th>\n",
       "      <th>Atmospheric Pressure</th>\n",
       "      <th>Liquid Precipitation</th>\n",
       "      <th>Cloud Cover %</th>\n",
       "      <th>Wind_U</th>\n",
       "      <th>Wind_V</th>\n",
       "    </tr>\n",
       "  </thead>\n",
       "  <tbody>\n",
       "    <tr>\n",
       "      <th>3640</th>\n",
       "      <td>2024-05-30 17:00:00</td>\n",
       "      <td>11.0</td>\n",
       "      <td>21.0</td>\n",
       "      <td>52.8026</td>\n",
       "      <td>1012.3</td>\n",
       "      <td>0.0</td>\n",
       "      <td>0.0</td>\n",
       "      <td>7.24</td>\n",
       "      <td>-2.63</td>\n",
       "    </tr>\n",
       "    <tr>\n",
       "      <th>3641</th>\n",
       "      <td>2024-05-30 18:00:00</td>\n",
       "      <td>9.6</td>\n",
       "      <td>19.4</td>\n",
       "      <td>53.0921</td>\n",
       "      <td>1014.1</td>\n",
       "      <td>0.0</td>\n",
       "      <td>25.0</td>\n",
       "      <td>4.94</td>\n",
       "      <td>-2.85</td>\n",
       "    </tr>\n",
       "    <tr>\n",
       "      <th>3642</th>\n",
       "      <td>2024-05-30 19:00:00</td>\n",
       "      <td>11.0</td>\n",
       "      <td>17.0</td>\n",
       "      <td>67.7694</td>\n",
       "      <td>1014.1</td>\n",
       "      <td>0.0</td>\n",
       "      <td>0.0</td>\n",
       "      <td>2.10</td>\n",
       "      <td>0.00</td>\n",
       "    </tr>\n",
       "    <tr>\n",
       "      <th>3643</th>\n",
       "      <td>2024-05-30 20:00:00</td>\n",
       "      <td>12.0</td>\n",
       "      <td>17.0</td>\n",
       "      <td>72.4014</td>\n",
       "      <td>1014.1</td>\n",
       "      <td>0.0</td>\n",
       "      <td>0.0</td>\n",
       "      <td>3.12</td>\n",
       "      <td>-1.80</td>\n",
       "    </tr>\n",
       "    <tr>\n",
       "      <th>3644</th>\n",
       "      <td>2024-05-30 21:00:00</td>\n",
       "      <td>11.1</td>\n",
       "      <td>15.4</td>\n",
       "      <td>75.5450</td>\n",
       "      <td>1015.0</td>\n",
       "      <td>0.0</td>\n",
       "      <td>25.0</td>\n",
       "      <td>2.07</td>\n",
       "      <td>-0.36</td>\n",
       "    </tr>\n",
       "  </tbody>\n",
       "</table>\n",
       "</div>"
      ],
      "text/plain": [
       "               Unnamed: 0  Air Dew Point  Air Temperature (OC)  Humidity %  \\\n",
       "3640  2024-05-30 17:00:00           11.0                  21.0     52.8026   \n",
       "3641  2024-05-30 18:00:00            9.6                  19.4     53.0921   \n",
       "3642  2024-05-30 19:00:00           11.0                  17.0     67.7694   \n",
       "3643  2024-05-30 20:00:00           12.0                  17.0     72.4014   \n",
       "3644  2024-05-30 21:00:00           11.1                  15.4     75.5450   \n",
       "\n",
       "      Atmospheric Pressure  Liquid Precipitation  Cloud Cover %  Wind_U  \\\n",
       "3640                1012.3                   0.0            0.0    7.24   \n",
       "3641                1014.1                   0.0           25.0    4.94   \n",
       "3642                1014.1                   0.0            0.0    2.10   \n",
       "3643                1014.1                   0.0            0.0    3.12   \n",
       "3644                1015.0                   0.0           25.0    2.07   \n",
       "\n",
       "      Wind_V  \n",
       "3640   -2.63  \n",
       "3641   -2.85  \n",
       "3642    0.00  \n",
       "3643   -1.80  \n",
       "3644   -0.36  "
      ]
     },
     "execution_count": 57,
     "metadata": {},
     "output_type": "execute_result"
    }
   ],
   "source": [
    "#load data\n",
    "test_data = pd.read_csv(\"Amman_test_data/amman_test.csv\")\n",
    "test_data.tail()"
   ]
  },
  {
   "cell_type": "code",
   "execution_count": 58,
   "id": "72dbb5f6-aa68-433a-8529-399efe8b5742",
   "metadata": {},
   "outputs": [],
   "source": [
    "test = test_data.copy()"
   ]
  },
  {
   "cell_type": "code",
   "execution_count": 59,
   "id": "1e542564-1960-4b33-9c6b-637d429cb0fc",
   "metadata": {},
   "outputs": [
    {
     "name": "stdout",
     "output_type": "stream",
     "text": [
      "<class 'pandas.core.frame.DataFrame'>\n",
      "RangeIndex: 3645 entries, 0 to 3644\n",
      "Data columns (total 9 columns):\n",
      " #   Column                Non-Null Count  Dtype  \n",
      "---  ------                --------------  -----  \n",
      " 0   Unnamed: 0            3645 non-null   object \n",
      " 1   Air Dew Point         3645 non-null   float64\n",
      " 2   Air Temperature (OC)  3645 non-null   float64\n",
      " 3   Humidity %            3645 non-null   float64\n",
      " 4   Atmospheric Pressure  3645 non-null   float64\n",
      " 5   Liquid Precipitation  3645 non-null   float64\n",
      " 6   Cloud Cover %         3645 non-null   float64\n",
      " 7   Wind_U                3645 non-null   float64\n",
      " 8   Wind_V                3645 non-null   float64\n",
      "dtypes: float64(8), object(1)\n",
      "memory usage: 256.4+ KB\n"
     ]
    }
   ],
   "source": [
    "test.info()"
   ]
  },
  {
   "cell_type": "code",
   "execution_count": 60,
   "id": "486b8397-c2e8-4fdc-9740-06fd22334fe4",
   "metadata": {},
   "outputs": [
    {
     "name": "stderr",
     "output_type": "stream",
     "text": [
      "C:\\Users\\abood\\AppData\\Local\\Temp\\ipykernel_18812\\3151234567.py:1: FutureWarning: Series.fillna with 'method' is deprecated and will raise in a future version. Use obj.ffill() or obj.bfill() instead.\n",
      "  test['Cloud Cover %'] = test['Cloud Cover %'].rolling(window=15, center=True).mean().fillna(method='bfill').fillna(method='ffill')\n"
     ]
    }
   ],
   "source": [
    " test['Cloud Cover %'] = test['Cloud Cover %'].rolling(window=15, center=True).mean().fillna(method='bfill').fillna(method='ffill')"
   ]
  },
  {
   "cell_type": "code",
   "execution_count": 61,
   "id": "2d1439b1-e514-446a-ad10-9708b24494e8",
   "metadata": {},
   "outputs": [],
   "source": [
    "test['time'] = pd.to_datetime(test['Unnamed: 0'])\n",
    "test.drop(['Unnamed: 0'], axis = 1, inplace = True)"
   ]
  },
  {
   "cell_type": "code",
   "execution_count": 62,
   "id": "881fb6d2-2801-45c9-8498-a875db5c6cbf",
   "metadata": {},
   "outputs": [
    {
     "name": "stderr",
     "output_type": "stream",
     "text": [
      "  0%|                                                                                          | 0/149 [00:00<?, ?it/s]C:\\Users\\abood\\AppData\\Local\\Temp\\ipykernel_18812\\3447676181.py:20: FutureWarning: 'H' is deprecated and will be removed in a future version, please use 'h' instead.\n",
      "  time_range = pd.date_range(start=start_pred_time, periods=24, freq='H')\n"
     ]
    },
    {
     "name": "stdout",
     "output_type": "stream",
     "text": [
      "\u001b[1m1/1\u001b[0m \u001b[32m━━━━━━━━━━━━━━━━━━━━\u001b[0m\u001b[37m\u001b[0m \u001b[1m1s\u001b[0m 513ms/step\n"
     ]
    },
    {
     "name": "stderr",
     "output_type": "stream",
     "text": [
      "  1%|▌                                                                                 | 1/149 [00:00<02:02,  1.21it/s]C:\\Users\\abood\\AppData\\Local\\Temp\\ipykernel_18812\\3447676181.py:20: FutureWarning: 'H' is deprecated and will be removed in a future version, please use 'h' instead.\n",
      "  time_range = pd.date_range(start=start_pred_time, periods=24, freq='H')\n"
     ]
    },
    {
     "name": "stdout",
     "output_type": "stream",
     "text": [
      "\u001b[1m1/1\u001b[0m \u001b[32m━━━━━━━━━━━━━━━━━━━━\u001b[0m\u001b[37m\u001b[0m \u001b[1m1s\u001b[0m 513ms/step\n"
     ]
    },
    {
     "name": "stderr",
     "output_type": "stream",
     "text": [
      "  1%|█                                                                                 | 2/149 [00:01<01:57,  1.26it/s]C:\\Users\\abood\\AppData\\Local\\Temp\\ipykernel_18812\\3447676181.py:20: FutureWarning: 'H' is deprecated and will be removed in a future version, please use 'h' instead.\n",
      "  time_range = pd.date_range(start=start_pred_time, periods=24, freq='H')\n"
     ]
    },
    {
     "name": "stdout",
     "output_type": "stream",
     "text": [
      "\u001b[1m1/1\u001b[0m \u001b[32m━━━━━━━━━━━━━━━━━━━━\u001b[0m\u001b[37m\u001b[0m \u001b[1m1s\u001b[0m 510ms/step\n"
     ]
    },
    {
     "name": "stderr",
     "output_type": "stream",
     "text": [
      "  2%|█▋                                                                                | 3/149 [00:02<02:00,  1.22it/s]C:\\Users\\abood\\AppData\\Local\\Temp\\ipykernel_18812\\3447676181.py:20: FutureWarning: 'H' is deprecated and will be removed in a future version, please use 'h' instead.\n",
      "  time_range = pd.date_range(start=start_pred_time, periods=24, freq='H')\n"
     ]
    },
    {
     "name": "stdout",
     "output_type": "stream",
     "text": [
      "\u001b[1m1/1\u001b[0m \u001b[32m━━━━━━━━━━━━━━━━━━━━\u001b[0m\u001b[37m\u001b[0m \u001b[1m1s\u001b[0m 507ms/step\n"
     ]
    },
    {
     "name": "stderr",
     "output_type": "stream",
     "text": [
      "  3%|██▏                                                                               | 4/149 [00:03<02:06,  1.14it/s]C:\\Users\\abood\\AppData\\Local\\Temp\\ipykernel_18812\\3447676181.py:20: FutureWarning: 'H' is deprecated and will be removed in a future version, please use 'h' instead.\n",
      "  time_range = pd.date_range(start=start_pred_time, periods=24, freq='H')\n"
     ]
    },
    {
     "name": "stdout",
     "output_type": "stream",
     "text": [
      "\u001b[1m1/1\u001b[0m \u001b[32m━━━━━━━━━━━━━━━━━━━━\u001b[0m\u001b[37m\u001b[0m \u001b[1m0s\u001b[0m 478ms/step\n"
     ]
    },
    {
     "name": "stderr",
     "output_type": "stream",
     "text": [
      "  3%|██▊                                                                               | 5/149 [00:04<02:11,  1.09it/s]C:\\Users\\abood\\AppData\\Local\\Temp\\ipykernel_18812\\3447676181.py:20: FutureWarning: 'H' is deprecated and will be removed in a future version, please use 'h' instead.\n",
      "  time_range = pd.date_range(start=start_pred_time, periods=24, freq='H')\n"
     ]
    },
    {
     "name": "stdout",
     "output_type": "stream",
     "text": [
      "\u001b[1m1/1\u001b[0m \u001b[32m━━━━━━━━━━━━━━━━━━━━\u001b[0m\u001b[37m\u001b[0m \u001b[1m0s\u001b[0m 453ms/step\n"
     ]
    },
    {
     "name": "stderr",
     "output_type": "stream",
     "text": [
      "  4%|███▎                                                                              | 6/149 [00:05<02:03,  1.16it/s]C:\\Users\\abood\\AppData\\Local\\Temp\\ipykernel_18812\\3447676181.py:20: FutureWarning: 'H' is deprecated and will be removed in a future version, please use 'h' instead.\n",
      "  time_range = pd.date_range(start=start_pred_time, periods=24, freq='H')\n"
     ]
    },
    {
     "name": "stdout",
     "output_type": "stream",
     "text": [
      "\u001b[1m1/1\u001b[0m \u001b[32m━━━━━━━━━━━━━━━━━━━━\u001b[0m\u001b[37m\u001b[0m \u001b[1m1s\u001b[0m 507ms/step\n"
     ]
    },
    {
     "name": "stderr",
     "output_type": "stream",
     "text": [
      "  5%|███▊                                                                              | 7/149 [00:05<01:59,  1.19it/s]C:\\Users\\abood\\AppData\\Local\\Temp\\ipykernel_18812\\3447676181.py:20: FutureWarning: 'H' is deprecated and will be removed in a future version, please use 'h' instead.\n",
      "  time_range = pd.date_range(start=start_pred_time, periods=24, freq='H')\n"
     ]
    },
    {
     "name": "stdout",
     "output_type": "stream",
     "text": [
      "\u001b[1m1/1\u001b[0m \u001b[32m━━━━━━━━━━━━━━━━━━━━\u001b[0m\u001b[37m\u001b[0m \u001b[1m1s\u001b[0m 504ms/step\n"
     ]
    },
    {
     "name": "stderr",
     "output_type": "stream",
     "text": [
      "  5%|████▍                                                                             | 8/149 [00:06<01:55,  1.22it/s]C:\\Users\\abood\\AppData\\Local\\Temp\\ipykernel_18812\\3447676181.py:20: FutureWarning: 'H' is deprecated and will be removed in a future version, please use 'h' instead.\n",
      "  time_range = pd.date_range(start=start_pred_time, periods=24, freq='H')\n"
     ]
    },
    {
     "name": "stdout",
     "output_type": "stream",
     "text": [
      "\u001b[1m1/1\u001b[0m \u001b[32m━━━━━━━━━━━━━━━━━━━━\u001b[0m\u001b[37m\u001b[0m \u001b[1m1s\u001b[0m 507ms/step\n"
     ]
    },
    {
     "name": "stderr",
     "output_type": "stream",
     "text": [
      "  6%|████▉                                                                             | 9/149 [00:07<01:52,  1.24it/s]C:\\Users\\abood\\AppData\\Local\\Temp\\ipykernel_18812\\3447676181.py:20: FutureWarning: 'H' is deprecated and will be removed in a future version, please use 'h' instead.\n",
      "  time_range = pd.date_range(start=start_pred_time, periods=24, freq='H')\n"
     ]
    },
    {
     "name": "stdout",
     "output_type": "stream",
     "text": [
      "\u001b[1m1/1\u001b[0m \u001b[32m━━━━━━━━━━━━━━━━━━━━\u001b[0m\u001b[37m\u001b[0m \u001b[1m1s\u001b[0m 514ms/step\n"
     ]
    },
    {
     "name": "stderr",
     "output_type": "stream",
     "text": [
      "  7%|█████▍                                                                           | 10/149 [00:08<01:49,  1.27it/s]C:\\Users\\abood\\AppData\\Local\\Temp\\ipykernel_18812\\3447676181.py:20: FutureWarning: 'H' is deprecated and will be removed in a future version, please use 'h' instead.\n",
      "  time_range = pd.date_range(start=start_pred_time, periods=24, freq='H')\n"
     ]
    },
    {
     "name": "stdout",
     "output_type": "stream",
     "text": [
      "\u001b[1m1/1\u001b[0m \u001b[32m━━━━━━━━━━━━━━━━━━━━\u001b[0m\u001b[37m\u001b[0m \u001b[1m0s\u001b[0m 494ms/step\n"
     ]
    },
    {
     "name": "stderr",
     "output_type": "stream",
     "text": [
      "  7%|█████▉                                                                           | 11/149 [00:09<01:48,  1.27it/s]C:\\Users\\abood\\AppData\\Local\\Temp\\ipykernel_18812\\3447676181.py:20: FutureWarning: 'H' is deprecated and will be removed in a future version, please use 'h' instead.\n",
      "  time_range = pd.date_range(start=start_pred_time, periods=24, freq='H')\n"
     ]
    },
    {
     "name": "stdout",
     "output_type": "stream",
     "text": [
      "\u001b[1m1/1\u001b[0m \u001b[32m━━━━━━━━━━━━━━━━━━━━\u001b[0m\u001b[37m\u001b[0m \u001b[1m1s\u001b[0m 503ms/step\n"
     ]
    },
    {
     "name": "stderr",
     "output_type": "stream",
     "text": [
      "  8%|██████▌                                                                          | 12/149 [00:09<01:55,  1.19it/s]C:\\Users\\abood\\AppData\\Local\\Temp\\ipykernel_18812\\3447676181.py:20: FutureWarning: 'H' is deprecated and will be removed in a future version, please use 'h' instead.\n",
      "  time_range = pd.date_range(start=start_pred_time, periods=24, freq='H')\n"
     ]
    },
    {
     "name": "stdout",
     "output_type": "stream",
     "text": [
      "\u001b[1m1/1\u001b[0m \u001b[32m━━━━━━━━━━━━━━━━━━━━\u001b[0m\u001b[37m\u001b[0m \u001b[1m0s\u001b[0m 485ms/step\n"
     ]
    },
    {
     "name": "stderr",
     "output_type": "stream",
     "text": [
      "  9%|███████                                                                          | 13/149 [00:10<01:52,  1.21it/s]C:\\Users\\abood\\AppData\\Local\\Temp\\ipykernel_18812\\3447676181.py:20: FutureWarning: 'H' is deprecated and will be removed in a future version, please use 'h' instead.\n",
      "  time_range = pd.date_range(start=start_pred_time, periods=24, freq='H')\n"
     ]
    },
    {
     "name": "stdout",
     "output_type": "stream",
     "text": [
      "\u001b[1m1/1\u001b[0m \u001b[32m━━━━━━━━━━━━━━━━━━━━\u001b[0m\u001b[37m\u001b[0m \u001b[1m0s\u001b[0m 453ms/step\n"
     ]
    },
    {
     "name": "stderr",
     "output_type": "stream",
     "text": [
      "  9%|███████▌                                                                         | 14/149 [00:11<01:47,  1.25it/s]C:\\Users\\abood\\AppData\\Local\\Temp\\ipykernel_18812\\3447676181.py:20: FutureWarning: 'H' is deprecated and will be removed in a future version, please use 'h' instead.\n",
      "  time_range = pd.date_range(start=start_pred_time, periods=24, freq='H')\n"
     ]
    },
    {
     "name": "stdout",
     "output_type": "stream",
     "text": [
      "\u001b[1m1/1\u001b[0m \u001b[32m━━━━━━━━━━━━━━━━━━━━\u001b[0m\u001b[37m\u001b[0m \u001b[1m0s\u001b[0m 477ms/step\n"
     ]
    },
    {
     "name": "stderr",
     "output_type": "stream",
     "text": [
      " 10%|████████▏                                                                        | 15/149 [00:12<01:54,  1.17it/s]C:\\Users\\abood\\AppData\\Local\\Temp\\ipykernel_18812\\3447676181.py:20: FutureWarning: 'H' is deprecated and will be removed in a future version, please use 'h' instead.\n",
      "  time_range = pd.date_range(start=start_pred_time, periods=24, freq='H')\n"
     ]
    },
    {
     "name": "stdout",
     "output_type": "stream",
     "text": [
      "\u001b[1m1/1\u001b[0m \u001b[32m━━━━━━━━━━━━━━━━━━━━\u001b[0m\u001b[37m\u001b[0m \u001b[1m0s\u001b[0m 486ms/step\n"
     ]
    },
    {
     "name": "stderr",
     "output_type": "stream",
     "text": [
      " 11%|████████▋                                                                        | 16/149 [00:13<01:57,  1.13it/s]C:\\Users\\abood\\AppData\\Local\\Temp\\ipykernel_18812\\3447676181.py:20: FutureWarning: 'H' is deprecated and will be removed in a future version, please use 'h' instead.\n",
      "  time_range = pd.date_range(start=start_pred_time, periods=24, freq='H')\n"
     ]
    },
    {
     "name": "stdout",
     "output_type": "stream",
     "text": [
      "\u001b[1m1/1\u001b[0m \u001b[32m━━━━━━━━━━━━━━━━━━━━\u001b[0m\u001b[37m\u001b[0m \u001b[1m1s\u001b[0m 507ms/step\n"
     ]
    },
    {
     "name": "stderr",
     "output_type": "stream",
     "text": [
      " 11%|█████████▏                                                                       | 17/149 [00:14<01:50,  1.20it/s]C:\\Users\\abood\\AppData\\Local\\Temp\\ipykernel_18812\\3447676181.py:20: FutureWarning: 'H' is deprecated and will be removed in a future version, please use 'h' instead.\n",
      "  time_range = pd.date_range(start=start_pred_time, periods=24, freq='H')\n"
     ]
    },
    {
     "name": "stdout",
     "output_type": "stream",
     "text": [
      "\u001b[1m1/1\u001b[0m \u001b[32m━━━━━━━━━━━━━━━━━━━━\u001b[0m\u001b[37m\u001b[0m \u001b[1m0s\u001b[0m 486ms/step\n"
     ]
    },
    {
     "name": "stderr",
     "output_type": "stream",
     "text": [
      " 12%|█████████▊                                                                       | 18/149 [00:14<01:46,  1.23it/s]C:\\Users\\abood\\AppData\\Local\\Temp\\ipykernel_18812\\3447676181.py:20: FutureWarning: 'H' is deprecated and will be removed in a future version, please use 'h' instead.\n",
      "  time_range = pd.date_range(start=start_pred_time, periods=24, freq='H')\n"
     ]
    },
    {
     "name": "stdout",
     "output_type": "stream",
     "text": [
      "\u001b[1m1/1\u001b[0m \u001b[32m━━━━━━━━━━━━━━━━━━━━\u001b[0m\u001b[37m\u001b[0m \u001b[1m0s\u001b[0m 489ms/step\n"
     ]
    },
    {
     "name": "stderr",
     "output_type": "stream",
     "text": [
      " 13%|██████████▎                                                                      | 19/149 [00:15<01:44,  1.24it/s]C:\\Users\\abood\\AppData\\Local\\Temp\\ipykernel_18812\\3447676181.py:20: FutureWarning: 'H' is deprecated and will be removed in a future version, please use 'h' instead.\n",
      "  time_range = pd.date_range(start=start_pred_time, periods=24, freq='H')\n"
     ]
    },
    {
     "name": "stdout",
     "output_type": "stream",
     "text": [
      "\u001b[1m1/1\u001b[0m \u001b[32m━━━━━━━━━━━━━━━━━━━━\u001b[0m\u001b[37m\u001b[0m \u001b[1m1s\u001b[0m 509ms/step\n"
     ]
    },
    {
     "name": "stderr",
     "output_type": "stream",
     "text": [
      " 13%|██████████▊                                                                      | 20/149 [00:16<01:42,  1.26it/s]C:\\Users\\abood\\AppData\\Local\\Temp\\ipykernel_18812\\3447676181.py:20: FutureWarning: 'H' is deprecated and will be removed in a future version, please use 'h' instead.\n",
      "  time_range = pd.date_range(start=start_pred_time, periods=24, freq='H')\n"
     ]
    },
    {
     "name": "stdout",
     "output_type": "stream",
     "text": [
      "\u001b[1m1/1\u001b[0m \u001b[32m━━━━━━━━━━━━━━━━━━━━\u001b[0m\u001b[37m\u001b[0m \u001b[1m1s\u001b[0m 505ms/step\n"
     ]
    },
    {
     "name": "stderr",
     "output_type": "stream",
     "text": [
      " 14%|███████████▍                                                                     | 21/149 [00:17<01:41,  1.26it/s]C:\\Users\\abood\\AppData\\Local\\Temp\\ipykernel_18812\\3447676181.py:20: FutureWarning: 'H' is deprecated and will be removed in a future version, please use 'h' instead.\n",
      "  time_range = pd.date_range(start=start_pred_time, periods=24, freq='H')\n"
     ]
    },
    {
     "name": "stdout",
     "output_type": "stream",
     "text": [
      "\u001b[1m1/1\u001b[0m \u001b[32m━━━━━━━━━━━━━━━━━━━━\u001b[0m\u001b[37m\u001b[0m \u001b[1m0s\u001b[0m 499ms/step\n"
     ]
    },
    {
     "name": "stderr",
     "output_type": "stream",
     "text": [
      " 15%|███████████▉                                                                     | 22/149 [00:18<01:39,  1.28it/s]C:\\Users\\abood\\AppData\\Local\\Temp\\ipykernel_18812\\3447676181.py:20: FutureWarning: 'H' is deprecated and will be removed in a future version, please use 'h' instead.\n",
      "  time_range = pd.date_range(start=start_pred_time, periods=24, freq='H')\n"
     ]
    },
    {
     "name": "stdout",
     "output_type": "stream",
     "text": [
      "\u001b[1m1/1\u001b[0m \u001b[32m━━━━━━━━━━━━━━━━━━━━\u001b[0m\u001b[37m\u001b[0m \u001b[1m1s\u001b[0m 504ms/step\n"
     ]
    },
    {
     "name": "stderr",
     "output_type": "stream",
     "text": [
      " 15%|████████████▌                                                                    | 23/149 [00:18<01:37,  1.29it/s]C:\\Users\\abood\\AppData\\Local\\Temp\\ipykernel_18812\\3447676181.py:20: FutureWarning: 'H' is deprecated and will be removed in a future version, please use 'h' instead.\n",
      "  time_range = pd.date_range(start=start_pred_time, periods=24, freq='H')\n"
     ]
    },
    {
     "name": "stdout",
     "output_type": "stream",
     "text": [
      "\u001b[1m1/1\u001b[0m \u001b[32m━━━━━━━━━━━━━━━━━━━━\u001b[0m\u001b[37m\u001b[0m \u001b[1m1s\u001b[0m 505ms/step\n"
     ]
    },
    {
     "name": "stderr",
     "output_type": "stream",
     "text": [
      " 16%|█████████████                                                                    | 24/149 [00:19<01:43,  1.20it/s]C:\\Users\\abood\\AppData\\Local\\Temp\\ipykernel_18812\\3447676181.py:20: FutureWarning: 'H' is deprecated and will be removed in a future version, please use 'h' instead.\n",
      "  time_range = pd.date_range(start=start_pred_time, periods=24, freq='H')\n"
     ]
    },
    {
     "name": "stdout",
     "output_type": "stream",
     "text": [
      "\u001b[1m1/1\u001b[0m \u001b[32m━━━━━━━━━━━━━━━━━━━━\u001b[0m\u001b[37m\u001b[0m \u001b[1m0s\u001b[0m 489ms/step\n"
     ]
    },
    {
     "name": "stderr",
     "output_type": "stream",
     "text": [
      " 17%|█████████████▌                                                                   | 25/149 [00:20<01:40,  1.23it/s]C:\\Users\\abood\\AppData\\Local\\Temp\\ipykernel_18812\\3447676181.py:20: FutureWarning: 'H' is deprecated and will be removed in a future version, please use 'h' instead.\n",
      "  time_range = pd.date_range(start=start_pred_time, periods=24, freq='H')\n"
     ]
    },
    {
     "name": "stdout",
     "output_type": "stream",
     "text": [
      "\u001b[1m1/1\u001b[0m \u001b[32m━━━━━━━━━━━━━━━━━━━━\u001b[0m\u001b[37m\u001b[0m \u001b[1m0s\u001b[0m 469ms/step\n"
     ]
    },
    {
     "name": "stderr",
     "output_type": "stream",
     "text": [
      " 17%|██████████████▏                                                                  | 26/149 [00:21<01:36,  1.28it/s]C:\\Users\\abood\\AppData\\Local\\Temp\\ipykernel_18812\\3447676181.py:20: FutureWarning: 'H' is deprecated and will be removed in a future version, please use 'h' instead.\n",
      "  time_range = pd.date_range(start=start_pred_time, periods=24, freq='H')\n"
     ]
    },
    {
     "name": "stdout",
     "output_type": "stream",
     "text": [
      "\u001b[1m1/1\u001b[0m \u001b[32m━━━━━━━━━━━━━━━━━━━━\u001b[0m\u001b[37m\u001b[0m \u001b[1m0s\u001b[0m 485ms/step\n"
     ]
    },
    {
     "name": "stderr",
     "output_type": "stream",
     "text": [
      " 18%|██████████████▋                                                                  | 27/149 [00:22<01:35,  1.27it/s]C:\\Users\\abood\\AppData\\Local\\Temp\\ipykernel_18812\\3447676181.py:20: FutureWarning: 'H' is deprecated and will be removed in a future version, please use 'h' instead.\n",
      "  time_range = pd.date_range(start=start_pred_time, periods=24, freq='H')\n"
     ]
    },
    {
     "name": "stdout",
     "output_type": "stream",
     "text": [
      "\u001b[1m1/1\u001b[0m \u001b[32m━━━━━━━━━━━━━━━━━━━━\u001b[0m\u001b[37m\u001b[0m \u001b[1m0s\u001b[0m 490ms/step\n"
     ]
    },
    {
     "name": "stderr",
     "output_type": "stream",
     "text": [
      " 19%|███████████████▏                                                                 | 28/149 [00:23<01:41,  1.19it/s]C:\\Users\\abood\\AppData\\Local\\Temp\\ipykernel_18812\\3447676181.py:20: FutureWarning: 'H' is deprecated and will be removed in a future version, please use 'h' instead.\n",
      "  time_range = pd.date_range(start=start_pred_time, periods=24, freq='H')\n"
     ]
    },
    {
     "name": "stdout",
     "output_type": "stream",
     "text": [
      "\u001b[1m1/1\u001b[0m \u001b[32m━━━━━━━━━━━━━━━━━━━━\u001b[0m\u001b[37m\u001b[0m \u001b[1m0s\u001b[0m 479ms/step\n"
     ]
    },
    {
     "name": "stderr",
     "output_type": "stream",
     "text": [
      " 19%|███████████████▊                                                                 | 29/149 [00:23<01:38,  1.22it/s]C:\\Users\\abood\\AppData\\Local\\Temp\\ipykernel_18812\\3447676181.py:20: FutureWarning: 'H' is deprecated and will be removed in a future version, please use 'h' instead.\n",
      "  time_range = pd.date_range(start=start_pred_time, periods=24, freq='H')\n"
     ]
    },
    {
     "name": "stdout",
     "output_type": "stream",
     "text": [
      "\u001b[1m1/1\u001b[0m \u001b[32m━━━━━━━━━━━━━━━━━━━━\u001b[0m\u001b[37m\u001b[0m \u001b[1m0s\u001b[0m 498ms/step\n"
     ]
    },
    {
     "name": "stderr",
     "output_type": "stream",
     "text": [
      " 20%|████████████████▎                                                                | 30/149 [00:24<01:36,  1.23it/s]C:\\Users\\abood\\AppData\\Local\\Temp\\ipykernel_18812\\3447676181.py:20: FutureWarning: 'H' is deprecated and will be removed in a future version, please use 'h' instead.\n",
      "  time_range = pd.date_range(start=start_pred_time, periods=24, freq='H')\n"
     ]
    },
    {
     "name": "stdout",
     "output_type": "stream",
     "text": [
      "\u001b[1m1/1\u001b[0m \u001b[32m━━━━━━━━━━━━━━━━━━━━\u001b[0m\u001b[37m\u001b[0m \u001b[1m0s\u001b[0m 452ms/step\n"
     ]
    },
    {
     "name": "stderr",
     "output_type": "stream",
     "text": [
      " 21%|████████████████▊                                                                | 31/149 [00:25<01:33,  1.26it/s]C:\\Users\\abood\\AppData\\Local\\Temp\\ipykernel_18812\\3447676181.py:20: FutureWarning: 'H' is deprecated and will be removed in a future version, please use 'h' instead.\n",
      "  time_range = pd.date_range(start=start_pred_time, periods=24, freq='H')\n"
     ]
    },
    {
     "name": "stdout",
     "output_type": "stream",
     "text": [
      "\u001b[1m1/1\u001b[0m \u001b[32m━━━━━━━━━━━━━━━━━━━━\u001b[0m\u001b[37m\u001b[0m \u001b[1m1s\u001b[0m 506ms/step\n"
     ]
    },
    {
     "name": "stderr",
     "output_type": "stream",
     "text": [
      " 21%|█████████████████▍                                                               | 32/149 [00:26<01:38,  1.18it/s]C:\\Users\\abood\\AppData\\Local\\Temp\\ipykernel_18812\\3447676181.py:20: FutureWarning: 'H' is deprecated and will be removed in a future version, please use 'h' instead.\n",
      "  time_range = pd.date_range(start=start_pred_time, periods=24, freq='H')\n"
     ]
    },
    {
     "name": "stdout",
     "output_type": "stream",
     "text": [
      "\u001b[1m1/1\u001b[0m \u001b[32m━━━━━━━━━━━━━━━━━━━━\u001b[0m\u001b[37m\u001b[0m \u001b[1m1s\u001b[0m 540ms/step\n"
     ]
    },
    {
     "name": "stderr",
     "output_type": "stream",
     "text": [
      " 22%|█████████████████▉                                                               | 33/149 [00:27<01:37,  1.19it/s]C:\\Users\\abood\\AppData\\Local\\Temp\\ipykernel_18812\\3447676181.py:20: FutureWarning: 'H' is deprecated and will be removed in a future version, please use 'h' instead.\n",
      "  time_range = pd.date_range(start=start_pred_time, periods=24, freq='H')\n"
     ]
    },
    {
     "name": "stdout",
     "output_type": "stream",
     "text": [
      "\u001b[1m1/1\u001b[0m \u001b[32m━━━━━━━━━━━━━━━━━━━━\u001b[0m\u001b[37m\u001b[0m \u001b[1m0s\u001b[0m 493ms/step\n"
     ]
    },
    {
     "name": "stderr",
     "output_type": "stream",
     "text": [
      " 23%|██████████████████▍                                                              | 34/149 [00:27<01:34,  1.22it/s]C:\\Users\\abood\\AppData\\Local\\Temp\\ipykernel_18812\\3447676181.py:20: FutureWarning: 'H' is deprecated and will be removed in a future version, please use 'h' instead.\n",
      "  time_range = pd.date_range(start=start_pred_time, periods=24, freq='H')\n"
     ]
    },
    {
     "name": "stdout",
     "output_type": "stream",
     "text": [
      "\u001b[1m1/1\u001b[0m \u001b[32m━━━━━━━━━━━━━━━━━━━━\u001b[0m\u001b[37m\u001b[0m \u001b[1m0s\u001b[0m 465ms/step\n"
     ]
    },
    {
     "name": "stderr",
     "output_type": "stream",
     "text": [
      " 23%|███████████████████                                                              | 35/149 [00:28<01:32,  1.24it/s]C:\\Users\\abood\\AppData\\Local\\Temp\\ipykernel_18812\\3447676181.py:20: FutureWarning: 'H' is deprecated and will be removed in a future version, please use 'h' instead.\n",
      "  time_range = pd.date_range(start=start_pred_time, periods=24, freq='H')\n"
     ]
    },
    {
     "name": "stdout",
     "output_type": "stream",
     "text": [
      "\u001b[1m1/1\u001b[0m \u001b[32m━━━━━━━━━━━━━━━━━━━━\u001b[0m\u001b[37m\u001b[0m \u001b[1m0s\u001b[0m 495ms/step\n"
     ]
    },
    {
     "name": "stderr",
     "output_type": "stream",
     "text": [
      " 24%|███████████████████▌                                                             | 36/149 [00:29<01:31,  1.23it/s]C:\\Users\\abood\\AppData\\Local\\Temp\\ipykernel_18812\\3447676181.py:20: FutureWarning: 'H' is deprecated and will be removed in a future version, please use 'h' instead.\n",
      "  time_range = pd.date_range(start=start_pred_time, periods=24, freq='H')\n"
     ]
    },
    {
     "name": "stdout",
     "output_type": "stream",
     "text": [
      "\u001b[1m1/1\u001b[0m \u001b[32m━━━━━━━━━━━━━━━━━━━━\u001b[0m\u001b[37m\u001b[0m \u001b[1m0s\u001b[0m 373ms/step\n"
     ]
    },
    {
     "name": "stderr",
     "output_type": "stream",
     "text": [
      " 25%|████████████████████                                                             | 37/149 [00:30<01:27,  1.28it/s]C:\\Users\\abood\\AppData\\Local\\Temp\\ipykernel_18812\\3447676181.py:20: FutureWarning: 'H' is deprecated and will be removed in a future version, please use 'h' instead.\n",
      "  time_range = pd.date_range(start=start_pred_time, periods=24, freq='H')\n"
     ]
    },
    {
     "name": "stdout",
     "output_type": "stream",
     "text": [
      "\u001b[1m1/1\u001b[0m \u001b[32m━━━━━━━━━━━━━━━━━━━━\u001b[0m\u001b[37m\u001b[0m \u001b[1m1s\u001b[0m 510ms/step\n"
     ]
    },
    {
     "name": "stderr",
     "output_type": "stream",
     "text": [
      " 26%|████████████████████▋                                                            | 38/149 [00:30<01:26,  1.28it/s]C:\\Users\\abood\\AppData\\Local\\Temp\\ipykernel_18812\\3447676181.py:20: FutureWarning: 'H' is deprecated and will be removed in a future version, please use 'h' instead.\n",
      "  time_range = pd.date_range(start=start_pred_time, periods=24, freq='H')\n"
     ]
    },
    {
     "name": "stdout",
     "output_type": "stream",
     "text": [
      "\u001b[1m1/1\u001b[0m \u001b[32m━━━━━━━━━━━━━━━━━━━━\u001b[0m\u001b[37m\u001b[0m \u001b[1m1s\u001b[0m 515ms/step\n"
     ]
    },
    {
     "name": "stderr",
     "output_type": "stream",
     "text": [
      " 26%|█████████████████████▏                                                           | 39/149 [00:31<01:28,  1.25it/s]C:\\Users\\abood\\AppData\\Local\\Temp\\ipykernel_18812\\3447676181.py:20: FutureWarning: 'H' is deprecated and will be removed in a future version, please use 'h' instead.\n",
      "  time_range = pd.date_range(start=start_pred_time, periods=24, freq='H')\n"
     ]
    },
    {
     "name": "stdout",
     "output_type": "stream",
     "text": [
      "\u001b[1m1/1\u001b[0m \u001b[32m━━━━━━━━━━━━━━━━━━━━\u001b[0m\u001b[37m\u001b[0m \u001b[1m0s\u001b[0m 497ms/step\n"
     ]
    },
    {
     "name": "stderr",
     "output_type": "stream",
     "text": [
      " 27%|█████████████████████▋                                                           | 40/149 [00:32<01:28,  1.24it/s]C:\\Users\\abood\\AppData\\Local\\Temp\\ipykernel_18812\\3447676181.py:20: FutureWarning: 'H' is deprecated and will be removed in a future version, please use 'h' instead.\n",
      "  time_range = pd.date_range(start=start_pred_time, periods=24, freq='H')\n"
     ]
    },
    {
     "name": "stdout",
     "output_type": "stream",
     "text": [
      "\u001b[1m1/1\u001b[0m \u001b[32m━━━━━━━━━━━━━━━━━━━━\u001b[0m\u001b[37m\u001b[0m \u001b[1m1s\u001b[0m 519ms/step\n"
     ]
    },
    {
     "name": "stderr",
     "output_type": "stream",
     "text": [
      " 28%|██████████████████████▎                                                          | 41/149 [00:33<01:26,  1.25it/s]C:\\Users\\abood\\AppData\\Local\\Temp\\ipykernel_18812\\3447676181.py:20: FutureWarning: 'H' is deprecated and will be removed in a future version, please use 'h' instead.\n",
      "  time_range = pd.date_range(start=start_pred_time, periods=24, freq='H')\n"
     ]
    },
    {
     "name": "stdout",
     "output_type": "stream",
     "text": [
      "\u001b[1m1/1\u001b[0m \u001b[32m━━━━━━━━━━━━━━━━━━━━\u001b[0m\u001b[37m\u001b[0m \u001b[1m1s\u001b[0m 507ms/step\n"
     ]
    },
    {
     "name": "stderr",
     "output_type": "stream",
     "text": [
      " 28%|██████████████████████▊                                                          | 42/149 [00:34<01:32,  1.15it/s]C:\\Users\\abood\\AppData\\Local\\Temp\\ipykernel_18812\\3447676181.py:20: FutureWarning: 'H' is deprecated and will be removed in a future version, please use 'h' instead.\n",
      "  time_range = pd.date_range(start=start_pred_time, periods=24, freq='H')\n"
     ]
    },
    {
     "name": "stdout",
     "output_type": "stream",
     "text": [
      "\u001b[1m1/1\u001b[0m \u001b[32m━━━━━━━━━━━━━━━━━━━━\u001b[0m\u001b[37m\u001b[0m \u001b[1m1s\u001b[0m 564ms/step\n"
     ]
    },
    {
     "name": "stderr",
     "output_type": "stream",
     "text": [
      " 29%|███████████████████████▍                                                         | 43/149 [00:35<01:32,  1.15it/s]C:\\Users\\abood\\AppData\\Local\\Temp\\ipykernel_18812\\3447676181.py:20: FutureWarning: 'H' is deprecated and will be removed in a future version, please use 'h' instead.\n",
      "  time_range = pd.date_range(start=start_pred_time, periods=24, freq='H')\n"
     ]
    },
    {
     "name": "stdout",
     "output_type": "stream",
     "text": [
      "\u001b[1m1/1\u001b[0m \u001b[32m━━━━━━━━━━━━━━━━━━━━\u001b[0m\u001b[37m\u001b[0m \u001b[1m1s\u001b[0m 518ms/step\n"
     ]
    },
    {
     "name": "stderr",
     "output_type": "stream",
     "text": [
      " 30%|███████████████████████▉                                                         | 44/149 [00:36<01:29,  1.18it/s]C:\\Users\\abood\\AppData\\Local\\Temp\\ipykernel_18812\\3447676181.py:20: FutureWarning: 'H' is deprecated and will be removed in a future version, please use 'h' instead.\n",
      "  time_range = pd.date_range(start=start_pred_time, periods=24, freq='H')\n"
     ]
    },
    {
     "name": "stdout",
     "output_type": "stream",
     "text": [
      "\u001b[1m1/1\u001b[0m \u001b[32m━━━━━━━━━━━━━━━━━━━━\u001b[0m\u001b[37m\u001b[0m \u001b[1m1s\u001b[0m 532ms/step\n"
     ]
    },
    {
     "name": "stderr",
     "output_type": "stream",
     "text": [
      " 30%|████████████████████████▍                                                        | 45/149 [00:36<01:26,  1.21it/s]C:\\Users\\abood\\AppData\\Local\\Temp\\ipykernel_18812\\3447676181.py:20: FutureWarning: 'H' is deprecated and will be removed in a future version, please use 'h' instead.\n",
      "  time_range = pd.date_range(start=start_pred_time, periods=24, freq='H')\n"
     ]
    },
    {
     "name": "stdout",
     "output_type": "stream",
     "text": [
      "\u001b[1m1/1\u001b[0m \u001b[32m━━━━━━━━━━━━━━━━━━━━\u001b[0m\u001b[37m\u001b[0m \u001b[1m1s\u001b[0m 519ms/step\n"
     ]
    },
    {
     "name": "stderr",
     "output_type": "stream",
     "text": [
      " 31%|█████████████████████████                                                        | 46/149 [00:37<01:25,  1.20it/s]C:\\Users\\abood\\AppData\\Local\\Temp\\ipykernel_18812\\3447676181.py:20: FutureWarning: 'H' is deprecated and will be removed in a future version, please use 'h' instead.\n",
      "  time_range = pd.date_range(start=start_pred_time, periods=24, freq='H')\n"
     ]
    },
    {
     "name": "stdout",
     "output_type": "stream",
     "text": [
      "\u001b[1m1/1\u001b[0m \u001b[32m━━━━━━━━━━━━━━━━━━━━\u001b[0m\u001b[37m\u001b[0m \u001b[1m1s\u001b[0m 566ms/step\n"
     ]
    },
    {
     "name": "stderr",
     "output_type": "stream",
     "text": [
      " 32%|█████████████████████████▌                                                       | 47/149 [00:38<01:26,  1.18it/s]C:\\Users\\abood\\AppData\\Local\\Temp\\ipykernel_18812\\3447676181.py:20: FutureWarning: 'H' is deprecated and will be removed in a future version, please use 'h' instead.\n",
      "  time_range = pd.date_range(start=start_pred_time, periods=24, freq='H')\n"
     ]
    },
    {
     "name": "stdout",
     "output_type": "stream",
     "text": [
      "\u001b[1m1/1\u001b[0m \u001b[32m━━━━━━━━━━━━━━━━━━━━\u001b[0m\u001b[37m\u001b[0m \u001b[1m0s\u001b[0m 490ms/step\n"
     ]
    },
    {
     "name": "stderr",
     "output_type": "stream",
     "text": [
      " 32%|██████████████████████████                                                       | 48/149 [00:39<01:22,  1.22it/s]C:\\Users\\abood\\AppData\\Local\\Temp\\ipykernel_18812\\3447676181.py:20: FutureWarning: 'H' is deprecated and will be removed in a future version, please use 'h' instead.\n",
      "  time_range = pd.date_range(start=start_pred_time, periods=24, freq='H')\n"
     ]
    },
    {
     "name": "stdout",
     "output_type": "stream",
     "text": [
      "\u001b[1m1/1\u001b[0m \u001b[32m━━━━━━━━━━━━━━━━━━━━\u001b[0m\u001b[37m\u001b[0m \u001b[1m4s\u001b[0m 4s/step\n"
     ]
    },
    {
     "name": "stderr",
     "output_type": "stream",
     "text": [
      " 33%|██████████████████████████▋                                                      | 49/149 [00:43<03:01,  1.81s/it]C:\\Users\\abood\\AppData\\Local\\Temp\\ipykernel_18812\\3447676181.py:20: FutureWarning: 'H' is deprecated and will be removed in a future version, please use 'h' instead.\n",
      "  time_range = pd.date_range(start=start_pred_time, periods=24, freq='H')\n"
     ]
    },
    {
     "name": "stdout",
     "output_type": "stream",
     "text": [
      "\u001b[1m1/1\u001b[0m \u001b[32m━━━━━━━━━━━━━━━━━━━━\u001b[0m\u001b[37m\u001b[0m \u001b[1m0s\u001b[0m 490ms/step\n"
     ]
    },
    {
     "name": "stderr",
     "output_type": "stream",
     "text": [
      " 34%|███████████████████████████▏                                                     | 50/149 [00:44<02:27,  1.49s/it]C:\\Users\\abood\\AppData\\Local\\Temp\\ipykernel_18812\\3447676181.py:20: FutureWarning: 'H' is deprecated and will be removed in a future version, please use 'h' instead.\n",
      "  time_range = pd.date_range(start=start_pred_time, periods=24, freq='H')\n"
     ]
    },
    {
     "name": "stdout",
     "output_type": "stream",
     "text": [
      "\u001b[1m1/1\u001b[0m \u001b[32m━━━━━━━━━━━━━━━━━━━━\u001b[0m\u001b[37m\u001b[0m \u001b[1m1s\u001b[0m 512ms/step\n"
     ]
    },
    {
     "name": "stderr",
     "output_type": "stream",
     "text": [
      " 34%|███████████████████████████▋                                                     | 51/149 [00:45<02:05,  1.28s/it]C:\\Users\\abood\\AppData\\Local\\Temp\\ipykernel_18812\\3447676181.py:20: FutureWarning: 'H' is deprecated and will be removed in a future version, please use 'h' instead.\n",
      "  time_range = pd.date_range(start=start_pred_time, periods=24, freq='H')\n"
     ]
    },
    {
     "name": "stdout",
     "output_type": "stream",
     "text": [
      "\u001b[1m1/1\u001b[0m \u001b[32m━━━━━━━━━━━━━━━━━━━━\u001b[0m\u001b[37m\u001b[0m \u001b[1m1s\u001b[0m 566ms/step\n"
     ]
    },
    {
     "name": "stderr",
     "output_type": "stream",
     "text": [
      " 35%|████████████████████████████▎                                                    | 52/149 [00:45<01:50,  1.14s/it]C:\\Users\\abood\\AppData\\Local\\Temp\\ipykernel_18812\\3447676181.py:20: FutureWarning: 'H' is deprecated and will be removed in a future version, please use 'h' instead.\n",
      "  time_range = pd.date_range(start=start_pred_time, periods=24, freq='H')\n"
     ]
    },
    {
     "name": "stdout",
     "output_type": "stream",
     "text": [
      "\u001b[1m1/1\u001b[0m \u001b[32m━━━━━━━━━━━━━━━━━━━━\u001b[0m\u001b[37m\u001b[0m \u001b[1m0s\u001b[0m 479ms/step\n"
     ]
    },
    {
     "name": "stderr",
     "output_type": "stream",
     "text": [
      " 36%|████████████████████████████▊                                                    | 53/149 [00:46<01:39,  1.04s/it]C:\\Users\\abood\\AppData\\Local\\Temp\\ipykernel_18812\\3447676181.py:20: FutureWarning: 'H' is deprecated and will be removed in a future version, please use 'h' instead.\n",
      "  time_range = pd.date_range(start=start_pred_time, periods=24, freq='H')\n"
     ]
    },
    {
     "name": "stdout",
     "output_type": "stream",
     "text": [
      "\u001b[1m1/1\u001b[0m \u001b[32m━━━━━━━━━━━━━━━━━━━━\u001b[0m\u001b[37m\u001b[0m \u001b[1m0s\u001b[0m 404ms/step\n"
     ]
    },
    {
     "name": "stderr",
     "output_type": "stream",
     "text": [
      " 36%|█████████████████████████████▎                                                   | 54/149 [00:47<01:29,  1.06it/s]C:\\Users\\abood\\AppData\\Local\\Temp\\ipykernel_18812\\3447676181.py:20: FutureWarning: 'H' is deprecated and will be removed in a future version, please use 'h' instead.\n",
      "  time_range = pd.date_range(start=start_pred_time, periods=24, freq='H')\n"
     ]
    },
    {
     "name": "stdout",
     "output_type": "stream",
     "text": [
      "\u001b[1m1/1\u001b[0m \u001b[32m━━━━━━━━━━━━━━━━━━━━\u001b[0m\u001b[37m\u001b[0m \u001b[1m0s\u001b[0m 457ms/step\n"
     ]
    },
    {
     "name": "stderr",
     "output_type": "stream",
     "text": [
      " 37%|█████████████████████████████▉                                                   | 55/149 [00:48<01:22,  1.14it/s]C:\\Users\\abood\\AppData\\Local\\Temp\\ipykernel_18812\\3447676181.py:20: FutureWarning: 'H' is deprecated and will be removed in a future version, please use 'h' instead.\n",
      "  time_range = pd.date_range(start=start_pred_time, periods=24, freq='H')\n"
     ]
    },
    {
     "name": "stdout",
     "output_type": "stream",
     "text": [
      "\u001b[1m1/1\u001b[0m \u001b[32m━━━━━━━━━━━━━━━━━━━━\u001b[0m\u001b[37m\u001b[0m \u001b[1m0s\u001b[0m 469ms/step\n"
     ]
    },
    {
     "name": "stderr",
     "output_type": "stream",
     "text": [
      " 38%|██████████████████████████████▍                                                  | 56/149 [00:48<01:16,  1.21it/s]C:\\Users\\abood\\AppData\\Local\\Temp\\ipykernel_18812\\3447676181.py:20: FutureWarning: 'H' is deprecated and will be removed in a future version, please use 'h' instead.\n",
      "  time_range = pd.date_range(start=start_pred_time, periods=24, freq='H')\n"
     ]
    },
    {
     "name": "stdout",
     "output_type": "stream",
     "text": [
      "\u001b[1m1/1\u001b[0m \u001b[32m━━━━━━━━━━━━━━━━━━━━\u001b[0m\u001b[37m\u001b[0m \u001b[1m0s\u001b[0m 487ms/step\n"
     ]
    },
    {
     "name": "stderr",
     "output_type": "stream",
     "text": [
      " 38%|██████████████████████████████▉                                                  | 57/149 [00:49<01:13,  1.26it/s]C:\\Users\\abood\\AppData\\Local\\Temp\\ipykernel_18812\\3447676181.py:20: FutureWarning: 'H' is deprecated and will be removed in a future version, please use 'h' instead.\n",
      "  time_range = pd.date_range(start=start_pred_time, periods=24, freq='H')\n"
     ]
    },
    {
     "name": "stdout",
     "output_type": "stream",
     "text": [
      "\u001b[1m1/1\u001b[0m \u001b[32m━━━━━━━━━━━━━━━━━━━━\u001b[0m\u001b[37m\u001b[0m \u001b[1m0s\u001b[0m 419ms/step\n"
     ]
    },
    {
     "name": "stderr",
     "output_type": "stream",
     "text": [
      " 39%|███████████████████████████████▌                                                 | 58/149 [00:50<01:15,  1.20it/s]C:\\Users\\abood\\AppData\\Local\\Temp\\ipykernel_18812\\3447676181.py:20: FutureWarning: 'H' is deprecated and will be removed in a future version, please use 'h' instead.\n",
      "  time_range = pd.date_range(start=start_pred_time, periods=24, freq='H')\n"
     ]
    },
    {
     "name": "stdout",
     "output_type": "stream",
     "text": [
      "\u001b[1m1/1\u001b[0m \u001b[32m━━━━━━━━━━━━━━━━━━━━\u001b[0m\u001b[37m\u001b[0m \u001b[1m0s\u001b[0m 479ms/step\n"
     ]
    },
    {
     "name": "stderr",
     "output_type": "stream",
     "text": [
      " 40%|████████████████████████████████                                                 | 59/149 [00:51<01:13,  1.22it/s]C:\\Users\\abood\\AppData\\Local\\Temp\\ipykernel_18812\\3447676181.py:20: FutureWarning: 'H' is deprecated and will be removed in a future version, please use 'h' instead.\n",
      "  time_range = pd.date_range(start=start_pred_time, periods=24, freq='H')\n"
     ]
    },
    {
     "name": "stdout",
     "output_type": "stream",
     "text": [
      "\u001b[1m1/1\u001b[0m \u001b[32m━━━━━━━━━━━━━━━━━━━━\u001b[0m\u001b[37m\u001b[0m \u001b[1m0s\u001b[0m 471ms/step\n"
     ]
    },
    {
     "name": "stderr",
     "output_type": "stream",
     "text": [
      " 40%|████████████████████████████████▌                                                | 60/149 [00:51<01:10,  1.26it/s]C:\\Users\\abood\\AppData\\Local\\Temp\\ipykernel_18812\\3447676181.py:20: FutureWarning: 'H' is deprecated and will be removed in a future version, please use 'h' instead.\n",
      "  time_range = pd.date_range(start=start_pred_time, periods=24, freq='H')\n"
     ]
    },
    {
     "name": "stdout",
     "output_type": "stream",
     "text": [
      "\u001b[1m1/1\u001b[0m \u001b[32m━━━━━━━━━━━━━━━━━━━━\u001b[0m\u001b[37m\u001b[0m \u001b[1m0s\u001b[0m 482ms/step\n"
     ]
    },
    {
     "name": "stderr",
     "output_type": "stream",
     "text": [
      " 41%|█████████████████████████████████▏                                               | 61/149 [00:52<01:08,  1.29it/s]C:\\Users\\abood\\AppData\\Local\\Temp\\ipykernel_18812\\3447676181.py:20: FutureWarning: 'H' is deprecated and will be removed in a future version, please use 'h' instead.\n",
      "  time_range = pd.date_range(start=start_pred_time, periods=24, freq='H')\n"
     ]
    },
    {
     "name": "stdout",
     "output_type": "stream",
     "text": [
      "\u001b[1m1/1\u001b[0m \u001b[32m━━━━━━━━━━━━━━━━━━━━\u001b[0m\u001b[37m\u001b[0m \u001b[1m0s\u001b[0m 486ms/step\n"
     ]
    },
    {
     "name": "stderr",
     "output_type": "stream",
     "text": [
      " 42%|█████████████████████████████████▋                                               | 62/149 [00:53<01:06,  1.31it/s]C:\\Users\\abood\\AppData\\Local\\Temp\\ipykernel_18812\\3447676181.py:20: FutureWarning: 'H' is deprecated and will be removed in a future version, please use 'h' instead.\n",
      "  time_range = pd.date_range(start=start_pred_time, periods=24, freq='H')\n"
     ]
    },
    {
     "name": "stdout",
     "output_type": "stream",
     "text": [
      "\u001b[1m1/1\u001b[0m \u001b[32m━━━━━━━━━━━━━━━━━━━━\u001b[0m\u001b[37m\u001b[0m \u001b[1m1s\u001b[0m 502ms/step\n"
     ]
    },
    {
     "name": "stderr",
     "output_type": "stream",
     "text": [
      " 42%|██████████████████████████████████▏                                              | 63/149 [00:54<01:05,  1.31it/s]C:\\Users\\abood\\AppData\\Local\\Temp\\ipykernel_18812\\3447676181.py:20: FutureWarning: 'H' is deprecated and will be removed in a future version, please use 'h' instead.\n",
      "  time_range = pd.date_range(start=start_pred_time, periods=24, freq='H')\n"
     ]
    },
    {
     "name": "stdout",
     "output_type": "stream",
     "text": [
      "\u001b[1m1/1\u001b[0m \u001b[32m━━━━━━━━━━━━━━━━━━━━\u001b[0m\u001b[37m\u001b[0m \u001b[1m0s\u001b[0m 443ms/step\n"
     ]
    },
    {
     "name": "stderr",
     "output_type": "stream",
     "text": [
      " 43%|██████████████████████████████████▊                                              | 64/149 [00:54<01:02,  1.36it/s]C:\\Users\\abood\\AppData\\Local\\Temp\\ipykernel_18812\\3447676181.py:20: FutureWarning: 'H' is deprecated and will be removed in a future version, please use 'h' instead.\n",
      "  time_range = pd.date_range(start=start_pred_time, periods=24, freq='H')\n"
     ]
    },
    {
     "name": "stdout",
     "output_type": "stream",
     "text": [
      "\u001b[1m1/1\u001b[0m \u001b[32m━━━━━━━━━━━━━━━━━━━━\u001b[0m\u001b[37m\u001b[0m \u001b[1m0s\u001b[0m 485ms/step\n"
     ]
    },
    {
     "name": "stderr",
     "output_type": "stream",
     "text": [
      " 44%|███████████████████████████████████▎                                             | 65/149 [00:55<01:02,  1.34it/s]C:\\Users\\abood\\AppData\\Local\\Temp\\ipykernel_18812\\3447676181.py:20: FutureWarning: 'H' is deprecated and will be removed in a future version, please use 'h' instead.\n",
      "  time_range = pd.date_range(start=start_pred_time, periods=24, freq='H')\n"
     ]
    },
    {
     "name": "stdout",
     "output_type": "stream",
     "text": [
      "\u001b[1m1/1\u001b[0m \u001b[32m━━━━━━━━━━━━━━━━━━━━\u001b[0m\u001b[37m\u001b[0m \u001b[1m0s\u001b[0m 476ms/step\n"
     ]
    },
    {
     "name": "stderr",
     "output_type": "stream",
     "text": [
      " 44%|███████████████████████████████████▉                                             | 66/149 [00:56<01:06,  1.24it/s]C:\\Users\\abood\\AppData\\Local\\Temp\\ipykernel_18812\\3447676181.py:20: FutureWarning: 'H' is deprecated and will be removed in a future version, please use 'h' instead.\n",
      "  time_range = pd.date_range(start=start_pred_time, periods=24, freq='H')\n"
     ]
    },
    {
     "name": "stdout",
     "output_type": "stream",
     "text": [
      "\u001b[1m1/1\u001b[0m \u001b[32m━━━━━━━━━━━━━━━━━━━━\u001b[0m\u001b[37m\u001b[0m \u001b[1m1s\u001b[0m 504ms/step\n"
     ]
    },
    {
     "name": "stderr",
     "output_type": "stream",
     "text": [
      " 45%|████████████████████████████████████▍                                            | 67/149 [00:57<01:06,  1.24it/s]C:\\Users\\abood\\AppData\\Local\\Temp\\ipykernel_18812\\3447676181.py:20: FutureWarning: 'H' is deprecated and will be removed in a future version, please use 'h' instead.\n",
      "  time_range = pd.date_range(start=start_pred_time, periods=24, freq='H')\n"
     ]
    },
    {
     "name": "stdout",
     "output_type": "stream",
     "text": [
      "\u001b[1m1/1\u001b[0m \u001b[32m━━━━━━━━━━━━━━━━━━━━\u001b[0m\u001b[37m\u001b[0m \u001b[1m0s\u001b[0m 492ms/step\n"
     ]
    },
    {
     "name": "stderr",
     "output_type": "stream",
     "text": [
      " 46%|████████████████████████████████████▉                                            | 68/149 [00:58<01:04,  1.26it/s]C:\\Users\\abood\\AppData\\Local\\Temp\\ipykernel_18812\\3447676181.py:20: FutureWarning: 'H' is deprecated and will be removed in a future version, please use 'h' instead.\n",
      "  time_range = pd.date_range(start=start_pred_time, periods=24, freq='H')\n"
     ]
    },
    {
     "name": "stdout",
     "output_type": "stream",
     "text": [
      "\u001b[1m1/1\u001b[0m \u001b[32m━━━━━━━━━━━━━━━━━━━━\u001b[0m\u001b[37m\u001b[0m \u001b[1m0s\u001b[0m 459ms/step\n"
     ]
    },
    {
     "name": "stderr",
     "output_type": "stream",
     "text": [
      " 46%|█████████████████████████████████████▌                                           | 69/149 [00:58<01:01,  1.30it/s]C:\\Users\\abood\\AppData\\Local\\Temp\\ipykernel_18812\\3447676181.py:20: FutureWarning: 'H' is deprecated and will be removed in a future version, please use 'h' instead.\n",
      "  time_range = pd.date_range(start=start_pred_time, periods=24, freq='H')\n"
     ]
    },
    {
     "name": "stdout",
     "output_type": "stream",
     "text": [
      "\u001b[1m1/1\u001b[0m \u001b[32m━━━━━━━━━━━━━━━━━━━━\u001b[0m\u001b[37m\u001b[0m \u001b[1m0s\u001b[0m 472ms/step\n"
     ]
    },
    {
     "name": "stderr",
     "output_type": "stream",
     "text": [
      " 47%|██████████████████████████████████████                                           | 70/149 [00:59<00:59,  1.32it/s]C:\\Users\\abood\\AppData\\Local\\Temp\\ipykernel_18812\\3447676181.py:20: FutureWarning: 'H' is deprecated and will be removed in a future version, please use 'h' instead.\n",
      "  time_range = pd.date_range(start=start_pred_time, periods=24, freq='H')\n"
     ]
    },
    {
     "name": "stdout",
     "output_type": "stream",
     "text": [
      "\u001b[1m1/1\u001b[0m \u001b[32m━━━━━━━━━━━━━━━━━━━━\u001b[0m\u001b[37m\u001b[0m \u001b[1m0s\u001b[0m 483ms/step\n"
     ]
    },
    {
     "name": "stderr",
     "output_type": "stream",
     "text": [
      " 48%|██████████████████████████████████████▌                                          | 71/149 [01:00<00:58,  1.34it/s]C:\\Users\\abood\\AppData\\Local\\Temp\\ipykernel_18812\\3447676181.py:20: FutureWarning: 'H' is deprecated and will be removed in a future version, please use 'h' instead.\n",
      "  time_range = pd.date_range(start=start_pred_time, periods=24, freq='H')\n"
     ]
    },
    {
     "name": "stdout",
     "output_type": "stream",
     "text": [
      "\u001b[1m1/1\u001b[0m \u001b[32m━━━━━━━━━━━━━━━━━━━━\u001b[0m\u001b[37m\u001b[0m \u001b[1m0s\u001b[0m 473ms/step\n"
     ]
    },
    {
     "name": "stderr",
     "output_type": "stream",
     "text": [
      " 48%|███████████████████████████████████████▏                                         | 72/149 [01:01<00:57,  1.33it/s]C:\\Users\\abood\\AppData\\Local\\Temp\\ipykernel_18812\\3447676181.py:20: FutureWarning: 'H' is deprecated and will be removed in a future version, please use 'h' instead.\n",
      "  time_range = pd.date_range(start=start_pred_time, periods=24, freq='H')\n"
     ]
    },
    {
     "name": "stdout",
     "output_type": "stream",
     "text": [
      "\u001b[1m1/1\u001b[0m \u001b[32m━━━━━━━━━━━━━━━━━━━━\u001b[0m\u001b[37m\u001b[0m \u001b[1m0s\u001b[0m 482ms/step\n"
     ]
    },
    {
     "name": "stderr",
     "output_type": "stream",
     "text": [
      " 49%|███████████████████████████████████████▋                                         | 73/149 [01:01<00:56,  1.34it/s]C:\\Users\\abood\\AppData\\Local\\Temp\\ipykernel_18812\\3447676181.py:20: FutureWarning: 'H' is deprecated and will be removed in a future version, please use 'h' instead.\n",
      "  time_range = pd.date_range(start=start_pred_time, periods=24, freq='H')\n"
     ]
    },
    {
     "name": "stdout",
     "output_type": "stream",
     "text": [
      "\u001b[1m1/1\u001b[0m \u001b[32m━━━━━━━━━━━━━━━━━━━━\u001b[0m\u001b[37m\u001b[0m \u001b[1m0s\u001b[0m 475ms/step\n"
     ]
    },
    {
     "name": "stderr",
     "output_type": "stream",
     "text": [
      " 50%|████████████████████████████████████████▏                                        | 74/149 [01:02<00:55,  1.34it/s]C:\\Users\\abood\\AppData\\Local\\Temp\\ipykernel_18812\\3447676181.py:20: FutureWarning: 'H' is deprecated and will be removed in a future version, please use 'h' instead.\n",
      "  time_range = pd.date_range(start=start_pred_time, periods=24, freq='H')\n"
     ]
    },
    {
     "name": "stdout",
     "output_type": "stream",
     "text": [
      "\u001b[1m1/1\u001b[0m \u001b[32m━━━━━━━━━━━━━━━━━━━━\u001b[0m\u001b[37m\u001b[0m \u001b[1m0s\u001b[0m 486ms/step\n"
     ]
    },
    {
     "name": "stderr",
     "output_type": "stream",
     "text": [
      " 50%|████████████████████████████████████████▊                                        | 75/149 [01:03<00:53,  1.37it/s]C:\\Users\\abood\\AppData\\Local\\Temp\\ipykernel_18812\\3447676181.py:20: FutureWarning: 'H' is deprecated and will be removed in a future version, please use 'h' instead.\n",
      "  time_range = pd.date_range(start=start_pred_time, periods=24, freq='H')\n"
     ]
    },
    {
     "name": "stdout",
     "output_type": "stream",
     "text": [
      "\u001b[1m1/1\u001b[0m \u001b[32m━━━━━━━━━━━━━━━━━━━━\u001b[0m\u001b[37m\u001b[0m \u001b[1m0s\u001b[0m 464ms/step\n"
     ]
    },
    {
     "name": "stderr",
     "output_type": "stream",
     "text": [
      " 51%|█████████████████████████████████████████▎                                       | 76/149 [01:03<00:52,  1.38it/s]C:\\Users\\abood\\AppData\\Local\\Temp\\ipykernel_18812\\3447676181.py:20: FutureWarning: 'H' is deprecated and will be removed in a future version, please use 'h' instead.\n",
      "  time_range = pd.date_range(start=start_pred_time, periods=24, freq='H')\n"
     ]
    },
    {
     "name": "stdout",
     "output_type": "stream",
     "text": [
      "\u001b[1m1/1\u001b[0m \u001b[32m━━━━━━━━━━━━━━━━━━━━\u001b[0m\u001b[37m\u001b[0m \u001b[1m0s\u001b[0m 470ms/step\n"
     ]
    },
    {
     "name": "stderr",
     "output_type": "stream",
     "text": [
      " 52%|█████████████████████████████████████████▊                                       | 77/149 [01:04<00:57,  1.24it/s]C:\\Users\\abood\\AppData\\Local\\Temp\\ipykernel_18812\\3447676181.py:20: FutureWarning: 'H' is deprecated and will be removed in a future version, please use 'h' instead.\n",
      "  time_range = pd.date_range(start=start_pred_time, periods=24, freq='H')\n"
     ]
    },
    {
     "name": "stdout",
     "output_type": "stream",
     "text": [
      "\u001b[1m1/1\u001b[0m \u001b[32m━━━━━━━━━━━━━━━━━━━━\u001b[0m\u001b[37m\u001b[0m \u001b[1m0s\u001b[0m 477ms/step\n"
     ]
    },
    {
     "name": "stderr",
     "output_type": "stream",
     "text": [
      " 52%|██████████████████████████████████████████▍                                      | 78/149 [01:05<00:55,  1.27it/s]C:\\Users\\abood\\AppData\\Local\\Temp\\ipykernel_18812\\3447676181.py:20: FutureWarning: 'H' is deprecated and will be removed in a future version, please use 'h' instead.\n",
      "  time_range = pd.date_range(start=start_pred_time, periods=24, freq='H')\n"
     ]
    },
    {
     "name": "stdout",
     "output_type": "stream",
     "text": [
      "\u001b[1m1/1\u001b[0m \u001b[32m━━━━━━━━━━━━━━━━━━━━\u001b[0m\u001b[37m\u001b[0m \u001b[1m0s\u001b[0m 498ms/step\n"
     ]
    },
    {
     "name": "stderr",
     "output_type": "stream",
     "text": [
      " 53%|██████████████████████████████████████████▉                                      | 79/149 [01:06<00:54,  1.29it/s]C:\\Users\\abood\\AppData\\Local\\Temp\\ipykernel_18812\\3447676181.py:20: FutureWarning: 'H' is deprecated and will be removed in a future version, please use 'h' instead.\n",
      "  time_range = pd.date_range(start=start_pred_time, periods=24, freq='H')\n"
     ]
    },
    {
     "name": "stdout",
     "output_type": "stream",
     "text": [
      "\u001b[1m1/1\u001b[0m \u001b[32m━━━━━━━━━━━━━━━━━━━━\u001b[0m\u001b[37m\u001b[0m \u001b[1m0s\u001b[0m 493ms/step\n"
     ]
    },
    {
     "name": "stderr",
     "output_type": "stream",
     "text": [
      " 54%|███████████████████████████████████████████▍                                     | 80/149 [01:07<00:56,  1.22it/s]C:\\Users\\abood\\AppData\\Local\\Temp\\ipykernel_18812\\3447676181.py:20: FutureWarning: 'H' is deprecated and will be removed in a future version, please use 'h' instead.\n",
      "  time_range = pd.date_range(start=start_pred_time, periods=24, freq='H')\n"
     ]
    },
    {
     "name": "stdout",
     "output_type": "stream",
     "text": [
      "\u001b[1m1/1\u001b[0m \u001b[32m━━━━━━━━━━━━━━━━━━━━\u001b[0m\u001b[37m\u001b[0m \u001b[1m0s\u001b[0m 490ms/step\n"
     ]
    },
    {
     "name": "stderr",
     "output_type": "stream",
     "text": [
      " 54%|████████████████████████████████████████████                                     | 81/149 [01:08<00:54,  1.25it/s]C:\\Users\\abood\\AppData\\Local\\Temp\\ipykernel_18812\\3447676181.py:20: FutureWarning: 'H' is deprecated and will be removed in a future version, please use 'h' instead.\n",
      "  time_range = pd.date_range(start=start_pred_time, periods=24, freq='H')\n"
     ]
    },
    {
     "name": "stdout",
     "output_type": "stream",
     "text": [
      "\u001b[1m1/1\u001b[0m \u001b[32m━━━━━━━━━━━━━━━━━━━━\u001b[0m\u001b[37m\u001b[0m \u001b[1m0s\u001b[0m 465ms/step\n"
     ]
    },
    {
     "name": "stderr",
     "output_type": "stream",
     "text": [
      " 55%|████████████████████████████████████████████▌                                    | 82/149 [01:08<00:52,  1.27it/s]C:\\Users\\abood\\AppData\\Local\\Temp\\ipykernel_18812\\3447676181.py:20: FutureWarning: 'H' is deprecated and will be removed in a future version, please use 'h' instead.\n",
      "  time_range = pd.date_range(start=start_pred_time, periods=24, freq='H')\n"
     ]
    },
    {
     "name": "stdout",
     "output_type": "stream",
     "text": [
      "\u001b[1m1/1\u001b[0m \u001b[32m━━━━━━━━━━━━━━━━━━━━\u001b[0m\u001b[37m\u001b[0m \u001b[1m0s\u001b[0m 476ms/step\n"
     ]
    },
    {
     "name": "stderr",
     "output_type": "stream",
     "text": [
      " 56%|█████████████████████████████████████████████                                    | 83/149 [01:09<00:50,  1.31it/s]C:\\Users\\abood\\AppData\\Local\\Temp\\ipykernel_18812\\3447676181.py:20: FutureWarning: 'H' is deprecated and will be removed in a future version, please use 'h' instead.\n",
      "  time_range = pd.date_range(start=start_pred_time, periods=24, freq='H')\n"
     ]
    },
    {
     "name": "stdout",
     "output_type": "stream",
     "text": [
      "\u001b[1m1/1\u001b[0m \u001b[32m━━━━━━━━━━━━━━━━━━━━\u001b[0m\u001b[37m\u001b[0m \u001b[1m0s\u001b[0m 466ms/step\n"
     ]
    },
    {
     "name": "stderr",
     "output_type": "stream",
     "text": [
      " 56%|█████████████████████████████████████████████▋                                   | 84/149 [01:10<00:48,  1.34it/s]C:\\Users\\abood\\AppData\\Local\\Temp\\ipykernel_18812\\3447676181.py:20: FutureWarning: 'H' is deprecated and will be removed in a future version, please use 'h' instead.\n",
      "  time_range = pd.date_range(start=start_pred_time, periods=24, freq='H')\n"
     ]
    },
    {
     "name": "stdout",
     "output_type": "stream",
     "text": [
      "\u001b[1m1/1\u001b[0m \u001b[32m━━━━━━━━━━━━━━━━━━━━\u001b[0m\u001b[37m\u001b[0m \u001b[1m0s\u001b[0m 466ms/step\n"
     ]
    },
    {
     "name": "stderr",
     "output_type": "stream",
     "text": [
      " 57%|██████████████████████████████████████████████▏                                  | 85/149 [01:11<00:48,  1.33it/s]C:\\Users\\abood\\AppData\\Local\\Temp\\ipykernel_18812\\3447676181.py:20: FutureWarning: 'H' is deprecated and will be removed in a future version, please use 'h' instead.\n",
      "  time_range = pd.date_range(start=start_pred_time, periods=24, freq='H')\n"
     ]
    },
    {
     "name": "stdout",
     "output_type": "stream",
     "text": [
      "\u001b[1m1/1\u001b[0m \u001b[32m━━━━━━━━━━━━━━━━━━━━\u001b[0m\u001b[37m\u001b[0m \u001b[1m0s\u001b[0m 468ms/step\n"
     ]
    },
    {
     "name": "stderr",
     "output_type": "stream",
     "text": [
      " 58%|██████████████████████████████████████████████▊                                  | 86/149 [01:11<00:46,  1.36it/s]C:\\Users\\abood\\AppData\\Local\\Temp\\ipykernel_18812\\3447676181.py:20: FutureWarning: 'H' is deprecated and will be removed in a future version, please use 'h' instead.\n",
      "  time_range = pd.date_range(start=start_pred_time, periods=24, freq='H')\n"
     ]
    },
    {
     "name": "stdout",
     "output_type": "stream",
     "text": [
      "\u001b[1m1/1\u001b[0m \u001b[32m━━━━━━━━━━━━━━━━━━━━\u001b[0m\u001b[37m\u001b[0m \u001b[1m0s\u001b[0m 486ms/step\n"
     ]
    },
    {
     "name": "stderr",
     "output_type": "stream",
     "text": [
      " 58%|███████████████████████████████████████████████▎                                 | 87/149 [01:12<00:45,  1.37it/s]C:\\Users\\abood\\AppData\\Local\\Temp\\ipykernel_18812\\3447676181.py:20: FutureWarning: 'H' is deprecated and will be removed in a future version, please use 'h' instead.\n",
      "  time_range = pd.date_range(start=start_pred_time, periods=24, freq='H')\n"
     ]
    },
    {
     "name": "stdout",
     "output_type": "stream",
     "text": [
      "\u001b[1m1/1\u001b[0m \u001b[32m━━━━━━━━━━━━━━━━━━━━\u001b[0m\u001b[37m\u001b[0m \u001b[1m0s\u001b[0m 473ms/step\n"
     ]
    },
    {
     "name": "stderr",
     "output_type": "stream",
     "text": [
      " 59%|███████████████████████████████████████████████▊                                 | 88/149 [01:13<00:44,  1.38it/s]C:\\Users\\abood\\AppData\\Local\\Temp\\ipykernel_18812\\3447676181.py:20: FutureWarning: 'H' is deprecated and will be removed in a future version, please use 'h' instead.\n",
      "  time_range = pd.date_range(start=start_pred_time, periods=24, freq='H')\n",
      "100%|████████████████████████████████████████████████████████████████████████████████| 149/149 [01:13<00:00,  2.04it/s]\n"
     ]
    }
   ],
   "source": [
    "start_date = pd.to_datetime(\"2024-01-01\")\n",
    "end_date = pd.to_datetime(\"2024-03-30\")\n",
    "\n",
    "# Make sure test is sorted\n",
    "test = test.sort_values(\"time\").reset_index(drop=True)\n",
    "\n",
    "predicted = []\n",
    "actual = []\n",
    "timestamps = []\n",
    "\n",
    "# Step size of 24 instead of 1\n",
    "step = 24\n",
    "location = (31.95, 35.93)  # example: Amman\n",
    "\n",
    "for i in tqdm(range(0, len(test) - 48 - 24 + 1, step)):\n",
    "    df_48h = test.iloc[i:i+48]\n",
    "    \n",
    "    # Time range of prediction\n",
    "    start_pred_time = df_48h['time'].iloc[-1] + pd.Timedelta(hours=1)\n",
    "    time_range = pd.date_range(start=start_pred_time, periods=24, freq='H')\n",
    "\n",
    "    # Skip predictions outside desired range\n",
    "    if time_range[-1] < start_date or time_range[0] > end_date:\n",
    "        continue\n",
    "\n",
    "    preds = predict_cloud_cover(location, df_48h)\n",
    "\n",
    "    for t, p in zip(time_range, preds):\n",
    "        if start_date <= t <= end_date:\n",
    "            predicted.append(p)\n",
    "            timestamps.append(t)\n",
    "            actual_value = test.loc[test['time'] == t, 'Cloud Cover %']\n",
    "            actual.append(actual_value.values[0] if not actual_value.empty else np.nan)\n",
    "\n",
    "# Assemble results\n",
    "results_df = pd.DataFrame({\n",
    "    \"time\": timestamps,\n",
    "    \"predicted\": predicted,\n",
    "    \"actual\": actual\n",
    "}).dropna()\n",
    "\n"
   ]
  },
  {
   "cell_type": "code",
   "execution_count": 63,
   "id": "867b7762-6a5d-4263-8aa4-59b9b3de9ac9",
   "metadata": {},
   "outputs": [
    {
     "data": {
      "image/png": "[encoded data removed]",
      "text/plain": [
       "<Figure size 1600x600 with 1 Axes>"
      ]
     },
     "metadata": {},
     "output_type": "display_data"
    }
   ],
   "source": [
    "# Plot\n",
    "plt.figure(figsize=(16,6))\n",
    "plt.plot(results_df[\"time\"], results_df[\"actual\"], label=\"Actual\", alpha=0.7)\n",
    "plt.plot(results_df[\"time\"], results_df[\"predicted\"], label=\"Predicted\", alpha=0.7)\n",
    "plt.xlabel(\"Time\")\n",
    "plt.ylabel(\"Cloud Cover %\")\n",
    "plt.title(\"Predicted vs Actual Cloud Cover (2024-01-01 to 2024-03-30)\")\n",
    "plt.legend()\n",
    "plt.grid(True)\n",
    "plt.tight_layout()\n",
    "plt.show()"
   ]
  },
  {
   "cell_type": "code",
   "execution_count": 64,
   "id": "2f559fb2-4bc1-4635-af19-74744641347e",
   "metadata": {},
   "outputs": [
    {
     "name": "stderr",
     "output_type": "stream",
     "text": [
      "100%|████████████████████████████████████████████████████████████████████████████████| 149/149 [00:03<00:00, 43.39it/s]\n"
     ]
    },
    {
     "data": {
      "image/png": "[encoded data removed]",
      "text/plain": [
       "<Figure size 1400x500 with 1 Axes>"
      ]
     },
     "metadata": {},
     "output_type": "display_data"
    }
   ],
   "source": [
    "cloud_cover_map = results_df.set_index(\"time\")[\"predicted\"].to_dict()\n",
    "test[\"Cloud Cover %\"] = test[\"time\"].map(cloud_cover_map).fillna(test[\"Cloud Cover %\"])\n",
    "\n",
    "# Step 2: Predict rain probability using the updated Cloud Cover %\n",
    "test = test.sort_values(\"time\").reset_index(drop=True)\n",
    "start_date = pd.to_datetime(\"2024-01-01\")\n",
    "end_date = pd.to_datetime(\"2024-03-30\")\n",
    "step = 24  # Predict every 24 hours\n",
    "location = (31.95, 35.93)  # Example: Amman\n",
    "\n",
    "timestamps = []\n",
    "predicted_probs = []\n",
    "actual_rain_labels = []\n",
    "\n",
    "for i in tqdm(range(0, len(test) - 48 - 24 + 1, step)):\n",
    "    df_48h = test.iloc[i:i+48].copy()\n",
    "    pred_start_time = df_48h['time'].iloc[-1] + pd.Timedelta(hours=1)\n",
    "    pred_end_time = pred_start_time + pd.Timedelta(hours=23)\n",
    "\n",
    "    if pred_end_time < start_date or pred_start_time > end_date:\n",
    "        continue\n",
    "\n",
    "    # Predict rain probability\n",
    "    rain_prob = predict_rain_probability(location, df_48h)[\"precipitation_probability\"]\n",
    "    \n",
    "    # Get actual label: Did it rain in the next 24h (Liquid Precipitation > 0.1)?\n",
    "    next_24h_window = test[\n",
    "        (test['time'] >= pred_start_time) & (test['time'] <= pred_end_time)\n",
    "    ]\n",
    "    if len(next_24h_window) < 24:\n",
    "        continue\n",
    "    \n",
    "    rain_label = int((next_24h_window[\"Liquid Precipitation\"] > 0.1).any())\n",
    "\n",
    "    # Save results\n",
    "    timestamps.append(pred_end_time)\n",
    "    predicted_probs.append(rain_prob)\n",
    "    actual_rain_labels.append(rain_label)\n",
    "\n",
    "# Step 3: Plotting (your preferred style)\n",
    "df_plot = pd.DataFrame({\n",
    "    'Timestamp': timestamps,\n",
    "    'Predicted Probability': predicted_probs,\n",
    "    'Actual': actual_rain_labels\n",
    "}).sort_values('Timestamp')\n",
    "\n",
    "plt.figure(figsize=(14, 5))\n",
    "plt.plot(df_plot['Timestamp'], df_plot['Predicted Probability'], label='Predicted Probability', marker='o')\n",
    "plt.plot(df_plot['Timestamp'], df_plot['Actual'], label='Actual Rain (0/1)', linestyle='--', marker='x')\n",
    "plt.title('Rain Prediction Probabilities vs Actuals (Jan–Mar 2024)')\n",
    "plt.xlabel('Date')\n",
    "plt.ylabel('Rain Probability / Actual')\n",
    "plt.legend()\n",
    "plt.grid(True)\n",
    "plt.xticks(rotation=45)\n",
    "plt.tight_layout()\n",
    "plt.show()"
   ]
  },
  {
   "cell_type": "code",
   "execution_count": 65,
   "id": "fda91cab-bb91-4eb8-a366-f382b5bacd9e",
   "metadata": {},
   "outputs": [
    {
     "data": {
      "text/plain": [
       "24    0.0\n",
       "25    0.0\n",
       "26    0.0\n",
       "27    0.0\n",
       "28    0.0\n",
       "Name: Liquid Precipitation, dtype: float64"
      ]
     },
     "execution_count": 65,
     "metadata": {},
     "output_type": "execute_result"
    }
   ],
   "source": [
    "test[(test['time'] > start_date) & (test['time'] > start_date)]['Liquid Precipitation'].head()"
   ]
  },
  {
   "cell_type": "markdown",
   "id": "292a23d7-3efd-41eb-98fc-f55eb4cd9dfb",
   "metadata": {},
   "source": [
    "# Integrating models"
   ]
  },
  {
   "cell_type": "code",
   "execution_count": 87,
   "id": "32b9d055-3176-4871-9d4d-e659a3e5b8b0",
   "metadata": {},
   "outputs": [],
   "source": [
    "def generate_5day_forecast(df_120h, location):\n",
    "    all_cloud_preds = []\n",
    "\n",
    "    # ---- 1. Predict Cloud Cover (5 x 24h = 120h total) ----\n",
    "    for step in [0, 24, 48, 72, 96]:\n",
    "        df_window = df_120h.iloc[step:step + 48].copy()\n",
    "        cloud_preds = predict_cloud_cover(location, df_window)  # returns 24 values\n",
    "        all_cloud_preds.extend(cloud_preds)\n",
    "\n",
    "    # Check length\n",
    "    assert len(all_cloud_preds) == 120, f\"Expected 120 cloud preds, got {len(all_cloud_preds)}\"\n",
    "\n",
    "    # ---- 2. Insert predicted cloud cover ----\n",
    "    df_with_cloud = df_120h.copy()\n",
    "    df_with_cloud['Cloud Cover %'] = 0.0  # ensure float type\n",
    "    cloud_col_index = df_with_cloud.columns.get_loc('Cloud Cover %')\n",
    "\n",
    "    # Assign predicted cloud cover to the last 120 hours\n",
    "    df_with_cloud.iloc[-120:, cloud_col_index] = all_cloud_preds\n",
    "\n",
    "    # ---- 3. Predict Rain Probabilities using 12h sliding window ----\n",
    "    rain_probs = []  # Will store 10 values (each 12h forecast)\n",
    "\n",
    "    for step in range(0, 109, 12):  # steps: 0, 12, ..., 72\n",
    "        df_window = df_with_cloud.iloc[step:step + 48].copy()\n",
    "        prob = predict_rain_probability(location, df_window)[\"precipitation_probability\"]\n",
    "        rain_probs.append(prob)\n",
    "\n",
    "    # ---- 4. Group into (day, night) tuples ----\n",
    "    day_night_tuples = [\n",
    "        (rain_probs[i], rain_probs[i + 1]) for i in range(0, len(rain_probs), 2)\n",
    "    ]\n",
    "\n",
    "    return {\n",
    "        \"cloud_cover\": all_cloud_preds,           # 120 values (5x24h)\n",
    "        \"rain_probabilities\": day_night_tuples    # 5 tuples (day, night)\n",
    "    }"
   ]
  },
  {
   "cell_type": "code",
   "execution_count": 68,
   "id": "b7067b8c-b82b-4ab7-af85-1c158c8dddc6",
   "metadata": {},
   "outputs": [],
   "source": [
    "# API for testing \n",
    "\n",
    "def get_ordered_hourly_variables(params):\n",
    "    return params.get(\"hourly\", [])\n",
    "\n",
    "cache_session = requests_cache.CachedSession('.cache', expire_after=3600)\n",
    "retry_session = retry(cache_session, retries=5, backoff_factor=0.2)\n",
    "openmeteo = openmeteo_requests.Client(session=retry_session)\n",
    "\n",
    "def get_reading(url, latitude, longtitute, hourly, past_days, future_days):\n",
    "    params = {\n",
    "        \"latitude\": latitude,\n",
    "        \"longitude\": longtitute,\n",
    "        \"hourly\": hourly,\n",
    "        \"past_days\": past_days,\n",
    "        \"forecast_days\": future_days\n",
    "    }\n",
    "\n",
    "    response = openmeteo.weather_api(url, params=params)[0]\n",
    "    hourly = response.Hourly()\n",
    "\n",
    "    #Convert to UTC+3\n",
    "    start_time = pd.to_datetime(hourly.Time(), unit=\"s\", utc=True) + pd.Timedelta(hours=3)\n",
    "    end_time = pd.to_datetime(hourly.TimeEnd(), unit=\"s\", utc=True) + pd.Timedelta(hours=3)\n",
    "\n",
    "    hourly_data = {\n",
    "        \"time\": pd.date_range(\n",
    "            start=start_time,\n",
    "            end=end_time,\n",
    "            freq=pd.Timedelta(seconds=hourly.Interval()),\n",
    "            inclusive=\"left\"\n",
    "        )\n",
    "    }\n",
    "\n",
    "    for i, var_name in enumerate(get_ordered_hourly_variables(params)):\n",
    "        hourly_data[var_name] = hourly.Variables(i).ValuesAsNumpy()\n",
    "\n",
    "    hourly_df = pd.DataFrame(data=hourly_data)\n",
    "\n",
    "    hourly_df.rename(columns={\n",
    "        \"dew_point_2m\": \"Air Dew Point\",\n",
    "        \"temperature_2m\": \"Air Temperature (OC)\",\n",
    "        \"relative_humidity_2m\": \"Humidity %\",\n",
    "        \"pressure_msl\": \"Atmospheric Pressure\",\n",
    "        \"wind_speed_10m\": \"Wind Speed (MPS)\",\n",
    "        \"wind_direction_10m\": \"Wind Direction (Degrees)\"\n",
    "    }, inplace=True)\n",
    "    hourly_df['time'] = hourly_df['time'].dt.tz_localize(None)\n",
    "\n",
    "\n",
    "    u, v = wind_components(\n",
    "        hourly_df['Wind Speed (MPS)'].values * units('m/s'),\n",
    "        hourly_df['Wind Direction (Degrees)'].values * units.degree\n",
    "    )\n",
    "\n",
    "    hourly_df['Wind_U'] = u.magnitude.round(2)\n",
    "    hourly_df['Wind_V'] = v.magnitude.round(2)\n",
    "\n",
    "    hourly_df.drop(columns=[\"Wind Speed (MPS)\", \"Wind Direction (Degrees)\"], inplace=True)\n",
    "\n",
    "    return hourly_df"
   ]
  },
  {
   "cell_type": "code",
   "execution_count": 71,
   "id": "bf15eddf-b1d5-441a-abd0-c8c0dfebe535",
   "metadata": {},
   "outputs": [],
   "source": [
    "test_data_full = get_reading(\n",
    "    \"https://api.open-meteo.com/v1/forecast\",\n",
    "    31.95, 35.91,\n",
    "    [\"temperature_2m\", \"dew_point_2m\", \"relative_humidity_2m\",\n",
    "     \"pressure_msl\", \"wind_speed_10m\", \"wind_direction_10m\"],\n",
    "    past_days=3, future_days=3\n",
    ")\n",
    "\n",
    "# Step 2: Ensure 'time' column is in proper datetime format with UTC timezone\n",
    "test_data_full['time'] = pd.to_datetime(test_data_full['time'], utc=True)\n",
    "\n",
    "# Step 3: Set the start time for slicing (May 9th, 00:00 UTC)\n",
    "start_time = pd.Timestamp(\"2025-05-10 00:00:00\", tz=\"UTC\")\n",
    "end_time = start_time + pd.Timedelta(hours=120)\n",
    "\n",
    "# Step 4: Filter the dataframe based on the start and end time\n",
    "test_data = test_data_full[(test_data_full['time'] >= start_time) & (test_data_full['time'] < end_time)].reset_index(drop=True)"
   ]
  },
  {
   "cell_type": "code",
   "execution_count": 72,
   "id": "619c5d35-ab13-4887-8f0a-e5561f2b9758",
   "metadata": {},
   "outputs": [
    {
     "data": {
      "text/plain": [
       "120"
      ]
     },
     "execution_count": 72,
     "metadata": {},
     "output_type": "execute_result"
    }
   ],
   "source": [
    "len(test_data)"
   ]
  },
  {
   "cell_type": "code",
   "execution_count": 73,
   "id": "709d881d-3a57-4491-85cc-f8da834632d4",
   "metadata": {},
   "outputs": [
    {
     "data": {
      "text/html": [
       "<div>\n",
       "<style scoped>\n",
       "    .dataframe tbody tr th:only-of-type {\n",
       "        vertical-align: middle;\n",
       "    }\n",
       "\n",
       "    .dataframe tbody tr th {\n",
       "        vertical-align: top;\n",
       "    }\n",
       "\n",
       "    .dataframe thead th {\n",
       "        text-align: right;\n",
       "    }\n",
       "</style>\n",
       "<table border=\"1\" class=\"dataframe\">\n",
       "  <thead>\n",
       "    <tr style=\"text-align: right;\">\n",
       "      <th></th>\n",
       "      <th>time</th>\n",
       "      <th>Air Temperature (OC)</th>\n",
       "      <th>Air Dew Point</th>\n",
       "      <th>Humidity %</th>\n",
       "      <th>Atmospheric Pressure</th>\n",
       "      <th>Wind_U</th>\n",
       "      <th>Wind_V</th>\n",
       "    </tr>\n",
       "  </thead>\n",
       "  <tbody>\n",
       "    <tr>\n",
       "      <th>0</th>\n",
       "      <td>2025-05-10 00:00:00+00:00</td>\n",
       "      <td>22.559999</td>\n",
       "      <td>2.086033</td>\n",
       "      <td>26.0</td>\n",
       "      <td>1014.700012</td>\n",
       "      <td>1.80</td>\n",
       "      <td>-1.44</td>\n",
       "    </tr>\n",
       "    <tr>\n",
       "      <th>1</th>\n",
       "      <td>2025-05-10 01:00:00+00:00</td>\n",
       "      <td>22.010000</td>\n",
       "      <td>1.617485</td>\n",
       "      <td>26.0</td>\n",
       "      <td>1014.599976</td>\n",
       "      <td>3.60</td>\n",
       "      <td>-1.08</td>\n",
       "    </tr>\n",
       "    <tr>\n",
       "      <th>2</th>\n",
       "      <td>2025-05-10 02:00:00+00:00</td>\n",
       "      <td>21.110001</td>\n",
       "      <td>0.850447</td>\n",
       "      <td>26.0</td>\n",
       "      <td>1014.099976</td>\n",
       "      <td>3.60</td>\n",
       "      <td>-0.72</td>\n",
       "    </tr>\n",
       "    <tr>\n",
       "      <th>3</th>\n",
       "      <td>2025-05-10 03:00:00+00:00</td>\n",
       "      <td>21.260000</td>\n",
       "      <td>-0.129288</td>\n",
       "      <td>24.0</td>\n",
       "      <td>1014.400024</td>\n",
       "      <td>2.88</td>\n",
       "      <td>-1.80</td>\n",
       "    </tr>\n",
       "    <tr>\n",
       "      <th>4</th>\n",
       "      <td>2025-05-10 04:00:00+00:00</td>\n",
       "      <td>21.059999</td>\n",
       "      <td>-0.298238</td>\n",
       "      <td>24.0</td>\n",
       "      <td>1014.200012</td>\n",
       "      <td>2.52</td>\n",
       "      <td>-0.72</td>\n",
       "    </tr>\n",
       "  </tbody>\n",
       "</table>\n",
       "</div>"
      ],
      "text/plain": [
       "                       time  Air Temperature (OC)  Air Dew Point  Humidity %  \\\n",
       "0 2025-05-10 00:00:00+00:00             22.559999       2.086033        26.0   \n",
       "1 2025-05-10 01:00:00+00:00             22.010000       1.617485        26.0   \n",
       "2 2025-05-10 02:00:00+00:00             21.110001       0.850447        26.0   \n",
       "3 2025-05-10 03:00:00+00:00             21.260000      -0.129288        24.0   \n",
       "4 2025-05-10 04:00:00+00:00             21.059999      -0.298238        24.0   \n",
       "\n",
       "   Atmospheric Pressure  Wind_U  Wind_V  \n",
       "0           1014.700012    1.80   -1.44  \n",
       "1           1014.599976    3.60   -1.08  \n",
       "2           1014.099976    3.60   -0.72  \n",
       "3           1014.400024    2.88   -1.80  \n",
       "4           1014.200012    2.52   -0.72  "
      ]
     },
     "execution_count": 73,
     "metadata": {},
     "output_type": "execute_result"
    }
   ],
   "source": [
    "test_data.head()"
   ]
  },
  {
   "cell_type": "code",
   "execution_count": 49,
   "id": "24522b3e-3f3a-4ea9-9ea2-d45de982cdfd",
   "metadata": {},
   "outputs": [
    {
     "data": {
      "text/html": [
       "<div>\n",
       "<style scoped>\n",
       "    .dataframe tbody tr th:only-of-type {\n",
       "        vertical-align: middle;\n",
       "    }\n",
       "\n",
       "    .dataframe tbody tr th {\n",
       "        vertical-align: top;\n",
       "    }\n",
       "\n",
       "    .dataframe thead th {\n",
       "        text-align: right;\n",
       "    }\n",
       "</style>\n",
       "<table border=\"1\" class=\"dataframe\">\n",
       "  <thead>\n",
       "    <tr style=\"text-align: right;\">\n",
       "      <th></th>\n",
       "      <th>time</th>\n",
       "      <th>Air Temperature (OC)</th>\n",
       "      <th>Air Dew Point</th>\n",
       "      <th>Humidity %</th>\n",
       "      <th>Atmospheric Pressure</th>\n",
       "      <th>Wind_U</th>\n",
       "      <th>Wind_V</th>\n",
       "    </tr>\n",
       "  </thead>\n",
       "  <tbody>\n",
       "    <tr>\n",
       "      <th>0</th>\n",
       "      <td>2025-05-09 03:00:00</td>\n",
       "      <td>20.809999</td>\n",
       "      <td>0.594678</td>\n",
       "      <td>26.0</td>\n",
       "      <td>1013.700012</td>\n",
       "      <td>3.24</td>\n",
       "      <td>-1.08</td>\n",
       "    </tr>\n",
       "    <tr>\n",
       "      <th>1</th>\n",
       "      <td>2025-05-09 04:00:00</td>\n",
       "      <td>20.410000</td>\n",
       "      <td>0.253585</td>\n",
       "      <td>26.0</td>\n",
       "      <td>1013.599976</td>\n",
       "      <td>0.72</td>\n",
       "      <td>0.72</td>\n",
       "    </tr>\n",
       "    <tr>\n",
       "      <th>2</th>\n",
       "      <td>2025-05-09 05:00:00</td>\n",
       "      <td>20.510000</td>\n",
       "      <td>-0.202272</td>\n",
       "      <td>25.0</td>\n",
       "      <td>1013.599976</td>\n",
       "      <td>-0.72</td>\n",
       "      <td>0.36</td>\n",
       "    </tr>\n",
       "    <tr>\n",
       "      <th>3</th>\n",
       "      <td>2025-05-09 06:00:00</td>\n",
       "      <td>20.410000</td>\n",
       "      <td>-0.287174</td>\n",
       "      <td>25.0</td>\n",
       "      <td>1013.900024</td>\n",
       "      <td>-2.16</td>\n",
       "      <td>-0.72</td>\n",
       "    </tr>\n",
       "    <tr>\n",
       "      <th>4</th>\n",
       "      <td>2025-05-09 07:00:00</td>\n",
       "      <td>21.160000</td>\n",
       "      <td>0.349470</td>\n",
       "      <td>25.0</td>\n",
       "      <td>1014.599976</td>\n",
       "      <td>-0.36</td>\n",
       "      <td>-0.72</td>\n",
       "    </tr>\n",
       "  </tbody>\n",
       "</table>\n",
       "</div>"
      ],
      "text/plain": [
       "                 time  Air Temperature (OC)  Air Dew Point  Humidity %  \\\n",
       "0 2025-05-09 03:00:00             20.809999       0.594678        26.0   \n",
       "1 2025-05-09 04:00:00             20.410000       0.253585        26.0   \n",
       "2 2025-05-09 05:00:00             20.510000      -0.202272        25.0   \n",
       "3 2025-05-09 06:00:00             20.410000      -0.287174        25.0   \n",
       "4 2025-05-09 07:00:00             21.160000       0.349470        25.0   \n",
       "\n",
       "   Atmospheric Pressure  Wind_U  Wind_V  \n",
       "0           1013.700012    3.24   -1.08  \n",
       "1           1013.599976    0.72    0.72  \n",
       "2           1013.599976   -0.72    0.36  \n",
       "3           1013.900024   -2.16   -0.72  \n",
       "4           1014.599976   -0.36   -0.72  "
      ]
     },
     "execution_count": 49,
     "metadata": {},
     "output_type": "execute_result"
    }
   ],
   "source": [
    "test_data.head()"
   ]
  },
  {
   "cell_type": "code",
   "execution_count": 88,
   "id": "59f85c07-ae8f-4fa7-8cef-7842f465b4f8",
   "metadata": {},
   "outputs": [
    {
     "name": "stdout",
     "output_type": "stream",
     "text": [
      "\u001b[1m1/1\u001b[0m \u001b[32m━━━━━━━━━━━━━━━━━━━━\u001b[0m\u001b[37m\u001b[0m \u001b[1m0s\u001b[0m 496ms/step\n",
      "\u001b[1m1/1\u001b[0m \u001b[32m━━━━━━━━━━━━━━━━━━━━\u001b[0m\u001b[37m\u001b[0m \u001b[1m0s\u001b[0m 473ms/step\n",
      "\u001b[1m1/1\u001b[0m \u001b[32m━━━━━━━━━━━━━━━━━━━━\u001b[0m\u001b[37m\u001b[0m \u001b[1m0s\u001b[0m 466ms/step\n",
      "\u001b[1m1/1\u001b[0m \u001b[32m━━━━━━━━━━━━━━━━━━━━\u001b[0m\u001b[37m\u001b[0m \u001b[1m0s\u001b[0m 491ms/step\n",
      "\u001b[1m1/1\u001b[0m \u001b[32m━━━━━━━━━━━━━━━━━━━━\u001b[0m\u001b[37m\u001b[0m \u001b[1m0s\u001b[0m 405ms/step\n"
     ]
    }
   ],
   "source": [
    "forecast = generate_5day_forecast(test_data, (31.95, 35.91))"
   ]
  },
  {
   "cell_type": "code",
   "execution_count": 89,
   "id": "c0bf7880-ba47-40ef-978c-8bc04680b6ed",
   "metadata": {},
   "outputs": [
    {
     "data": {
      "text/plain": [
       "{'cloud_cover': [1.5057158,\n",
       "  3.7337759,\n",
       "  1.4468029,\n",
       "  3.3403795,\n",
       "  0.75148344,\n",
       "  2.1134083,\n",
       "  2.1345842,\n",
       "  1.9178848,\n",
       "  3.0852633,\n",
       "  3.1135738,\n",
       "  3.9292765,\n",
       "  3.117981,\n",
       "  2.8078144,\n",
       "  2.1592453,\n",
       "  2.7828512,\n",
       "  2.5974886,\n",
       "  2.3120663,\n",
       "  3.145081,\n",
       "  3.879602,\n",
       "  2.7631934,\n",
       "  2.7852705,\n",
       "  2.286679,\n",
       "  1.7479441,\n",
       "  1.1481028,\n",
       "  54.861336,\n",
       "  48.54815,\n",
       "  48.80996,\n",
       "  48.151443,\n",
       "  49.613228,\n",
       "  51.226944,\n",
       "  47.248924,\n",
       "  51.261646,\n",
       "  50.234287,\n",
       "  55.59915,\n",
       "  55.556026,\n",
       "  49.952717,\n",
       "  55.323273,\n",
       "  56.339775,\n",
       "  61.813065,\n",
       "  51.478622,\n",
       "  51.934006,\n",
       "  50.001293,\n",
       "  46.369114,\n",
       "  49.923973,\n",
       "  48.884285,\n",
       "  49.681465,\n",
       "  44.580997,\n",
       "  48.13807,\n",
       "  48.447372,\n",
       "  45.43518,\n",
       "  44.653145,\n",
       "  44.593346,\n",
       "  47.069237,\n",
       "  47.572712,\n",
       "  41.338696,\n",
       "  48.45116,\n",
       "  47.13557,\n",
       "  48.783066,\n",
       "  52.20683,\n",
       "  44.140312,\n",
       "  50.135937,\n",
       "  51.647873,\n",
       "  55.258934,\n",
       "  42.991444,\n",
       "  47.026096,\n",
       "  43.987106,\n",
       "  39.339214,\n",
       "  43.679184,\n",
       "  43.54469,\n",
       "  43.674786,\n",
       "  43.49617,\n",
       "  41.10605,\n",
       "  31.859587,\n",
       "  37.43982,\n",
       "  36.043335,\n",
       "  34.942,\n",
       "  33.766846,\n",
       "  31.247396,\n",
       "  36.252354,\n",
       "  35.995853,\n",
       "  33.664116,\n",
       "  37.970688,\n",
       "  37.45009,\n",
       "  38.498398,\n",
       "  36.96798,\n",
       "  35.962997,\n",
       "  37.776928,\n",
       "  34.86671,\n",
       "  31.233507,\n",
       "  29.833332,\n",
       "  27.868893,\n",
       "  27.48927,\n",
       "  23.543304,\n",
       "  26.624516,\n",
       "  24.390495,\n",
       "  22.32083,\n",
       "  20.309666,\n",
       "  25.759624,\n",
       "  25.716125,\n",
       "  27.311749,\n",
       "  24.44553,\n",
       "  26.184414,\n",
       "  32.712833,\n",
       "  29.98613,\n",
       "  26.029022,\n",
       "  30.320478,\n",
       "  31.6879,\n",
       "  31.0577,\n",
       "  28.129446,\n",
       "  25.508621,\n",
       "  28.904566,\n",
       "  27.242891,\n",
       "  19.195059,\n",
       "  19.562668,\n",
       "  19.024765,\n",
       "  18.104767,\n",
       "  14.420174,\n",
       "  15.22703,\n",
       "  15.209719,\n",
       "  11.875246],\n",
       " 'rain_probabilities': [(0.0, 0.0001),\n",
       "  (0.0008, 0.0842),\n",
       "  (0.0, 0.0),\n",
       "  (0.0, 0.0),\n",
       "  (0.0, 0.0)]}"
      ]
     },
     "execution_count": 89,
     "metadata": {},
     "output_type": "execute_result"
    }
   ],
   "source": [
    "forecast"
   ]
  },
  {
   "cell_type": "code",
   "execution_count": null,
   "id": "cf53b1bd-9a87-4e86-a580-cead2ef0e2a9",
   "metadata": {},
   "outputs": [],
   "source": []
  }
 ],
 "metadata": {
  "kernelspec": {
   "display_name": "Python 3 (ipykernel)",
   "language": "python",
   "name": "python3"
  },
  "language_info": {
   "codemirror_mode": {
    "name": "ipython",
    "version": 3
   },
   "file_extension": ".py",
   "mimetype": "text/x-python",
   "name": "python",
   "nbconvert_exporter": "python",
   "pygments_lexer": "ipython3",
   "version": "3.10.16"
  }
 },
 "nbformat": 4,
 "nbformat_minor": 5
}
