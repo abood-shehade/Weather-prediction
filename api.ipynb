{
 "cells": [
  {
   "cell_type": "code",
   "execution_count": null,
   "id": "d805995e",
   "metadata": {},
   "outputs": [],
   "source": [
    "import openmeteo_requests\n",
    "import requests_cache\n",
    "import pandas as pd\n",
    "from retry_requests import retry"
   ]
  },
  {
   "cell_type": "code",
   "execution_count": null,
   "id": "536433f5",
   "metadata": {},
   "outputs": [],
   "source": [
    "# Function to extract ordered hourly variables\n",
    "def get_ordered_hourly_variables(params):\n",
    "    return params.get(\"hourly\", [])\n",
    "\n",
    "# Set up API client with caching and retries\n",
    "cache_session = requests_cache.CachedSession('.cache', expire_after=3600)\n",
    "retry_session = retry(cache_session, retries=5, backoff_factor=0.2)\n",
    "openmeteo = openmeteo_requests.Client(session=retry_session)\n",
    "\n",
    "\n",
    "def get_reading(url, latitude, longtitute, hourly, past_days):\n",
    "  params = {\n",
    "    \"latitude\": latitude,\n",
    "    \"longitude\": longtitute,\n",
    "    \"hourly\": hourly,\n",
    "    \"past_days\": past_days,\n",
    "    \"forecast_days\": 0\n",
    "  }\n",
    "\n",
    "  response = openmeteo.weather_api(url, params=params)[0]\n",
    "  hourly = response.Hourly()\n",
    "  hourly_data = {\n",
    "    \"date\": pd.date_range(\n",
    "        start=pd.to_datetime(hourly.Time(), unit=\"s\", utc=True),\n",
    "        end=pd.to_datetime(hourly.TimeEnd(), unit=\"s\", utc=True),\n",
    "        freq=pd.Timedelta(seconds=hourly.Interval()),\n",
    "        inclusive=\"left\"\n",
    "    )\n",
    "  }\n",
    "  for i, var_name in enumerate(get_ordered_hourly_variables(params)):\n",
    "    hourly_data[var_name] = hourly.Variables(i).ValuesAsNumpy()\n",
    "\n",
    "  #Modify df\n",
    "  hourly_df = pd.DataFrame(data=hourly_data)\n",
    "  hourly_df['Date/Time'] = pd.to_datetime(hourly_df['date'], errors='coerce')\n",
    "  hourly_df.set_index('Date/Time', inplace=True)\n",
    "  hourly_df.drop(columns=['date'], inplace = True)\n",
    "\n",
    "  return hourly_df\n",
    "\n",
    "######Sample use#############\n",
    "\n",
    "\n",
    "get_reading(\"https://api.open-meteo.com/v1/forecast\",\n",
    "            31.990534, 35.907787,\n",
    "             [\n",
    "           \"temperature_2m\", \"dew_point_2m\", \"relative_humidity_2m\",\n",
    "           \"rain\", \"pressure_msl\", \"wind_speed_10m\", \"wind_direction_10m\"],\n",
    "            5)\n"
   ]
  }
 ],
 "metadata": {
  "language_info": {
   "name": "python"
  }
 },
 "nbformat": 4,
 "nbformat_minor": 5
}
